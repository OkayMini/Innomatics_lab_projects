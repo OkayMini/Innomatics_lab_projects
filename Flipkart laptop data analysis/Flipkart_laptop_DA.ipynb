{
 "cells": [
  {
   "cell_type": "markdown",
   "id": "18b9d78b",
   "metadata": {},
   "source": [
    "## Flipkart Laptop Data\n",
    "### Objective of the analysis\n",
    "+ Gain business insights on product pricing"
   ]
  },
  {
   "cell_type": "markdown",
   "id": "b162048b",
   "metadata": {},
   "source": [
    "### Importing libraries"
   ]
  },
  {
   "cell_type": "code",
   "execution_count": 794,
   "id": "24a5934b",
   "metadata": {},
   "outputs": [],
   "source": [
    "import pandas as pd\n",
    "import numpy as np\n",
    "import seaborn as sns\n",
    "import re\n",
    "from sklearn import preprocessing\n",
    "from statsmodels.stats.outliers_influence import variance_inflation_factor\n",
    "import matplotlib.pyplot as plt\n",
    "from sklearn.model_selection import train_test_split\n",
    "from sklearn.ensemble import RandomForestRegressor\n",
    "from sklearn.metrics import r2_score"
   ]
  },
  {
   "cell_type": "code",
   "execution_count": 795,
   "id": "7267ae98",
   "metadata": {},
   "outputs": [
    {
     "name": "stdout",
     "output_type": "stream",
     "text": [
      "Defaulting to user installation because normal site-packages is not writeable\n",
      "Requirement already satisfied: scikit-learn in c:\\users\\acer\\appdata\\roaming\\python\\python39\\site-packages (1.2.2)\n",
      "Requirement already satisfied: threadpoolctl>=2.0.0 in c:\\programdata\\anaconda3\\lib\\site-packages (from scikit-learn) (2.2.0)\n",
      "Requirement already satisfied: numpy>=1.17.3 in c:\\programdata\\anaconda3\\lib\\site-packages (from scikit-learn) (1.21.5)\n",
      "Requirement already satisfied: scipy>=1.3.2 in c:\\programdata\\anaconda3\\lib\\site-packages (from scikit-learn) (1.7.3)\n",
      "Requirement already satisfied: joblib>=1.1.1 in c:\\users\\acer\\appdata\\roaming\\python\\python39\\site-packages (from scikit-learn) (1.2.0)\n"
     ]
    }
   ],
   "source": [
    "!pip install --upgrade scikit-learn"
   ]
  },
  {
   "cell_type": "markdown",
   "id": "4ee81762",
   "metadata": {},
   "source": [
    "### Importing Data"
   ]
  },
  {
   "cell_type": "code",
   "execution_count": 796,
   "id": "ce0a65ef",
   "metadata": {},
   "outputs": [
    {
     "data": {
      "text/html": [
       "<div>\n",
       "<style scoped>\n",
       "    .dataframe tbody tr th:only-of-type {\n",
       "        vertical-align: middle;\n",
       "    }\n",
       "\n",
       "    .dataframe tbody tr th {\n",
       "        vertical-align: top;\n",
       "    }\n",
       "\n",
       "    .dataframe thead th {\n",
       "        text-align: right;\n",
       "    }\n",
       "</style>\n",
       "<table border=\"1\" class=\"dataframe\">\n",
       "  <thead>\n",
       "    <tr style=\"text-align: right;\">\n",
       "      <th></th>\n",
       "      <th>Product</th>\n",
       "      <th>Rating</th>\n",
       "      <th>MRP</th>\n",
       "      <th>Feature</th>\n",
       "    </tr>\n",
       "  </thead>\n",
       "  <tbody>\n",
       "    <tr>\n",
       "      <th>0</th>\n",
       "      <td>Lenovo IdeaPad 3 Core i3 11th Gen - (8 GB/256 ...</td>\n",
       "      <td>4.2</td>\n",
       "      <td>₹36,990</td>\n",
       "      <td>Intel Core i3 Processor (11th Gen)8 GB DDR4 RA...</td>\n",
       "    </tr>\n",
       "    <tr>\n",
       "      <th>1</th>\n",
       "      <td>Lenovo IdeaPad 3 Core i3 11th Gen - (8 GB/512 ...</td>\n",
       "      <td>4.2</td>\n",
       "      <td>₹39,990</td>\n",
       "      <td>Intel Core i3 Processor (11th Gen)8 GB DDR4 RA...</td>\n",
       "    </tr>\n",
       "    <tr>\n",
       "      <th>2</th>\n",
       "      <td>ASUS VivoBook 15 (2022) Core i3 10th Gen - (8 ...</td>\n",
       "      <td>4.3</td>\n",
       "      <td>₹32,990</td>\n",
       "      <td>Intel Core i3 Processor (10th Gen)8 GB DDR4 RA...</td>\n",
       "    </tr>\n",
       "    <tr>\n",
       "      <th>3</th>\n",
       "      <td>HP Pavilion Ryzen 5 Hexa Core AMD R5-5600H - (...</td>\n",
       "      <td>4.4</td>\n",
       "      <td>₹49,990</td>\n",
       "      <td>AMD Ryzen 5 Hexa Core Processor8 GB DDR4 RAM64...</td>\n",
       "    </tr>\n",
       "    <tr>\n",
       "      <th>4</th>\n",
       "      <td>ASUS TUF Gaming F15 Core i5 10th Gen - (8 GB/5...</td>\n",
       "      <td>4.4</td>\n",
       "      <td>₹49,990</td>\n",
       "      <td>Intel Core i5 Processor (10th Gen)8 GB DDR4 RA...</td>\n",
       "    </tr>\n",
       "  </tbody>\n",
       "</table>\n",
       "</div>"
      ],
      "text/plain": [
       "                                             Product  Rating      MRP  \\\n",
       "0  Lenovo IdeaPad 3 Core i3 11th Gen - (8 GB/256 ...     4.2  ₹36,990   \n",
       "1  Lenovo IdeaPad 3 Core i3 11th Gen - (8 GB/512 ...     4.2  ₹39,990   \n",
       "2  ASUS VivoBook 15 (2022) Core i3 10th Gen - (8 ...     4.3  ₹32,990   \n",
       "3  HP Pavilion Ryzen 5 Hexa Core AMD R5-5600H - (...     4.4  ₹49,990   \n",
       "4  ASUS TUF Gaming F15 Core i5 10th Gen - (8 GB/5...     4.4  ₹49,990   \n",
       "\n",
       "                                             Feature  \n",
       "0  Intel Core i3 Processor (11th Gen)8 GB DDR4 RA...  \n",
       "1  Intel Core i3 Processor (11th Gen)8 GB DDR4 RA...  \n",
       "2  Intel Core i3 Processor (10th Gen)8 GB DDR4 RA...  \n",
       "3  AMD Ryzen 5 Hexa Core Processor8 GB DDR4 RAM64...  \n",
       "4  Intel Core i5 Processor (10th Gen)8 GB DDR4 RA...  "
      ]
     },
     "execution_count": 796,
     "metadata": {},
     "output_type": "execute_result"
    }
   ],
   "source": [
    "df = pd.read_csv('laptop_details.csv')\n",
    "df.head()"
   ]
  },
  {
   "cell_type": "code",
   "execution_count": 797,
   "id": "f4c8d3d0",
   "metadata": {},
   "outputs": [
    {
     "data": {
      "text/plain": [
       "Index(['Product', 'Rating', 'MRP', 'Feature'], dtype='object')"
      ]
     },
     "execution_count": 797,
     "metadata": {},
     "output_type": "execute_result"
    }
   ],
   "source": [
    "df.columns"
   ]
  },
  {
   "cell_type": "code",
   "execution_count": 798,
   "id": "d103c4e7",
   "metadata": {},
   "outputs": [
    {
     "data": {
      "text/plain": [
       "(720, 4)"
      ]
     },
     "execution_count": 798,
     "metadata": {},
     "output_type": "execute_result"
    }
   ],
   "source": [
    "df.shape"
   ]
  },
  {
   "cell_type": "code",
   "execution_count": 799,
   "id": "cc9c63e3",
   "metadata": {},
   "outputs": [
    {
     "name": "stdout",
     "output_type": "stream",
     "text": [
      "<class 'pandas.core.frame.DataFrame'>\n",
      "RangeIndex: 720 entries, 0 to 719\n",
      "Data columns (total 4 columns):\n",
      " #   Column   Non-Null Count  Dtype  \n",
      "---  ------   --------------  -----  \n",
      " 0   Product  720 non-null    object \n",
      " 1   Rating   581 non-null    float64\n",
      " 2   MRP      720 non-null    object \n",
      " 3   Feature  720 non-null    object \n",
      "dtypes: float64(1), object(3)\n",
      "memory usage: 22.6+ KB\n"
     ]
    }
   ],
   "source": [
    "df.info()"
   ]
  },
  {
   "cell_type": "markdown",
   "id": "4f59d1c0",
   "metadata": {},
   "source": [
    "### Typecasting "
   ]
  },
  {
   "cell_type": "code",
   "execution_count": 800,
   "id": "150c1c7c",
   "metadata": {},
   "outputs": [],
   "source": [
    "#Typecasting on the MRP column\n",
    "df['MRP'] = df['MRP'].astype(str).str.replace('[₹,]', '', regex=True)\n",
    "df['MRP'] = df['MRP'].astype('int64')"
   ]
  },
  {
   "cell_type": "code",
   "execution_count": 801,
   "id": "230476db",
   "metadata": {},
   "outputs": [
    {
     "name": "stdout",
     "output_type": "stream",
     "text": [
      "<class 'pandas.core.frame.DataFrame'>\n",
      "RangeIndex: 720 entries, 0 to 719\n",
      "Data columns (total 4 columns):\n",
      " #   Column   Non-Null Count  Dtype  \n",
      "---  ------   --------------  -----  \n",
      " 0   Product  720 non-null    object \n",
      " 1   Rating   581 non-null    float64\n",
      " 2   MRP      720 non-null    int64  \n",
      " 3   Feature  720 non-null    object \n",
      "dtypes: float64(1), int64(1), object(2)\n",
      "memory usage: 22.6+ KB\n"
     ]
    }
   ],
   "source": [
    "df.info()"
   ]
  },
  {
   "cell_type": "code",
   "execution_count": 802,
   "id": "8b1172a1",
   "metadata": {},
   "outputs": [
    {
     "data": {
      "text/html": [
       "<div>\n",
       "<style scoped>\n",
       "    .dataframe tbody tr th:only-of-type {\n",
       "        vertical-align: middle;\n",
       "    }\n",
       "\n",
       "    .dataframe tbody tr th {\n",
       "        vertical-align: top;\n",
       "    }\n",
       "\n",
       "    .dataframe thead th {\n",
       "        text-align: right;\n",
       "    }\n",
       "</style>\n",
       "<table border=\"1\" class=\"dataframe\">\n",
       "  <thead>\n",
       "    <tr style=\"text-align: right;\">\n",
       "      <th></th>\n",
       "      <th>Product</th>\n",
       "      <th>Rating</th>\n",
       "      <th>MRP</th>\n",
       "      <th>Feature</th>\n",
       "    </tr>\n",
       "  </thead>\n",
       "  <tbody>\n",
       "    <tr>\n",
       "      <th>0</th>\n",
       "      <td>Lenovo IdeaPad 3 Core i3 11th Gen - (8 GB/256 ...</td>\n",
       "      <td>4.2</td>\n",
       "      <td>36990</td>\n",
       "      <td>Intel Core i3 Processor (11th Gen)8 GB DDR4 RA...</td>\n",
       "    </tr>\n",
       "    <tr>\n",
       "      <th>1</th>\n",
       "      <td>Lenovo IdeaPad 3 Core i3 11th Gen - (8 GB/512 ...</td>\n",
       "      <td>4.2</td>\n",
       "      <td>39990</td>\n",
       "      <td>Intel Core i3 Processor (11th Gen)8 GB DDR4 RA...</td>\n",
       "    </tr>\n",
       "    <tr>\n",
       "      <th>2</th>\n",
       "      <td>ASUS VivoBook 15 (2022) Core i3 10th Gen - (8 ...</td>\n",
       "      <td>4.3</td>\n",
       "      <td>32990</td>\n",
       "      <td>Intel Core i3 Processor (10th Gen)8 GB DDR4 RA...</td>\n",
       "    </tr>\n",
       "    <tr>\n",
       "      <th>3</th>\n",
       "      <td>HP Pavilion Ryzen 5 Hexa Core AMD R5-5600H - (...</td>\n",
       "      <td>4.4</td>\n",
       "      <td>49990</td>\n",
       "      <td>AMD Ryzen 5 Hexa Core Processor8 GB DDR4 RAM64...</td>\n",
       "    </tr>\n",
       "    <tr>\n",
       "      <th>4</th>\n",
       "      <td>ASUS TUF Gaming F15 Core i5 10th Gen - (8 GB/5...</td>\n",
       "      <td>4.4</td>\n",
       "      <td>49990</td>\n",
       "      <td>Intel Core i5 Processor (10th Gen)8 GB DDR4 RA...</td>\n",
       "    </tr>\n",
       "  </tbody>\n",
       "</table>\n",
       "</div>"
      ],
      "text/plain": [
       "                                             Product  Rating    MRP  \\\n",
       "0  Lenovo IdeaPad 3 Core i3 11th Gen - (8 GB/256 ...     4.2  36990   \n",
       "1  Lenovo IdeaPad 3 Core i3 11th Gen - (8 GB/512 ...     4.2  39990   \n",
       "2  ASUS VivoBook 15 (2022) Core i3 10th Gen - (8 ...     4.3  32990   \n",
       "3  HP Pavilion Ryzen 5 Hexa Core AMD R5-5600H - (...     4.4  49990   \n",
       "4  ASUS TUF Gaming F15 Core i5 10th Gen - (8 GB/5...     4.4  49990   \n",
       "\n",
       "                                             Feature  \n",
       "0  Intel Core i3 Processor (11th Gen)8 GB DDR4 RA...  \n",
       "1  Intel Core i3 Processor (11th Gen)8 GB DDR4 RA...  \n",
       "2  Intel Core i3 Processor (10th Gen)8 GB DDR4 RA...  \n",
       "3  AMD Ryzen 5 Hexa Core Processor8 GB DDR4 RAM64...  \n",
       "4  Intel Core i5 Processor (10th Gen)8 GB DDR4 RA...  "
      ]
     },
     "execution_count": 802,
     "metadata": {},
     "output_type": "execute_result"
    }
   ],
   "source": [
    "df.head()"
   ]
  },
  {
   "cell_type": "markdown",
   "id": "fec64275",
   "metadata": {},
   "source": [
    "### Null Values"
   ]
  },
  {
   "cell_type": "code",
   "execution_count": 803,
   "id": "9937c521",
   "metadata": {},
   "outputs": [
    {
     "data": {
      "text/plain": [
       "Product    False\n",
       "Rating      True\n",
       "MRP        False\n",
       "Feature    False\n",
       "dtype: bool"
      ]
     },
     "execution_count": 803,
     "metadata": {},
     "output_type": "execute_result"
    }
   ],
   "source": [
    "df.isnull().any()"
   ]
  },
  {
   "cell_type": "markdown",
   "id": "495e1d09",
   "metadata": {},
   "source": [
    "### Feature engineering AND feature extraction"
   ]
  },
  {
   "cell_type": "code",
   "execution_count": 804,
   "id": "1c9041d2",
   "metadata": {},
   "outputs": [],
   "source": [
    "#Removing Rating column as it will not help in decieding the price of a laptop\n",
    "#making chnges in the copied column \n",
    "df.drop(columns='Rating',inplace=True)"
   ]
  },
  {
   "cell_type": "code",
   "execution_count": 805,
   "id": "6343041c",
   "metadata": {},
   "outputs": [
    {
     "data": {
      "text/plain": [
       "'Lenovo IdeaPad 3 Core i3 11th Gen - (8 GB/256 GB SSD/Windows 11 Home) 14ITL05 Thin and Light Laptop'"
      ]
     },
     "execution_count": 805,
     "metadata": {},
     "output_type": "execute_result"
    }
   ],
   "source": [
    "df['Product'][0]"
   ]
  },
  {
   "cell_type": "markdown",
   "id": "17d70cbb",
   "metadata": {},
   "source": [
    "### Feature extraction\n",
    "<h5> Extract the company name from the product column and extract all the necessary \n",
    "features from the feature column that will help in \n",
    "determining the price of the product.</h5>"
   ]
  },
  {
   "cell_type": "code",
   "execution_count": 806,
   "id": "75b73536",
   "metadata": {},
   "outputs": [],
   "source": [
    "pattern = r'(Lenovo|ASUS|HP|DELL|Redmi|realme|acer|APPLE|MSI|Vaio|Ultimus|Infinix|RedmiBook|SAMSUNG|GIGABYTE|Nokia|ALIENWAR)'\n",
    "df['Company'] = [re.search(pattern, x).group() for x in df['Product']]"
   ]
  },
  {
   "cell_type": "code",
   "execution_count": 807,
   "id": "ce873615",
   "metadata": {},
   "outputs": [
    {
     "data": {
      "text/html": [
       "<div>\n",
       "<style scoped>\n",
       "    .dataframe tbody tr th:only-of-type {\n",
       "        vertical-align: middle;\n",
       "    }\n",
       "\n",
       "    .dataframe tbody tr th {\n",
       "        vertical-align: top;\n",
       "    }\n",
       "\n",
       "    .dataframe thead th {\n",
       "        text-align: right;\n",
       "    }\n",
       "</style>\n",
       "<table border=\"1\" class=\"dataframe\">\n",
       "  <thead>\n",
       "    <tr style=\"text-align: right;\">\n",
       "      <th></th>\n",
       "      <th>Product</th>\n",
       "      <th>MRP</th>\n",
       "      <th>Feature</th>\n",
       "      <th>Company</th>\n",
       "    </tr>\n",
       "  </thead>\n",
       "  <tbody>\n",
       "    <tr>\n",
       "      <th>0</th>\n",
       "      <td>Lenovo IdeaPad 3 Core i3 11th Gen - (8 GB/256 ...</td>\n",
       "      <td>36990</td>\n",
       "      <td>Intel Core i3 Processor (11th Gen)8 GB DDR4 RA...</td>\n",
       "      <td>Lenovo</td>\n",
       "    </tr>\n",
       "    <tr>\n",
       "      <th>1</th>\n",
       "      <td>Lenovo IdeaPad 3 Core i3 11th Gen - (8 GB/512 ...</td>\n",
       "      <td>39990</td>\n",
       "      <td>Intel Core i3 Processor (11th Gen)8 GB DDR4 RA...</td>\n",
       "      <td>Lenovo</td>\n",
       "    </tr>\n",
       "    <tr>\n",
       "      <th>2</th>\n",
       "      <td>ASUS VivoBook 15 (2022) Core i3 10th Gen - (8 ...</td>\n",
       "      <td>32990</td>\n",
       "      <td>Intel Core i3 Processor (10th Gen)8 GB DDR4 RA...</td>\n",
       "      <td>ASUS</td>\n",
       "    </tr>\n",
       "    <tr>\n",
       "      <th>3</th>\n",
       "      <td>HP Pavilion Ryzen 5 Hexa Core AMD R5-5600H - (...</td>\n",
       "      <td>49990</td>\n",
       "      <td>AMD Ryzen 5 Hexa Core Processor8 GB DDR4 RAM64...</td>\n",
       "      <td>HP</td>\n",
       "    </tr>\n",
       "    <tr>\n",
       "      <th>4</th>\n",
       "      <td>ASUS TUF Gaming F15 Core i5 10th Gen - (8 GB/5...</td>\n",
       "      <td>49990</td>\n",
       "      <td>Intel Core i5 Processor (10th Gen)8 GB DDR4 RA...</td>\n",
       "      <td>ASUS</td>\n",
       "    </tr>\n",
       "    <tr>\n",
       "      <th>...</th>\n",
       "      <td>...</td>\n",
       "      <td>...</td>\n",
       "      <td>...</td>\n",
       "      <td>...</td>\n",
       "    </tr>\n",
       "    <tr>\n",
       "      <th>715</th>\n",
       "      <td>ASUS Chromebook Flip Touch Celeron Dual Core -...</td>\n",
       "      <td>23490</td>\n",
       "      <td>Intel Celeron Dual Core Processor4 GB LPDDR4 R...</td>\n",
       "      <td>ASUS</td>\n",
       "    </tr>\n",
       "    <tr>\n",
       "      <th>716</th>\n",
       "      <td>Lenovo IdeaPad Gaming 3 Ryzen 7 Octa Core AMD ...</td>\n",
       "      <td>73490</td>\n",
       "      <td>AMD Ryzen 7 Octa Core Processor8 GB DDR4 RAM64...</td>\n",
       "      <td>Lenovo</td>\n",
       "    </tr>\n",
       "    <tr>\n",
       "      <th>717</th>\n",
       "      <td>ASUS ROG Zephyrus G15 Ryzen 9 Octa Core 6900HS...</td>\n",
       "      <td>194990</td>\n",
       "      <td>AMD Ryzen 9 Octa Core Processor16 GB DDR5 RAM6...</td>\n",
       "      <td>ASUS</td>\n",
       "    </tr>\n",
       "    <tr>\n",
       "      <th>718</th>\n",
       "      <td>ASUS Zenbook Flip 14 OLED (2022) Touch Panel C...</td>\n",
       "      <td>125990</td>\n",
       "      <td>Intel Core i7 Processor (12th Gen)16 GB LPDDR5...</td>\n",
       "      <td>ASUS</td>\n",
       "    </tr>\n",
       "    <tr>\n",
       "      <th>719</th>\n",
       "      <td>Lenovo Ideapad Slim 3i Core i5 10th Gen - (8 G...</td>\n",
       "      <td>50990</td>\n",
       "      <td>Intel Core i5 Processor (10th Gen)8 GB DDR4 RA...</td>\n",
       "      <td>Lenovo</td>\n",
       "    </tr>\n",
       "  </tbody>\n",
       "</table>\n",
       "<p>720 rows × 4 columns</p>\n",
       "</div>"
      ],
      "text/plain": [
       "                                               Product     MRP  \\\n",
       "0    Lenovo IdeaPad 3 Core i3 11th Gen - (8 GB/256 ...   36990   \n",
       "1    Lenovo IdeaPad 3 Core i3 11th Gen - (8 GB/512 ...   39990   \n",
       "2    ASUS VivoBook 15 (2022) Core i3 10th Gen - (8 ...   32990   \n",
       "3    HP Pavilion Ryzen 5 Hexa Core AMD R5-5600H - (...   49990   \n",
       "4    ASUS TUF Gaming F15 Core i5 10th Gen - (8 GB/5...   49990   \n",
       "..                                                 ...     ...   \n",
       "715  ASUS Chromebook Flip Touch Celeron Dual Core -...   23490   \n",
       "716  Lenovo IdeaPad Gaming 3 Ryzen 7 Octa Core AMD ...   73490   \n",
       "717  ASUS ROG Zephyrus G15 Ryzen 9 Octa Core 6900HS...  194990   \n",
       "718  ASUS Zenbook Flip 14 OLED (2022) Touch Panel C...  125990   \n",
       "719  Lenovo Ideapad Slim 3i Core i5 10th Gen - (8 G...   50990   \n",
       "\n",
       "                                               Feature Company  \n",
       "0    Intel Core i3 Processor (11th Gen)8 GB DDR4 RA...  Lenovo  \n",
       "1    Intel Core i3 Processor (11th Gen)8 GB DDR4 RA...  Lenovo  \n",
       "2    Intel Core i3 Processor (10th Gen)8 GB DDR4 RA...    ASUS  \n",
       "3    AMD Ryzen 5 Hexa Core Processor8 GB DDR4 RAM64...      HP  \n",
       "4    Intel Core i5 Processor (10th Gen)8 GB DDR4 RA...    ASUS  \n",
       "..                                                 ...     ...  \n",
       "715  Intel Celeron Dual Core Processor4 GB LPDDR4 R...    ASUS  \n",
       "716  AMD Ryzen 7 Octa Core Processor8 GB DDR4 RAM64...  Lenovo  \n",
       "717  AMD Ryzen 9 Octa Core Processor16 GB DDR5 RAM6...    ASUS  \n",
       "718  Intel Core i7 Processor (12th Gen)16 GB LPDDR5...    ASUS  \n",
       "719  Intel Core i5 Processor (10th Gen)8 GB DDR4 RA...  Lenovo  \n",
       "\n",
       "[720 rows x 4 columns]"
      ]
     },
     "execution_count": 807,
     "metadata": {},
     "output_type": "execute_result"
    }
   ],
   "source": [
    "df"
   ]
  },
  {
   "cell_type": "code",
   "execution_count": 808,
   "id": "f05d0afc",
   "metadata": {},
   "outputs": [
    {
     "name": "stdout",
     "output_type": "stream",
     "text": [
      "<class 'pandas.core.frame.DataFrame'>\n",
      "RangeIndex: 720 entries, 0 to 719\n",
      "Data columns (total 4 columns):\n",
      " #   Column   Non-Null Count  Dtype \n",
      "---  ------   --------------  ----- \n",
      " 0   Product  720 non-null    object\n",
      " 1   MRP      720 non-null    int64 \n",
      " 2   Feature  720 non-null    object\n",
      " 3   Company  720 non-null    object\n",
      "dtypes: int64(1), object(3)\n",
      "memory usage: 22.6+ KB\n"
     ]
    }
   ],
   "source": [
    "df.info()"
   ]
  },
  {
   "cell_type": "code",
   "execution_count": 809,
   "id": "dcba0e3b",
   "metadata": {},
   "outputs": [
    {
     "data": {
      "text/html": [
       "<div>\n",
       "<style scoped>\n",
       "    .dataframe tbody tr th:only-of-type {\n",
       "        vertical-align: middle;\n",
       "    }\n",
       "\n",
       "    .dataframe tbody tr th {\n",
       "        vertical-align: top;\n",
       "    }\n",
       "\n",
       "    .dataframe thead th {\n",
       "        text-align: right;\n",
       "    }\n",
       "</style>\n",
       "<table border=\"1\" class=\"dataframe\">\n",
       "  <thead>\n",
       "    <tr style=\"text-align: right;\">\n",
       "      <th></th>\n",
       "      <th>Product</th>\n",
       "      <th>MRP</th>\n",
       "      <th>Feature</th>\n",
       "      <th>Company</th>\n",
       "      <th>OS</th>\n",
       "    </tr>\n",
       "  </thead>\n",
       "  <tbody>\n",
       "    <tr>\n",
       "      <th>0</th>\n",
       "      <td>Lenovo IdeaPad 3 Core i3 11th Gen - (8 GB/256 ...</td>\n",
       "      <td>36990</td>\n",
       "      <td>Intel Core i3 Processor (11th Gen)8 GB DDR4 RA...</td>\n",
       "      <td>Lenovo</td>\n",
       "      <td>Windows 11</td>\n",
       "    </tr>\n",
       "    <tr>\n",
       "      <th>1</th>\n",
       "      <td>Lenovo IdeaPad 3 Core i3 11th Gen - (8 GB/512 ...</td>\n",
       "      <td>39990</td>\n",
       "      <td>Intel Core i3 Processor (11th Gen)8 GB DDR4 RA...</td>\n",
       "      <td>Lenovo</td>\n",
       "      <td>Windows 11</td>\n",
       "    </tr>\n",
       "    <tr>\n",
       "      <th>2</th>\n",
       "      <td>ASUS VivoBook 15 (2022) Core i3 10th Gen - (8 ...</td>\n",
       "      <td>32990</td>\n",
       "      <td>Intel Core i3 Processor (10th Gen)8 GB DDR4 RA...</td>\n",
       "      <td>ASUS</td>\n",
       "      <td>Windows 11</td>\n",
       "    </tr>\n",
       "    <tr>\n",
       "      <th>3</th>\n",
       "      <td>HP Pavilion Ryzen 5 Hexa Core AMD R5-5600H - (...</td>\n",
       "      <td>49990</td>\n",
       "      <td>AMD Ryzen 5 Hexa Core Processor8 GB DDR4 RAM64...</td>\n",
       "      <td>HP</td>\n",
       "      <td>Windows 10</td>\n",
       "    </tr>\n",
       "    <tr>\n",
       "      <th>4</th>\n",
       "      <td>ASUS TUF Gaming F15 Core i5 10th Gen - (8 GB/5...</td>\n",
       "      <td>49990</td>\n",
       "      <td>Intel Core i5 Processor (10th Gen)8 GB DDR4 RA...</td>\n",
       "      <td>ASUS</td>\n",
       "      <td>Windows 11</td>\n",
       "    </tr>\n",
       "  </tbody>\n",
       "</table>\n",
       "</div>"
      ],
      "text/plain": [
       "                                             Product    MRP  \\\n",
       "0  Lenovo IdeaPad 3 Core i3 11th Gen - (8 GB/256 ...  36990   \n",
       "1  Lenovo IdeaPad 3 Core i3 11th Gen - (8 GB/512 ...  39990   \n",
       "2  ASUS VivoBook 15 (2022) Core i3 10th Gen - (8 ...  32990   \n",
       "3  HP Pavilion Ryzen 5 Hexa Core AMD R5-5600H - (...  49990   \n",
       "4  ASUS TUF Gaming F15 Core i5 10th Gen - (8 GB/5...  49990   \n",
       "\n",
       "                                             Feature Company           OS  \n",
       "0  Intel Core i3 Processor (11th Gen)8 GB DDR4 RA...  Lenovo  Windows 11   \n",
       "1  Intel Core i3 Processor (11th Gen)8 GB DDR4 RA...  Lenovo  Windows 11   \n",
       "2  Intel Core i3 Processor (10th Gen)8 GB DDR4 RA...    ASUS  Windows 11   \n",
       "3  AMD Ryzen 5 Hexa Core Processor8 GB DDR4 RAM64...      HP  Windows 10   \n",
       "4  Intel Core i5 Processor (10th Gen)8 GB DDR4 RA...    ASUS  Windows 11   "
      ]
     },
     "execution_count": 809,
     "metadata": {},
     "output_type": "execute_result"
    }
   ],
   "source": [
    "# extract Operating System\n",
    "df['OS'] = df['Feature'].str.extract('(Mac\\s|Windows\\s\\d+\\s)')\n",
    "df.head()"
   ]
  },
  {
   "cell_type": "code",
   "execution_count": 810,
   "id": "847863ec",
   "metadata": {},
   "outputs": [],
   "source": [
    "# extract Processor \n",
    "df['Processor'] = df['Feature'].str.extract('(^.+?(?= Processor))')"
   ]
  },
  {
   "cell_type": "code",
   "execution_count": 811,
   "id": "6cdc0133",
   "metadata": {},
   "outputs": [],
   "source": [
    "df['Processor'] = df['Processor'].apply(lambda x:\" \".join(x.split()[0:3]))"
   ]
  },
  {
   "cell_type": "code",
   "execution_count": 812,
   "id": "5e60dafa",
   "metadata": {},
   "outputs": [],
   "source": [
    "def fetch_processor(text):\n",
    "    if text == 'Intel Core i7' or text == 'Intel Core i5' or text == 'Intel Core i3':\n",
    "        return text\n",
    "    else:\n",
    "        if text.split()[0] == 'Intel':\n",
    "            return 'Other Intel Processor'\n",
    "        else:\n",
    "            return 'AMD Processor'"
   ]
  },
  {
   "cell_type": "code",
   "execution_count": 813,
   "id": "6fc81e8c",
   "metadata": {},
   "outputs": [
    {
     "data": {
      "text/html": [
       "<div>\n",
       "<style scoped>\n",
       "    .dataframe tbody tr th:only-of-type {\n",
       "        vertical-align: middle;\n",
       "    }\n",
       "\n",
       "    .dataframe tbody tr th {\n",
       "        vertical-align: top;\n",
       "    }\n",
       "\n",
       "    .dataframe thead th {\n",
       "        text-align: right;\n",
       "    }\n",
       "</style>\n",
       "<table border=\"1\" class=\"dataframe\">\n",
       "  <thead>\n",
       "    <tr style=\"text-align: right;\">\n",
       "      <th></th>\n",
       "      <th>Product</th>\n",
       "      <th>MRP</th>\n",
       "      <th>Feature</th>\n",
       "      <th>Company</th>\n",
       "      <th>OS</th>\n",
       "      <th>Processor</th>\n",
       "    </tr>\n",
       "  </thead>\n",
       "  <tbody>\n",
       "    <tr>\n",
       "      <th>0</th>\n",
       "      <td>Lenovo IdeaPad 3 Core i3 11th Gen - (8 GB/256 ...</td>\n",
       "      <td>36990</td>\n",
       "      <td>Intel Core i3 Processor (11th Gen)8 GB DDR4 RA...</td>\n",
       "      <td>Lenovo</td>\n",
       "      <td>Windows 11</td>\n",
       "      <td>Intel Core i3</td>\n",
       "    </tr>\n",
       "    <tr>\n",
       "      <th>1</th>\n",
       "      <td>Lenovo IdeaPad 3 Core i3 11th Gen - (8 GB/512 ...</td>\n",
       "      <td>39990</td>\n",
       "      <td>Intel Core i3 Processor (11th Gen)8 GB DDR4 RA...</td>\n",
       "      <td>Lenovo</td>\n",
       "      <td>Windows 11</td>\n",
       "      <td>Intel Core i3</td>\n",
       "    </tr>\n",
       "    <tr>\n",
       "      <th>2</th>\n",
       "      <td>ASUS VivoBook 15 (2022) Core i3 10th Gen - (8 ...</td>\n",
       "      <td>32990</td>\n",
       "      <td>Intel Core i3 Processor (10th Gen)8 GB DDR4 RA...</td>\n",
       "      <td>ASUS</td>\n",
       "      <td>Windows 11</td>\n",
       "      <td>Intel Core i3</td>\n",
       "    </tr>\n",
       "    <tr>\n",
       "      <th>3</th>\n",
       "      <td>HP Pavilion Ryzen 5 Hexa Core AMD R5-5600H - (...</td>\n",
       "      <td>49990</td>\n",
       "      <td>AMD Ryzen 5 Hexa Core Processor8 GB DDR4 RAM64...</td>\n",
       "      <td>HP</td>\n",
       "      <td>Windows 10</td>\n",
       "      <td>AMD Processor</td>\n",
       "    </tr>\n",
       "    <tr>\n",
       "      <th>4</th>\n",
       "      <td>ASUS TUF Gaming F15 Core i5 10th Gen - (8 GB/5...</td>\n",
       "      <td>49990</td>\n",
       "      <td>Intel Core i5 Processor (10th Gen)8 GB DDR4 RA...</td>\n",
       "      <td>ASUS</td>\n",
       "      <td>Windows 11</td>\n",
       "      <td>Intel Core i5</td>\n",
       "    </tr>\n",
       "    <tr>\n",
       "      <th>5</th>\n",
       "      <td>HP 14s Intel Core i3 11th Gen - (8 GB/256 GB S...</td>\n",
       "      <td>36990</td>\n",
       "      <td>Intel Core i3 Processor (11th Gen)8 GB DDR4 RA...</td>\n",
       "      <td>HP</td>\n",
       "      <td>Windows 11</td>\n",
       "      <td>Intel Core i3</td>\n",
       "    </tr>\n",
       "    <tr>\n",
       "      <th>6</th>\n",
       "      <td>DELL Inspiron Core i3 11th Gen - (8 GB/1 TB HD...</td>\n",
       "      <td>38990</td>\n",
       "      <td>Processor: Intel i3-1115G4 (Base- 1.70 GHz &amp; T...</td>\n",
       "      <td>DELL</td>\n",
       "      <td>Windows 11</td>\n",
       "      <td>AMD Processor</td>\n",
       "    </tr>\n",
       "    <tr>\n",
       "      <th>7</th>\n",
       "      <td>RedmiBook Pro Core i5 11th Gen - (8 GB/512 GB ...</td>\n",
       "      <td>39990</td>\n",
       "      <td>Intel Core i5 Processor (11th Gen)8 GB DDR4 RA...</td>\n",
       "      <td>Redmi</td>\n",
       "      <td>Windows 11</td>\n",
       "      <td>Intel Core i5</td>\n",
       "    </tr>\n",
       "    <tr>\n",
       "      <th>8</th>\n",
       "      <td>realme Book (Slim) Core i3 11th Gen - (8 GB/25...</td>\n",
       "      <td>46990</td>\n",
       "      <td>Stylish &amp; Portable Thin and Light Laptop14 inc...</td>\n",
       "      <td>realme</td>\n",
       "      <td>Windows 10</td>\n",
       "      <td>AMD Processor</td>\n",
       "    </tr>\n",
       "    <tr>\n",
       "      <th>9</th>\n",
       "      <td>ASUS VivoBook 14 (2022) Ryzen 7 Quad Core AMD ...</td>\n",
       "      <td>44990</td>\n",
       "      <td>AMD Ryzen 7 Quad Core Processor16 GB DDR4 RAM6...</td>\n",
       "      <td>ASUS</td>\n",
       "      <td>Windows 11</td>\n",
       "      <td>AMD Processor</td>\n",
       "    </tr>\n",
       "  </tbody>\n",
       "</table>\n",
       "</div>"
      ],
      "text/plain": [
       "                                             Product    MRP  \\\n",
       "0  Lenovo IdeaPad 3 Core i3 11th Gen - (8 GB/256 ...  36990   \n",
       "1  Lenovo IdeaPad 3 Core i3 11th Gen - (8 GB/512 ...  39990   \n",
       "2  ASUS VivoBook 15 (2022) Core i3 10th Gen - (8 ...  32990   \n",
       "3  HP Pavilion Ryzen 5 Hexa Core AMD R5-5600H - (...  49990   \n",
       "4  ASUS TUF Gaming F15 Core i5 10th Gen - (8 GB/5...  49990   \n",
       "5  HP 14s Intel Core i3 11th Gen - (8 GB/256 GB S...  36990   \n",
       "6  DELL Inspiron Core i3 11th Gen - (8 GB/1 TB HD...  38990   \n",
       "7  RedmiBook Pro Core i5 11th Gen - (8 GB/512 GB ...  39990   \n",
       "8  realme Book (Slim) Core i3 11th Gen - (8 GB/25...  46990   \n",
       "9  ASUS VivoBook 14 (2022) Ryzen 7 Quad Core AMD ...  44990   \n",
       "\n",
       "                                             Feature Company           OS  \\\n",
       "0  Intel Core i3 Processor (11th Gen)8 GB DDR4 RA...  Lenovo  Windows 11    \n",
       "1  Intel Core i3 Processor (11th Gen)8 GB DDR4 RA...  Lenovo  Windows 11    \n",
       "2  Intel Core i3 Processor (10th Gen)8 GB DDR4 RA...    ASUS  Windows 11    \n",
       "3  AMD Ryzen 5 Hexa Core Processor8 GB DDR4 RAM64...      HP  Windows 10    \n",
       "4  Intel Core i5 Processor (10th Gen)8 GB DDR4 RA...    ASUS  Windows 11    \n",
       "5  Intel Core i3 Processor (11th Gen)8 GB DDR4 RA...      HP  Windows 11    \n",
       "6  Processor: Intel i3-1115G4 (Base- 1.70 GHz & T...    DELL  Windows 11    \n",
       "7  Intel Core i5 Processor (11th Gen)8 GB DDR4 RA...   Redmi  Windows 11    \n",
       "8  Stylish & Portable Thin and Light Laptop14 inc...  realme  Windows 10    \n",
       "9  AMD Ryzen 7 Quad Core Processor16 GB DDR4 RAM6...    ASUS  Windows 11    \n",
       "\n",
       "       Processor  \n",
       "0  Intel Core i3  \n",
       "1  Intel Core i3  \n",
       "2  Intel Core i3  \n",
       "3  AMD Processor  \n",
       "4  Intel Core i5  \n",
       "5  Intel Core i3  \n",
       "6  AMD Processor  \n",
       "7  Intel Core i5  \n",
       "8  AMD Processor  \n",
       "9  AMD Processor  "
      ]
     },
     "execution_count": 813,
     "metadata": {},
     "output_type": "execute_result"
    }
   ],
   "source": [
    "df['Processor'] = df['Processor'].apply(fetch_processor)\n",
    "df.head(10)"
   ]
  },
  {
   "cell_type": "code",
   "execution_count": 814,
   "id": "f6a68928",
   "metadata": {},
   "outputs": [
    {
     "data": {
      "text/html": [
       "<div>\n",
       "<style scoped>\n",
       "    .dataframe tbody tr th:only-of-type {\n",
       "        vertical-align: middle;\n",
       "    }\n",
       "\n",
       "    .dataframe tbody tr th {\n",
       "        vertical-align: top;\n",
       "    }\n",
       "\n",
       "    .dataframe thead th {\n",
       "        text-align: right;\n",
       "    }\n",
       "</style>\n",
       "<table border=\"1\" class=\"dataframe\">\n",
       "  <thead>\n",
       "    <tr style=\"text-align: right;\">\n",
       "      <th></th>\n",
       "      <th>Product</th>\n",
       "      <th>MRP</th>\n",
       "      <th>Feature</th>\n",
       "      <th>Company</th>\n",
       "      <th>OS</th>\n",
       "      <th>Processor</th>\n",
       "      <th>RAM_type</th>\n",
       "    </tr>\n",
       "  </thead>\n",
       "  <tbody>\n",
       "    <tr>\n",
       "      <th>0</th>\n",
       "      <td>Lenovo IdeaPad 3 Core i3 11th Gen - (8 GB/256 ...</td>\n",
       "      <td>36990</td>\n",
       "      <td>Intel Core i3 Processor (11th Gen)8 GB DDR4 RA...</td>\n",
       "      <td>Lenovo</td>\n",
       "      <td>Windows 11</td>\n",
       "      <td>Intel Core i3</td>\n",
       "      <td>DDR4</td>\n",
       "    </tr>\n",
       "    <tr>\n",
       "      <th>1</th>\n",
       "      <td>Lenovo IdeaPad 3 Core i3 11th Gen - (8 GB/512 ...</td>\n",
       "      <td>39990</td>\n",
       "      <td>Intel Core i3 Processor (11th Gen)8 GB DDR4 RA...</td>\n",
       "      <td>Lenovo</td>\n",
       "      <td>Windows 11</td>\n",
       "      <td>Intel Core i3</td>\n",
       "      <td>DDR4</td>\n",
       "    </tr>\n",
       "    <tr>\n",
       "      <th>2</th>\n",
       "      <td>ASUS VivoBook 15 (2022) Core i3 10th Gen - (8 ...</td>\n",
       "      <td>32990</td>\n",
       "      <td>Intel Core i3 Processor (10th Gen)8 GB DDR4 RA...</td>\n",
       "      <td>ASUS</td>\n",
       "      <td>Windows 11</td>\n",
       "      <td>Intel Core i3</td>\n",
       "      <td>DDR4</td>\n",
       "    </tr>\n",
       "    <tr>\n",
       "      <th>3</th>\n",
       "      <td>HP Pavilion Ryzen 5 Hexa Core AMD R5-5600H - (...</td>\n",
       "      <td>49990</td>\n",
       "      <td>AMD Ryzen 5 Hexa Core Processor8 GB DDR4 RAM64...</td>\n",
       "      <td>HP</td>\n",
       "      <td>Windows 10</td>\n",
       "      <td>AMD Processor</td>\n",
       "      <td>DDR4</td>\n",
       "    </tr>\n",
       "    <tr>\n",
       "      <th>4</th>\n",
       "      <td>ASUS TUF Gaming F15 Core i5 10th Gen - (8 GB/5...</td>\n",
       "      <td>49990</td>\n",
       "      <td>Intel Core i5 Processor (10th Gen)8 GB DDR4 RA...</td>\n",
       "      <td>ASUS</td>\n",
       "      <td>Windows 11</td>\n",
       "      <td>Intel Core i5</td>\n",
       "      <td>DDR4</td>\n",
       "    </tr>\n",
       "  </tbody>\n",
       "</table>\n",
       "</div>"
      ],
      "text/plain": [
       "                                             Product    MRP  \\\n",
       "0  Lenovo IdeaPad 3 Core i3 11th Gen - (8 GB/256 ...  36990   \n",
       "1  Lenovo IdeaPad 3 Core i3 11th Gen - (8 GB/512 ...  39990   \n",
       "2  ASUS VivoBook 15 (2022) Core i3 10th Gen - (8 ...  32990   \n",
       "3  HP Pavilion Ryzen 5 Hexa Core AMD R5-5600H - (...  49990   \n",
       "4  ASUS TUF Gaming F15 Core i5 10th Gen - (8 GB/5...  49990   \n",
       "\n",
       "                                             Feature Company           OS  \\\n",
       "0  Intel Core i3 Processor (11th Gen)8 GB DDR4 RA...  Lenovo  Windows 11    \n",
       "1  Intel Core i3 Processor (11th Gen)8 GB DDR4 RA...  Lenovo  Windows 11    \n",
       "2  Intel Core i3 Processor (10th Gen)8 GB DDR4 RA...    ASUS  Windows 11    \n",
       "3  AMD Ryzen 5 Hexa Core Processor8 GB DDR4 RAM64...      HP  Windows 10    \n",
       "4  Intel Core i5 Processor (10th Gen)8 GB DDR4 RA...    ASUS  Windows 11    \n",
       "\n",
       "       Processor RAM_type  \n",
       "0  Intel Core i3     DDR4  \n",
       "1  Intel Core i3     DDR4  \n",
       "2  Intel Core i3     DDR4  \n",
       "3  AMD Processor     DDR4  \n",
       "4  Intel Core i5     DDR4  "
      ]
     },
     "execution_count": 814,
     "metadata": {},
     "output_type": "execute_result"
    }
   ],
   "source": [
    "# extract RAM type\n",
    "df['RAM_type'] = df['Feature'].str.extract('(DDR[345]?|LPDDR[34x5]?)')\n",
    "df.head()"
   ]
  },
  {
   "cell_type": "code",
   "execution_count": 815,
   "id": "31c4743a",
   "metadata": {},
   "outputs": [],
   "source": [
    "# extract RAM_size\n",
    "df['RAM'] = df['Product'].str.extract('(\\d+ GB)')"
   ]
  },
  {
   "cell_type": "code",
   "execution_count": 816,
   "id": "f52ca64c",
   "metadata": {},
   "outputs": [
    {
     "data": {
      "text/html": [
       "<div>\n",
       "<style scoped>\n",
       "    .dataframe tbody tr th:only-of-type {\n",
       "        vertical-align: middle;\n",
       "    }\n",
       "\n",
       "    .dataframe tbody tr th {\n",
       "        vertical-align: top;\n",
       "    }\n",
       "\n",
       "    .dataframe thead th {\n",
       "        text-align: right;\n",
       "    }\n",
       "</style>\n",
       "<table border=\"1\" class=\"dataframe\">\n",
       "  <thead>\n",
       "    <tr style=\"text-align: right;\">\n",
       "      <th></th>\n",
       "      <th>Product</th>\n",
       "      <th>MRP</th>\n",
       "      <th>Feature</th>\n",
       "      <th>Company</th>\n",
       "      <th>OS</th>\n",
       "      <th>Processor</th>\n",
       "      <th>RAM_type</th>\n",
       "      <th>RAM</th>\n",
       "    </tr>\n",
       "  </thead>\n",
       "  <tbody>\n",
       "    <tr>\n",
       "      <th>0</th>\n",
       "      <td>Lenovo IdeaPad 3 Core i3 11th Gen - (8 GB/256 ...</td>\n",
       "      <td>36990</td>\n",
       "      <td>Intel Core i3 Processor (11th Gen)8 GB DDR4 RA...</td>\n",
       "      <td>Lenovo</td>\n",
       "      <td>Windows 11</td>\n",
       "      <td>Intel Core i3</td>\n",
       "      <td>DDR4</td>\n",
       "      <td>8</td>\n",
       "    </tr>\n",
       "    <tr>\n",
       "      <th>1</th>\n",
       "      <td>Lenovo IdeaPad 3 Core i3 11th Gen - (8 GB/512 ...</td>\n",
       "      <td>39990</td>\n",
       "      <td>Intel Core i3 Processor (11th Gen)8 GB DDR4 RA...</td>\n",
       "      <td>Lenovo</td>\n",
       "      <td>Windows 11</td>\n",
       "      <td>Intel Core i3</td>\n",
       "      <td>DDR4</td>\n",
       "      <td>8</td>\n",
       "    </tr>\n",
       "    <tr>\n",
       "      <th>2</th>\n",
       "      <td>ASUS VivoBook 15 (2022) Core i3 10th Gen - (8 ...</td>\n",
       "      <td>32990</td>\n",
       "      <td>Intel Core i3 Processor (10th Gen)8 GB DDR4 RA...</td>\n",
       "      <td>ASUS</td>\n",
       "      <td>Windows 11</td>\n",
       "      <td>Intel Core i3</td>\n",
       "      <td>DDR4</td>\n",
       "      <td>8</td>\n",
       "    </tr>\n",
       "    <tr>\n",
       "      <th>3</th>\n",
       "      <td>HP Pavilion Ryzen 5 Hexa Core AMD R5-5600H - (...</td>\n",
       "      <td>49990</td>\n",
       "      <td>AMD Ryzen 5 Hexa Core Processor8 GB DDR4 RAM64...</td>\n",
       "      <td>HP</td>\n",
       "      <td>Windows 10</td>\n",
       "      <td>AMD Processor</td>\n",
       "      <td>DDR4</td>\n",
       "      <td>8</td>\n",
       "    </tr>\n",
       "    <tr>\n",
       "      <th>4</th>\n",
       "      <td>ASUS TUF Gaming F15 Core i5 10th Gen - (8 GB/5...</td>\n",
       "      <td>49990</td>\n",
       "      <td>Intel Core i5 Processor (10th Gen)8 GB DDR4 RA...</td>\n",
       "      <td>ASUS</td>\n",
       "      <td>Windows 11</td>\n",
       "      <td>Intel Core i5</td>\n",
       "      <td>DDR4</td>\n",
       "      <td>8</td>\n",
       "    </tr>\n",
       "  </tbody>\n",
       "</table>\n",
       "</div>"
      ],
      "text/plain": [
       "                                             Product    MRP  \\\n",
       "0  Lenovo IdeaPad 3 Core i3 11th Gen - (8 GB/256 ...  36990   \n",
       "1  Lenovo IdeaPad 3 Core i3 11th Gen - (8 GB/512 ...  39990   \n",
       "2  ASUS VivoBook 15 (2022) Core i3 10th Gen - (8 ...  32990   \n",
       "3  HP Pavilion Ryzen 5 Hexa Core AMD R5-5600H - (...  49990   \n",
       "4  ASUS TUF Gaming F15 Core i5 10th Gen - (8 GB/5...  49990   \n",
       "\n",
       "                                             Feature Company           OS  \\\n",
       "0  Intel Core i3 Processor (11th Gen)8 GB DDR4 RA...  Lenovo  Windows 11    \n",
       "1  Intel Core i3 Processor (11th Gen)8 GB DDR4 RA...  Lenovo  Windows 11    \n",
       "2  Intel Core i3 Processor (10th Gen)8 GB DDR4 RA...    ASUS  Windows 11    \n",
       "3  AMD Ryzen 5 Hexa Core Processor8 GB DDR4 RAM64...      HP  Windows 10    \n",
       "4  Intel Core i5 Processor (10th Gen)8 GB DDR4 RA...    ASUS  Windows 11    \n",
       "\n",
       "       Processor RAM_type  RAM  \n",
       "0  Intel Core i3     DDR4    8  \n",
       "1  Intel Core i3     DDR4    8  \n",
       "2  Intel Core i3     DDR4    8  \n",
       "3  AMD Processor     DDR4    8  \n",
       "4  Intel Core i5     DDR4    8  "
      ]
     },
     "execution_count": 816,
     "metadata": {},
     "output_type": "execute_result"
    }
   ],
   "source": [
    "df['RAM'] = df['RAM'].str.replace('GB','')\n",
    "df['RAM'] = df['RAM'].astype('int32')\n",
    "df.head()"
   ]
  },
  {
   "cell_type": "code",
   "execution_count": 817,
   "id": "f47a6041",
   "metadata": {},
   "outputs": [
    {
     "data": {
      "text/html": [
       "<div>\n",
       "<style scoped>\n",
       "    .dataframe tbody tr th:only-of-type {\n",
       "        vertical-align: middle;\n",
       "    }\n",
       "\n",
       "    .dataframe tbody tr th {\n",
       "        vertical-align: top;\n",
       "    }\n",
       "\n",
       "    .dataframe thead th {\n",
       "        text-align: right;\n",
       "    }\n",
       "</style>\n",
       "<table border=\"1\" class=\"dataframe\">\n",
       "  <thead>\n",
       "    <tr style=\"text-align: right;\">\n",
       "      <th></th>\n",
       "      <th>Product</th>\n",
       "      <th>MRP</th>\n",
       "      <th>Feature</th>\n",
       "      <th>Company</th>\n",
       "      <th>OS</th>\n",
       "      <th>Processor</th>\n",
       "      <th>RAM_type</th>\n",
       "      <th>RAM</th>\n",
       "      <th>Memory</th>\n",
       "    </tr>\n",
       "  </thead>\n",
       "  <tbody>\n",
       "    <tr>\n",
       "      <th>0</th>\n",
       "      <td>Lenovo IdeaPad 3 Core i3 11th Gen - (8 GB/256 ...</td>\n",
       "      <td>36990</td>\n",
       "      <td>Intel Core i3 Processor (11th Gen)8 GB DDR4 RA...</td>\n",
       "      <td>Lenovo</td>\n",
       "      <td>Windows 11</td>\n",
       "      <td>Intel Core i3</td>\n",
       "      <td>DDR4</td>\n",
       "      <td>8</td>\n",
       "      <td>256 GB SSD</td>\n",
       "    </tr>\n",
       "    <tr>\n",
       "      <th>1</th>\n",
       "      <td>Lenovo IdeaPad 3 Core i3 11th Gen - (8 GB/512 ...</td>\n",
       "      <td>39990</td>\n",
       "      <td>Intel Core i3 Processor (11th Gen)8 GB DDR4 RA...</td>\n",
       "      <td>Lenovo</td>\n",
       "      <td>Windows 11</td>\n",
       "      <td>Intel Core i3</td>\n",
       "      <td>DDR4</td>\n",
       "      <td>8</td>\n",
       "      <td>512 GB SSD</td>\n",
       "    </tr>\n",
       "    <tr>\n",
       "      <th>2</th>\n",
       "      <td>ASUS VivoBook 15 (2022) Core i3 10th Gen - (8 ...</td>\n",
       "      <td>32990</td>\n",
       "      <td>Intel Core i3 Processor (10th Gen)8 GB DDR4 RA...</td>\n",
       "      <td>ASUS</td>\n",
       "      <td>Windows 11</td>\n",
       "      <td>Intel Core i3</td>\n",
       "      <td>DDR4</td>\n",
       "      <td>8</td>\n",
       "      <td>512 GB SSD</td>\n",
       "    </tr>\n",
       "    <tr>\n",
       "      <th>3</th>\n",
       "      <td>HP Pavilion Ryzen 5 Hexa Core AMD R5-5600H - (...</td>\n",
       "      <td>49990</td>\n",
       "      <td>AMD Ryzen 5 Hexa Core Processor8 GB DDR4 RAM64...</td>\n",
       "      <td>HP</td>\n",
       "      <td>Windows 10</td>\n",
       "      <td>AMD Processor</td>\n",
       "      <td>DDR4</td>\n",
       "      <td>8</td>\n",
       "      <td>512 GB SSD</td>\n",
       "    </tr>\n",
       "    <tr>\n",
       "      <th>4</th>\n",
       "      <td>ASUS TUF Gaming F15 Core i5 10th Gen - (8 GB/5...</td>\n",
       "      <td>49990</td>\n",
       "      <td>Intel Core i5 Processor (10th Gen)8 GB DDR4 RA...</td>\n",
       "      <td>ASUS</td>\n",
       "      <td>Windows 11</td>\n",
       "      <td>Intel Core i5</td>\n",
       "      <td>DDR4</td>\n",
       "      <td>8</td>\n",
       "      <td>512 GB SSD</td>\n",
       "    </tr>\n",
       "  </tbody>\n",
       "</table>\n",
       "</div>"
      ],
      "text/plain": [
       "                                             Product    MRP  \\\n",
       "0  Lenovo IdeaPad 3 Core i3 11th Gen - (8 GB/256 ...  36990   \n",
       "1  Lenovo IdeaPad 3 Core i3 11th Gen - (8 GB/512 ...  39990   \n",
       "2  ASUS VivoBook 15 (2022) Core i3 10th Gen - (8 ...  32990   \n",
       "3  HP Pavilion Ryzen 5 Hexa Core AMD R5-5600H - (...  49990   \n",
       "4  ASUS TUF Gaming F15 Core i5 10th Gen - (8 GB/5...  49990   \n",
       "\n",
       "                                             Feature Company           OS  \\\n",
       "0  Intel Core i3 Processor (11th Gen)8 GB DDR4 RA...  Lenovo  Windows 11    \n",
       "1  Intel Core i3 Processor (11th Gen)8 GB DDR4 RA...  Lenovo  Windows 11    \n",
       "2  Intel Core i3 Processor (10th Gen)8 GB DDR4 RA...    ASUS  Windows 11    \n",
       "3  AMD Ryzen 5 Hexa Core Processor8 GB DDR4 RAM64...      HP  Windows 10    \n",
       "4  Intel Core i5 Processor (10th Gen)8 GB DDR4 RA...    ASUS  Windows 11    \n",
       "\n",
       "       Processor RAM_type  RAM      Memory  \n",
       "0  Intel Core i3     DDR4    8  256 GB SSD  \n",
       "1  Intel Core i3     DDR4    8  512 GB SSD  \n",
       "2  Intel Core i3     DDR4    8  512 GB SSD  \n",
       "3  AMD Processor     DDR4    8  512 GB SSD  \n",
       "4  Intel Core i5     DDR4    8  512 GB SSD  "
      ]
     },
     "execution_count": 817,
     "metadata": {},
     "output_type": "execute_result"
    }
   ],
   "source": [
    "# extract Memory\n",
    "df['Memory'] = df['Feature'].str.extract('(\\d+\\s*(?:GB|TB)\\s*(?:HDD|SSD))')\n",
    "df.head()"
   ]
  },
  {
   "cell_type": "code",
   "execution_count": 818,
   "id": "cf626b08",
   "metadata": {},
   "outputs": [
    {
     "data": {
      "text/html": [
       "<div>\n",
       "<style scoped>\n",
       "    .dataframe tbody tr th:only-of-type {\n",
       "        vertical-align: middle;\n",
       "    }\n",
       "\n",
       "    .dataframe tbody tr th {\n",
       "        vertical-align: top;\n",
       "    }\n",
       "\n",
       "    .dataframe thead th {\n",
       "        text-align: right;\n",
       "    }\n",
       "</style>\n",
       "<table border=\"1\" class=\"dataframe\">\n",
       "  <thead>\n",
       "    <tr style=\"text-align: right;\">\n",
       "      <th></th>\n",
       "      <th>Product</th>\n",
       "      <th>MRP</th>\n",
       "      <th>Feature</th>\n",
       "      <th>Company</th>\n",
       "      <th>OS</th>\n",
       "      <th>Processor</th>\n",
       "      <th>RAM_type</th>\n",
       "      <th>RAM</th>\n",
       "      <th>Memory</th>\n",
       "      <th>Display(cm)</th>\n",
       "    </tr>\n",
       "  </thead>\n",
       "  <tbody>\n",
       "    <tr>\n",
       "      <th>0</th>\n",
       "      <td>Lenovo IdeaPad 3 Core i3 11th Gen - (8 GB/256 ...</td>\n",
       "      <td>36990</td>\n",
       "      <td>Intel Core i3 Processor (11th Gen)8 GB DDR4 RA...</td>\n",
       "      <td>Lenovo</td>\n",
       "      <td>Windows 11</td>\n",
       "      <td>Intel Core i3</td>\n",
       "      <td>DDR4</td>\n",
       "      <td>8</td>\n",
       "      <td>256 GB SSD</td>\n",
       "      <td>35.56 cm</td>\n",
       "    </tr>\n",
       "    <tr>\n",
       "      <th>1</th>\n",
       "      <td>Lenovo IdeaPad 3 Core i3 11th Gen - (8 GB/512 ...</td>\n",
       "      <td>39990</td>\n",
       "      <td>Intel Core i3 Processor (11th Gen)8 GB DDR4 RA...</td>\n",
       "      <td>Lenovo</td>\n",
       "      <td>Windows 11</td>\n",
       "      <td>Intel Core i3</td>\n",
       "      <td>DDR4</td>\n",
       "      <td>8</td>\n",
       "      <td>512 GB SSD</td>\n",
       "      <td>39.62 cm</td>\n",
       "    </tr>\n",
       "    <tr>\n",
       "      <th>2</th>\n",
       "      <td>ASUS VivoBook 15 (2022) Core i3 10th Gen - (8 ...</td>\n",
       "      <td>32990</td>\n",
       "      <td>Intel Core i3 Processor (10th Gen)8 GB DDR4 RA...</td>\n",
       "      <td>ASUS</td>\n",
       "      <td>Windows 11</td>\n",
       "      <td>Intel Core i3</td>\n",
       "      <td>DDR4</td>\n",
       "      <td>8</td>\n",
       "      <td>512 GB SSD</td>\n",
       "      <td>39.62 cm</td>\n",
       "    </tr>\n",
       "    <tr>\n",
       "      <th>3</th>\n",
       "      <td>HP Pavilion Ryzen 5 Hexa Core AMD R5-5600H - (...</td>\n",
       "      <td>49990</td>\n",
       "      <td>AMD Ryzen 5 Hexa Core Processor8 GB DDR4 RAM64...</td>\n",
       "      <td>HP</td>\n",
       "      <td>Windows 10</td>\n",
       "      <td>AMD Processor</td>\n",
       "      <td>DDR4</td>\n",
       "      <td>8</td>\n",
       "      <td>512 GB SSD</td>\n",
       "      <td>39.62 cm</td>\n",
       "    </tr>\n",
       "    <tr>\n",
       "      <th>4</th>\n",
       "      <td>ASUS TUF Gaming F15 Core i5 10th Gen - (8 GB/5...</td>\n",
       "      <td>49990</td>\n",
       "      <td>Intel Core i5 Processor (10th Gen)8 GB DDR4 RA...</td>\n",
       "      <td>ASUS</td>\n",
       "      <td>Windows 11</td>\n",
       "      <td>Intel Core i5</td>\n",
       "      <td>DDR4</td>\n",
       "      <td>8</td>\n",
       "      <td>512 GB SSD</td>\n",
       "      <td>39.62 cm</td>\n",
       "    </tr>\n",
       "  </tbody>\n",
       "</table>\n",
       "</div>"
      ],
      "text/plain": [
       "                                             Product    MRP  \\\n",
       "0  Lenovo IdeaPad 3 Core i3 11th Gen - (8 GB/256 ...  36990   \n",
       "1  Lenovo IdeaPad 3 Core i3 11th Gen - (8 GB/512 ...  39990   \n",
       "2  ASUS VivoBook 15 (2022) Core i3 10th Gen - (8 ...  32990   \n",
       "3  HP Pavilion Ryzen 5 Hexa Core AMD R5-5600H - (...  49990   \n",
       "4  ASUS TUF Gaming F15 Core i5 10th Gen - (8 GB/5...  49990   \n",
       "\n",
       "                                             Feature Company           OS  \\\n",
       "0  Intel Core i3 Processor (11th Gen)8 GB DDR4 RA...  Lenovo  Windows 11    \n",
       "1  Intel Core i3 Processor (11th Gen)8 GB DDR4 RA...  Lenovo  Windows 11    \n",
       "2  Intel Core i3 Processor (10th Gen)8 GB DDR4 RA...    ASUS  Windows 11    \n",
       "3  AMD Ryzen 5 Hexa Core Processor8 GB DDR4 RAM64...      HP  Windows 10    \n",
       "4  Intel Core i5 Processor (10th Gen)8 GB DDR4 RA...    ASUS  Windows 11    \n",
       "\n",
       "       Processor RAM_type  RAM      Memory Display(cm)  \n",
       "0  Intel Core i3     DDR4    8  256 GB SSD    35.56 cm  \n",
       "1  Intel Core i3     DDR4    8  512 GB SSD    39.62 cm  \n",
       "2  Intel Core i3     DDR4    8  512 GB SSD    39.62 cm  \n",
       "3  AMD Processor     DDR4    8  512 GB SSD    39.62 cm  \n",
       "4  Intel Core i5     DDR4    8  512 GB SSD    39.62 cm  "
      ]
     },
     "execution_count": 818,
     "metadata": {},
     "output_type": "execute_result"
    }
   ],
   "source": [
    "df['Display(cm)'] = df['Feature'].str.extract('(\\d+(?:\\.\\d+) cm)')\n",
    "df.head()"
   ]
  },
  {
   "cell_type": "code",
   "execution_count": 819,
   "id": "f1699239",
   "metadata": {},
   "outputs": [
    {
     "data": {
      "text/html": [
       "<div>\n",
       "<style scoped>\n",
       "    .dataframe tbody tr th:only-of-type {\n",
       "        vertical-align: middle;\n",
       "    }\n",
       "\n",
       "    .dataframe tbody tr th {\n",
       "        vertical-align: top;\n",
       "    }\n",
       "\n",
       "    .dataframe thead th {\n",
       "        text-align: right;\n",
       "    }\n",
       "</style>\n",
       "<table border=\"1\" class=\"dataframe\">\n",
       "  <thead>\n",
       "    <tr style=\"text-align: right;\">\n",
       "      <th></th>\n",
       "      <th>Product</th>\n",
       "      <th>MRP</th>\n",
       "      <th>Feature</th>\n",
       "      <th>Company</th>\n",
       "      <th>OS</th>\n",
       "      <th>Processor</th>\n",
       "      <th>RAM_type</th>\n",
       "      <th>RAM</th>\n",
       "      <th>Memory</th>\n",
       "      <th>Display(cm)</th>\n",
       "    </tr>\n",
       "  </thead>\n",
       "  <tbody>\n",
       "    <tr>\n",
       "      <th>0</th>\n",
       "      <td>Lenovo IdeaPad 3 Core i3 11th Gen - (8 GB/256 ...</td>\n",
       "      <td>36990</td>\n",
       "      <td>Intel Core i3 Processor (11th Gen)8 GB DDR4 RA...</td>\n",
       "      <td>Lenovo</td>\n",
       "      <td>Windows 11</td>\n",
       "      <td>Intel Core i3</td>\n",
       "      <td>DDR4</td>\n",
       "      <td>8</td>\n",
       "      <td>256 GB SSD</td>\n",
       "      <td>35.56</td>\n",
       "    </tr>\n",
       "    <tr>\n",
       "      <th>1</th>\n",
       "      <td>Lenovo IdeaPad 3 Core i3 11th Gen - (8 GB/512 ...</td>\n",
       "      <td>39990</td>\n",
       "      <td>Intel Core i3 Processor (11th Gen)8 GB DDR4 RA...</td>\n",
       "      <td>Lenovo</td>\n",
       "      <td>Windows 11</td>\n",
       "      <td>Intel Core i3</td>\n",
       "      <td>DDR4</td>\n",
       "      <td>8</td>\n",
       "      <td>512 GB SSD</td>\n",
       "      <td>39.62</td>\n",
       "    </tr>\n",
       "    <tr>\n",
       "      <th>2</th>\n",
       "      <td>ASUS VivoBook 15 (2022) Core i3 10th Gen - (8 ...</td>\n",
       "      <td>32990</td>\n",
       "      <td>Intel Core i3 Processor (10th Gen)8 GB DDR4 RA...</td>\n",
       "      <td>ASUS</td>\n",
       "      <td>Windows 11</td>\n",
       "      <td>Intel Core i3</td>\n",
       "      <td>DDR4</td>\n",
       "      <td>8</td>\n",
       "      <td>512 GB SSD</td>\n",
       "      <td>39.62</td>\n",
       "    </tr>\n",
       "    <tr>\n",
       "      <th>3</th>\n",
       "      <td>HP Pavilion Ryzen 5 Hexa Core AMD R5-5600H - (...</td>\n",
       "      <td>49990</td>\n",
       "      <td>AMD Ryzen 5 Hexa Core Processor8 GB DDR4 RAM64...</td>\n",
       "      <td>HP</td>\n",
       "      <td>Windows 10</td>\n",
       "      <td>AMD Processor</td>\n",
       "      <td>DDR4</td>\n",
       "      <td>8</td>\n",
       "      <td>512 GB SSD</td>\n",
       "      <td>39.62</td>\n",
       "    </tr>\n",
       "    <tr>\n",
       "      <th>4</th>\n",
       "      <td>ASUS TUF Gaming F15 Core i5 10th Gen - (8 GB/5...</td>\n",
       "      <td>49990</td>\n",
       "      <td>Intel Core i5 Processor (10th Gen)8 GB DDR4 RA...</td>\n",
       "      <td>ASUS</td>\n",
       "      <td>Windows 11</td>\n",
       "      <td>Intel Core i5</td>\n",
       "      <td>DDR4</td>\n",
       "      <td>8</td>\n",
       "      <td>512 GB SSD</td>\n",
       "      <td>39.62</td>\n",
       "    </tr>\n",
       "  </tbody>\n",
       "</table>\n",
       "</div>"
      ],
      "text/plain": [
       "                                             Product    MRP  \\\n",
       "0  Lenovo IdeaPad 3 Core i3 11th Gen - (8 GB/256 ...  36990   \n",
       "1  Lenovo IdeaPad 3 Core i3 11th Gen - (8 GB/512 ...  39990   \n",
       "2  ASUS VivoBook 15 (2022) Core i3 10th Gen - (8 ...  32990   \n",
       "3  HP Pavilion Ryzen 5 Hexa Core AMD R5-5600H - (...  49990   \n",
       "4  ASUS TUF Gaming F15 Core i5 10th Gen - (8 GB/5...  49990   \n",
       "\n",
       "                                             Feature Company           OS  \\\n",
       "0  Intel Core i3 Processor (11th Gen)8 GB DDR4 RA...  Lenovo  Windows 11    \n",
       "1  Intel Core i3 Processor (11th Gen)8 GB DDR4 RA...  Lenovo  Windows 11    \n",
       "2  Intel Core i3 Processor (10th Gen)8 GB DDR4 RA...    ASUS  Windows 11    \n",
       "3  AMD Ryzen 5 Hexa Core Processor8 GB DDR4 RAM64...      HP  Windows 10    \n",
       "4  Intel Core i5 Processor (10th Gen)8 GB DDR4 RA...    ASUS  Windows 11    \n",
       "\n",
       "       Processor RAM_type  RAM      Memory  Display(cm)  \n",
       "0  Intel Core i3     DDR4    8  256 GB SSD        35.56  \n",
       "1  Intel Core i3     DDR4    8  512 GB SSD        39.62  \n",
       "2  Intel Core i3     DDR4    8  512 GB SSD        39.62  \n",
       "3  AMD Processor     DDR4    8  512 GB SSD        39.62  \n",
       "4  Intel Core i5     DDR4    8  512 GB SSD        39.62  "
      ]
     },
     "execution_count": 819,
     "metadata": {},
     "output_type": "execute_result"
    }
   ],
   "source": [
    "df['Display(cm)'] = df['Display(cm)'].str.replace('cm','')\n",
    "df['Display(cm)'] = df['Display(cm)'].astype('float64')\n",
    "df.head()"
   ]
  },
  {
   "cell_type": "code",
   "execution_count": 820,
   "id": "1523fdc1",
   "metadata": {},
   "outputs": [],
   "source": [
    "'''All necessary are extracted from the product and Feature columns \n",
    "now we can drop the column so that we can focus on main Feature'''\n",
    "df.drop(columns=['Product','Feature'],inplace=True)"
   ]
  },
  {
   "cell_type": "code",
   "execution_count": 821,
   "id": "2fa599a1",
   "metadata": {},
   "outputs": [
    {
     "data": {
      "text/html": [
       "<div>\n",
       "<style scoped>\n",
       "    .dataframe tbody tr th:only-of-type {\n",
       "        vertical-align: middle;\n",
       "    }\n",
       "\n",
       "    .dataframe tbody tr th {\n",
       "        vertical-align: top;\n",
       "    }\n",
       "\n",
       "    .dataframe thead th {\n",
       "        text-align: right;\n",
       "    }\n",
       "</style>\n",
       "<table border=\"1\" class=\"dataframe\">\n",
       "  <thead>\n",
       "    <tr style=\"text-align: right;\">\n",
       "      <th></th>\n",
       "      <th>MRP</th>\n",
       "      <th>Company</th>\n",
       "      <th>OS</th>\n",
       "      <th>Processor</th>\n",
       "      <th>RAM_type</th>\n",
       "      <th>RAM</th>\n",
       "      <th>Memory</th>\n",
       "      <th>Display(cm)</th>\n",
       "    </tr>\n",
       "  </thead>\n",
       "  <tbody>\n",
       "    <tr>\n",
       "      <th>0</th>\n",
       "      <td>36990</td>\n",
       "      <td>Lenovo</td>\n",
       "      <td>Windows 11</td>\n",
       "      <td>Intel Core i3</td>\n",
       "      <td>DDR4</td>\n",
       "      <td>8</td>\n",
       "      <td>256 GB SSD</td>\n",
       "      <td>35.56</td>\n",
       "    </tr>\n",
       "    <tr>\n",
       "      <th>1</th>\n",
       "      <td>39990</td>\n",
       "      <td>Lenovo</td>\n",
       "      <td>Windows 11</td>\n",
       "      <td>Intel Core i3</td>\n",
       "      <td>DDR4</td>\n",
       "      <td>8</td>\n",
       "      <td>512 GB SSD</td>\n",
       "      <td>39.62</td>\n",
       "    </tr>\n",
       "    <tr>\n",
       "      <th>2</th>\n",
       "      <td>32990</td>\n",
       "      <td>ASUS</td>\n",
       "      <td>Windows 11</td>\n",
       "      <td>Intel Core i3</td>\n",
       "      <td>DDR4</td>\n",
       "      <td>8</td>\n",
       "      <td>512 GB SSD</td>\n",
       "      <td>39.62</td>\n",
       "    </tr>\n",
       "    <tr>\n",
       "      <th>3</th>\n",
       "      <td>49990</td>\n",
       "      <td>HP</td>\n",
       "      <td>Windows 10</td>\n",
       "      <td>AMD Processor</td>\n",
       "      <td>DDR4</td>\n",
       "      <td>8</td>\n",
       "      <td>512 GB SSD</td>\n",
       "      <td>39.62</td>\n",
       "    </tr>\n",
       "    <tr>\n",
       "      <th>4</th>\n",
       "      <td>49990</td>\n",
       "      <td>ASUS</td>\n",
       "      <td>Windows 11</td>\n",
       "      <td>Intel Core i5</td>\n",
       "      <td>DDR4</td>\n",
       "      <td>8</td>\n",
       "      <td>512 GB SSD</td>\n",
       "      <td>39.62</td>\n",
       "    </tr>\n",
       "  </tbody>\n",
       "</table>\n",
       "</div>"
      ],
      "text/plain": [
       "     MRP Company           OS      Processor RAM_type  RAM      Memory  \\\n",
       "0  36990  Lenovo  Windows 11   Intel Core i3     DDR4    8  256 GB SSD   \n",
       "1  39990  Lenovo  Windows 11   Intel Core i3     DDR4    8  512 GB SSD   \n",
       "2  32990    ASUS  Windows 11   Intel Core i3     DDR4    8  512 GB SSD   \n",
       "3  49990      HP  Windows 10   AMD Processor     DDR4    8  512 GB SSD   \n",
       "4  49990    ASUS  Windows 11   Intel Core i5     DDR4    8  512 GB SSD   \n",
       "\n",
       "   Display(cm)  \n",
       "0        35.56  \n",
       "1        39.62  \n",
       "2        39.62  \n",
       "3        39.62  \n",
       "4        39.62  "
      ]
     },
     "execution_count": 821,
     "metadata": {},
     "output_type": "execute_result"
    }
   ],
   "source": [
    "df.head()"
   ]
  },
  {
   "cell_type": "code",
   "execution_count": 822,
   "id": "e540061d",
   "metadata": {},
   "outputs": [
    {
     "name": "stderr",
     "output_type": "stream",
     "text": [
      "C:\\ProgramData\\Anaconda3\\lib\\site-packages\\seaborn\\distributions.py:2619: FutureWarning: `distplot` is a deprecated function and will be removed in a future version. Please adapt your code to use either `displot` (a figure-level function with similar flexibility) or `histplot` (an axes-level function for histograms).\n",
      "  warnings.warn(msg, FutureWarning)\n"
     ]
    },
    {
     "data": {
      "text/plain": [
       "<AxesSubplot:xlabel='MRP', ylabel='Density'>"
      ]
     },
     "execution_count": 822,
     "metadata": {},
     "output_type": "execute_result"
    },
    {
     "data": {
      "image/png": "[encoded data removed]",
      "text/plain": [
       "<Figure size 432x288 with 1 Axes>"
      ]
     },
     "metadata": {
      "needs_background": "light"
     },
     "output_type": "display_data"
    }
   ],
   "source": [
    "sns.distplot(df['MRP'])"
   ]
  },
  {
   "cell_type": "code",
   "execution_count": 823,
   "id": "b6b05c6f",
   "metadata": {},
   "outputs": [
    {
     "data": {
      "text/plain": [
       "<AxesSubplot:>"
      ]
     },
     "execution_count": 823,
     "metadata": {},
     "output_type": "execute_result"
    },
    {
     "data": {
      "image/png": "[encoded data removed]",
      "text/plain": [
       "<Figure size 432x288 with 1 Axes>"
      ]
     },
     "metadata": {
      "needs_background": "light"
     },
     "output_type": "display_data"
    }
   ],
   "source": [
    "df['Company'].value_counts().plot(kind='bar')"
   ]
  },
  {
   "cell_type": "code",
   "execution_count": 824,
   "id": "140ca707",
   "metadata": {},
   "outputs": [
    {
     "data": {
      "image/png": "[encoded data removed]",
      "text/plain": [
       "<Figure size 1080x504 with 1 Axes>"
      ]
     },
     "metadata": {
      "needs_background": "light"
     },
     "output_type": "display_data"
    }
   ],
   "source": [
    "# Visualizing relation between Company and MRP\n",
    "fig, ax = plt.subplots(figsize=(15,7))\n",
    "sns.boxplot(x=df['Company'],y=df['MRP'])\n",
    "plt.xticks(rotation='vertical')\n",
    "plt.show()"
   ]
  },
  {
   "cell_type": "code",
   "execution_count": 825,
   "id": "f7a058a4",
   "metadata": {},
   "outputs": [
    {
     "name": "stderr",
     "output_type": "stream",
     "text": [
      "C:\\ProgramData\\Anaconda3\\lib\\site-packages\\seaborn\\distributions.py:2619: FutureWarning: `distplot` is a deprecated function and will be removed in a future version. Please adapt your code to use either `displot` (a figure-level function with similar flexibility) or `histplot` (an axes-level function for histograms).\n",
      "  warnings.warn(msg, FutureWarning)\n"
     ]
    },
    {
     "data": {
      "text/plain": [
       "<AxesSubplot:xlabel='Display(cm)', ylabel='Density'>"
      ]
     },
     "execution_count": 825,
     "metadata": {},
     "output_type": "execute_result"
    },
    {
     "data": {
      "image/png": "[encoded data removed]",
      "text/plain": [
       "<Figure size 432x288 with 1 Axes>"
      ]
     },
     "metadata": {
      "needs_background": "light"
     },
     "output_type": "display_data"
    }
   ],
   "source": [
    "sns.distplot(df['Display(cm)'])"
   ]
  },
  {
   "cell_type": "code",
   "execution_count": 826,
   "id": "72fbf3e5",
   "metadata": {
    "scrolled": true
   },
   "outputs": [
    {
     "data": {
      "text/plain": [
       "<AxesSubplot:xlabel='Display(cm)', ylabel='MRP'>"
      ]
     },
     "execution_count": 826,
     "metadata": {},
     "output_type": "execute_result"
    },
    {
     "data": {
      "image/png": "[encoded data removed]",
      "text/plain": [
       "<Figure size 432x288 with 1 Axes>"
      ]
     },
     "metadata": {
      "needs_background": "light"
     },
     "output_type": "display_data"
    }
   ],
   "source": [
    "sns.scatterplot(x=df['Display(cm)'],y=df['MRP'])"
   ]
  },
  {
   "cell_type": "code",
   "execution_count": 827,
   "id": "05eb38cc",
   "metadata": {},
   "outputs": [
    {
     "data": {
      "text/plain": [
       "<AxesSubplot:>"
      ]
     },
     "execution_count": 827,
     "metadata": {},
     "output_type": "execute_result"
    },
    {
     "data": {
      "image/png": "[encoded data removed]",
      "text/plain": [
       "<Figure size 432x288 with 1 Axes>"
      ]
     },
     "metadata": {
      "needs_background": "light"
     },
     "output_type": "display_data"
    }
   ],
   "source": [
    "df['Processor'].value_counts().plot(kind='bar')"
   ]
  },
  {
   "cell_type": "code",
   "execution_count": 828,
   "id": "a0c42188",
   "metadata": {},
   "outputs": [
    {
     "data": {
      "image/png": "[encoded data removed]",
      "text/plain": [
       "<Figure size 1080x504 with 1 Axes>"
      ]
     },
     "metadata": {
      "needs_background": "light"
     },
     "output_type": "display_data"
    }
   ],
   "source": [
    "fig, ax = plt.subplots(figsize=(15,7))\n",
    "sns.barplot(x=df['Processor'],y=df['MRP'])\n",
    "plt.xticks(rotation='vertical')\n",
    "plt.show()\n"
   ]
  },
  {
   "cell_type": "code",
   "execution_count": 829,
   "id": "2bec63d4",
   "metadata": {},
   "outputs": [
    {
     "data": {
      "text/plain": [
       "<AxesSubplot:>"
      ]
     },
     "execution_count": 829,
     "metadata": {},
     "output_type": "execute_result"
    },
    {
     "data": {
      "image/png": "[encoded data removed]",
      "text/plain": [
       "<Figure size 432x288 with 1 Axes>"
      ]
     },
     "metadata": {
      "needs_background": "light"
     },
     "output_type": "display_data"
    }
   ],
   "source": [
    "df['RAM'].value_counts().plot(kind='bar')"
   ]
  },
  {
   "cell_type": "code",
   "execution_count": 830,
   "id": "d3031d5a",
   "metadata": {
    "scrolled": true
   },
   "outputs": [
    {
     "data": {
      "image/png": "[encoded data removed]",
      "text/plain": [
       "<Figure size 1080x504 with 1 Axes>"
      ]
     },
     "metadata": {
      "needs_background": "light"
     },
     "output_type": "display_data"
    }
   ],
   "source": [
    "fig, ax = plt.subplots(figsize=(15,7))\n",
    "sns.barplot(x=df['RAM'],y=df['MRP'])\n",
    "plt.xticks(rotation='vertical')\n",
    "plt.show()"
   ]
  },
  {
   "cell_type": "code",
   "execution_count": 831,
   "id": "8b4ce5d3",
   "metadata": {},
   "outputs": [
    {
     "data": {
      "text/plain": [
       "512 GB SSD    372\n",
       "1 TB SSD      176\n",
       "256 GB SSD     96\n",
       "1 TB HDD       42\n",
       "128 GB SSD      8\n",
       "2 TB SSD        7\n",
       "256GB SSD       4\n",
       "512GB SSD       3\n",
       "256 GB HDD      1\n",
       "1TB HDD         1\n",
       "Name: Memory, dtype: int64"
      ]
     },
     "execution_count": 831,
     "metadata": {},
     "output_type": "execute_result"
    }
   ],
   "source": [
    "df['Memory'].value_counts()"
   ]
  },
  {
   "cell_type": "code",
   "execution_count": 832,
   "id": "a17e6c81",
   "metadata": {},
   "outputs": [
    {
     "data": {
      "text/plain": [
       "array(['256 GB SSD', '512 GB SSD', '256GB SSD', '1 TB SSD', '1 TB HDD',\n",
       "       '256 GB HDD', '512GB SSD', nan, '1TB HDD', '128 GB SSD',\n",
       "       '2 TB SSD'], dtype=object)"
      ]
     },
     "execution_count": 832,
     "metadata": {},
     "output_type": "execute_result"
    }
   ],
   "source": [
    "df['Memory'].unique()"
   ]
  },
  {
   "cell_type": "code",
   "execution_count": 833,
   "id": "e523c2fc",
   "metadata": {},
   "outputs": [
    {
     "data": {
      "text/plain": [
       "0      256 GB SSD\n",
       "1      512 GB SSD\n",
       "2      512 GB SSD\n",
       "3      512 GB SSD\n",
       "4      512 GB SSD\n",
       "          ...    \n",
       "714    512 GB SSD\n",
       "715           NaN\n",
       "716    512 GB SSD\n",
       "717      1 TB SSD\n",
       "718    512 GB SSD\n",
       "Name: Memory, Length: 719, dtype: object"
      ]
     },
     "execution_count": 833,
     "metadata": {},
     "output_type": "execute_result"
    }
   ],
   "source": [
    "df['Memory'][:-1]"
   ]
  },
  {
   "cell_type": "code",
   "execution_count": 834,
   "id": "0773cd97",
   "metadata": {},
   "outputs": [],
   "source": [
    "# replace nan values with 0\n",
    "df['Memory'].fillna(value=0, inplace=True)\n",
    "# convert 1TB to 1000GB\n",
    "df['Memory'] = df['Memory'].str.replace('1 TB', '1000 GB').str.replace('2 TB', '2000 GB').str.replace('1TB', '1000GB')"
   ]
  },
  {
   "cell_type": "code",
   "execution_count": 835,
   "id": "1f17dd90",
   "metadata": {},
   "outputs": [],
   "source": [
    "# separate HDD and SSD into two columns\n",
    "df['HDD'] = df['Memory'].str.extract(r'(\\d+\\s*(?:GB|TB)?)(?=.*\\sHDD)', expand=True)[0].str.strip()\n",
    "df['SSD'] = df['Memory'].str.extract(r'(\\d+\\s*(?:GB|TB)?)(?=.*\\sSSD)', expand=True)[0].str.strip()"
   ]
  },
  {
   "cell_type": "code",
   "execution_count": 836,
   "id": "c55b7d0b",
   "metadata": {
    "scrolled": true
   },
   "outputs": [
    {
     "data": {
      "text/html": [
       "<div>\n",
       "<style scoped>\n",
       "    .dataframe tbody tr th:only-of-type {\n",
       "        vertical-align: middle;\n",
       "    }\n",
       "\n",
       "    .dataframe tbody tr th {\n",
       "        vertical-align: top;\n",
       "    }\n",
       "\n",
       "    .dataframe thead th {\n",
       "        text-align: right;\n",
       "    }\n",
       "</style>\n",
       "<table border=\"1\" class=\"dataframe\">\n",
       "  <thead>\n",
       "    <tr style=\"text-align: right;\">\n",
       "      <th></th>\n",
       "      <th>MRP</th>\n",
       "      <th>Company</th>\n",
       "      <th>OS</th>\n",
       "      <th>Processor</th>\n",
       "      <th>RAM_type</th>\n",
       "      <th>RAM</th>\n",
       "      <th>Memory</th>\n",
       "      <th>Display(cm)</th>\n",
       "      <th>HDD</th>\n",
       "      <th>SSD</th>\n",
       "    </tr>\n",
       "  </thead>\n",
       "  <tbody>\n",
       "    <tr>\n",
       "      <th>0</th>\n",
       "      <td>36990</td>\n",
       "      <td>Lenovo</td>\n",
       "      <td>Windows 11</td>\n",
       "      <td>Intel Core i3</td>\n",
       "      <td>DDR4</td>\n",
       "      <td>8</td>\n",
       "      <td>256 GB SSD</td>\n",
       "      <td>35.56</td>\n",
       "      <td>NaN</td>\n",
       "      <td>256 GB</td>\n",
       "    </tr>\n",
       "    <tr>\n",
       "      <th>1</th>\n",
       "      <td>39990</td>\n",
       "      <td>Lenovo</td>\n",
       "      <td>Windows 11</td>\n",
       "      <td>Intel Core i3</td>\n",
       "      <td>DDR4</td>\n",
       "      <td>8</td>\n",
       "      <td>512 GB SSD</td>\n",
       "      <td>39.62</td>\n",
       "      <td>NaN</td>\n",
       "      <td>512 GB</td>\n",
       "    </tr>\n",
       "    <tr>\n",
       "      <th>2</th>\n",
       "      <td>32990</td>\n",
       "      <td>ASUS</td>\n",
       "      <td>Windows 11</td>\n",
       "      <td>Intel Core i3</td>\n",
       "      <td>DDR4</td>\n",
       "      <td>8</td>\n",
       "      <td>512 GB SSD</td>\n",
       "      <td>39.62</td>\n",
       "      <td>NaN</td>\n",
       "      <td>512 GB</td>\n",
       "    </tr>\n",
       "    <tr>\n",
       "      <th>3</th>\n",
       "      <td>49990</td>\n",
       "      <td>HP</td>\n",
       "      <td>Windows 10</td>\n",
       "      <td>AMD Processor</td>\n",
       "      <td>DDR4</td>\n",
       "      <td>8</td>\n",
       "      <td>512 GB SSD</td>\n",
       "      <td>39.62</td>\n",
       "      <td>NaN</td>\n",
       "      <td>512 GB</td>\n",
       "    </tr>\n",
       "    <tr>\n",
       "      <th>4</th>\n",
       "      <td>49990</td>\n",
       "      <td>ASUS</td>\n",
       "      <td>Windows 11</td>\n",
       "      <td>Intel Core i5</td>\n",
       "      <td>DDR4</td>\n",
       "      <td>8</td>\n",
       "      <td>512 GB SSD</td>\n",
       "      <td>39.62</td>\n",
       "      <td>NaN</td>\n",
       "      <td>512 GB</td>\n",
       "    </tr>\n",
       "    <tr>\n",
       "      <th>5</th>\n",
       "      <td>36990</td>\n",
       "      <td>HP</td>\n",
       "      <td>Windows 11</td>\n",
       "      <td>Intel Core i3</td>\n",
       "      <td>DDR4</td>\n",
       "      <td>8</td>\n",
       "      <td>256 GB SSD</td>\n",
       "      <td>35.56</td>\n",
       "      <td>NaN</td>\n",
       "      <td>256 GB</td>\n",
       "    </tr>\n",
       "    <tr>\n",
       "      <th>6</th>\n",
       "      <td>38990</td>\n",
       "      <td>DELL</td>\n",
       "      <td>Windows 11</td>\n",
       "      <td>AMD Processor</td>\n",
       "      <td>DDR4</td>\n",
       "      <td>8</td>\n",
       "      <td>256GB SSD</td>\n",
       "      <td>39.62</td>\n",
       "      <td>NaN</td>\n",
       "      <td>256GB</td>\n",
       "    </tr>\n",
       "    <tr>\n",
       "      <th>7</th>\n",
       "      <td>39990</td>\n",
       "      <td>Redmi</td>\n",
       "      <td>Windows 11</td>\n",
       "      <td>Intel Core i5</td>\n",
       "      <td>DDR4</td>\n",
       "      <td>8</td>\n",
       "      <td>512 GB SSD</td>\n",
       "      <td>39.62</td>\n",
       "      <td>NaN</td>\n",
       "      <td>512 GB</td>\n",
       "    </tr>\n",
       "    <tr>\n",
       "      <th>8</th>\n",
       "      <td>46990</td>\n",
       "      <td>realme</td>\n",
       "      <td>Windows 10</td>\n",
       "      <td>AMD Processor</td>\n",
       "      <td>DDR4</td>\n",
       "      <td>8</td>\n",
       "      <td>256 GB SSD</td>\n",
       "      <td>35.56</td>\n",
       "      <td>NaN</td>\n",
       "      <td>256 GB</td>\n",
       "    </tr>\n",
       "    <tr>\n",
       "      <th>9</th>\n",
       "      <td>44990</td>\n",
       "      <td>ASUS</td>\n",
       "      <td>Windows 11</td>\n",
       "      <td>AMD Processor</td>\n",
       "      <td>DDR4</td>\n",
       "      <td>16</td>\n",
       "      <td>512 GB SSD</td>\n",
       "      <td>35.56</td>\n",
       "      <td>NaN</td>\n",
       "      <td>512 GB</td>\n",
       "    </tr>\n",
       "    <tr>\n",
       "      <th>10</th>\n",
       "      <td>59990</td>\n",
       "      <td>HP</td>\n",
       "      <td>Windows 11</td>\n",
       "      <td>AMD Processor</td>\n",
       "      <td>DDR4</td>\n",
       "      <td>8</td>\n",
       "      <td>512 GB SSD</td>\n",
       "      <td>39.62</td>\n",
       "      <td>NaN</td>\n",
       "      <td>512 GB</td>\n",
       "    </tr>\n",
       "    <tr>\n",
       "      <th>11</th>\n",
       "      <td>38705</td>\n",
       "      <td>Lenovo</td>\n",
       "      <td>Windows 11</td>\n",
       "      <td>AMD Processor</td>\n",
       "      <td>DDR4</td>\n",
       "      <td>8</td>\n",
       "      <td>512 GB SSD</td>\n",
       "      <td>39.62</td>\n",
       "      <td>NaN</td>\n",
       "      <td>512 GB</td>\n",
       "    </tr>\n",
       "    <tr>\n",
       "      <th>12</th>\n",
       "      <td>32990</td>\n",
       "      <td>ASUS</td>\n",
       "      <td>Windows 11</td>\n",
       "      <td>Intel Core i3</td>\n",
       "      <td>DDR4</td>\n",
       "      <td>8</td>\n",
       "      <td>256 GB SSD</td>\n",
       "      <td>39.62</td>\n",
       "      <td>NaN</td>\n",
       "      <td>256 GB</td>\n",
       "    </tr>\n",
       "    <tr>\n",
       "      <th>13</th>\n",
       "      <td>52990</td>\n",
       "      <td>ASUS</td>\n",
       "      <td>Windows 11</td>\n",
       "      <td>AMD Processor</td>\n",
       "      <td>DDR4</td>\n",
       "      <td>8</td>\n",
       "      <td>512 GB SSD</td>\n",
       "      <td>43.94</td>\n",
       "      <td>NaN</td>\n",
       "      <td>512 GB</td>\n",
       "    </tr>\n",
       "    <tr>\n",
       "      <th>14</th>\n",
       "      <td>29990</td>\n",
       "      <td>acer</td>\n",
       "      <td>Windows 11</td>\n",
       "      <td>Intel Core i3</td>\n",
       "      <td>DDR4</td>\n",
       "      <td>8</td>\n",
       "      <td>256 GB SSD</td>\n",
       "      <td>39.62</td>\n",
       "      <td>NaN</td>\n",
       "      <td>256 GB</td>\n",
       "    </tr>\n",
       "    <tr>\n",
       "      <th>15</th>\n",
       "      <td>196990</td>\n",
       "      <td>ASUS</td>\n",
       "      <td>Windows 11</td>\n",
       "      <td>AMD Processor</td>\n",
       "      <td>DDR5</td>\n",
       "      <td>16</td>\n",
       "      <td>1000 GB SSD</td>\n",
       "      <td>39.62</td>\n",
       "      <td>NaN</td>\n",
       "      <td>1000 GB</td>\n",
       "    </tr>\n",
       "    <tr>\n",
       "      <th>16</th>\n",
       "      <td>47990</td>\n",
       "      <td>ASUS</td>\n",
       "      <td>Windows 11</td>\n",
       "      <td>Intel Core i5</td>\n",
       "      <td>DDR4</td>\n",
       "      <td>8</td>\n",
       "      <td>1000 GB HDD</td>\n",
       "      <td>39.62</td>\n",
       "      <td>1000 GB</td>\n",
       "      <td>NaN</td>\n",
       "    </tr>\n",
       "    <tr>\n",
       "      <th>17</th>\n",
       "      <td>45990</td>\n",
       "      <td>ASUS</td>\n",
       "      <td>Windows 11</td>\n",
       "      <td>Intel Core i5</td>\n",
       "      <td>DDR4</td>\n",
       "      <td>8</td>\n",
       "      <td>512 GB SSD</td>\n",
       "      <td>39.62</td>\n",
       "      <td>NaN</td>\n",
       "      <td>512 GB</td>\n",
       "    </tr>\n",
       "    <tr>\n",
       "      <th>18</th>\n",
       "      <td>47990</td>\n",
       "      <td>MSI</td>\n",
       "      <td>Windows 11</td>\n",
       "      <td>AMD Processor</td>\n",
       "      <td>DDR4</td>\n",
       "      <td>8</td>\n",
       "      <td>512 GB SSD</td>\n",
       "      <td>39.62</td>\n",
       "      <td>NaN</td>\n",
       "      <td>512 GB</td>\n",
       "    </tr>\n",
       "    <tr>\n",
       "      <th>19</th>\n",
       "      <td>85990</td>\n",
       "      <td>ASUS</td>\n",
       "      <td>Windows 11</td>\n",
       "      <td>AMD Processor</td>\n",
       "      <td>DDR4</td>\n",
       "      <td>16</td>\n",
       "      <td>1000 GB SSD</td>\n",
       "      <td>39.62</td>\n",
       "      <td>NaN</td>\n",
       "      <td>1000 GB</td>\n",
       "    </tr>\n",
       "    <tr>\n",
       "      <th>20</th>\n",
       "      <td>88990</td>\n",
       "      <td>APPLE</td>\n",
       "      <td>Mac</td>\n",
       "      <td>AMD Processor</td>\n",
       "      <td>DDR4</td>\n",
       "      <td>8</td>\n",
       "      <td>256 GB SSD</td>\n",
       "      <td>33.78</td>\n",
       "      <td>NaN</td>\n",
       "      <td>256 GB</td>\n",
       "    </tr>\n",
       "    <tr>\n",
       "      <th>21</th>\n",
       "      <td>40990</td>\n",
       "      <td>HP</td>\n",
       "      <td>Windows 11</td>\n",
       "      <td>Intel Core i3</td>\n",
       "      <td>DDR4</td>\n",
       "      <td>8</td>\n",
       "      <td>512 GB SSD</td>\n",
       "      <td>35.56</td>\n",
       "      <td>NaN</td>\n",
       "      <td>512 GB</td>\n",
       "    </tr>\n",
       "    <tr>\n",
       "      <th>22</th>\n",
       "      <td>19490</td>\n",
       "      <td>Lenovo</td>\n",
       "      <td>NaN</td>\n",
       "      <td>Other Intel Processor</td>\n",
       "      <td>LPDDR4</td>\n",
       "      <td>4</td>\n",
       "      <td>256 GB HDD</td>\n",
       "      <td>39.62</td>\n",
       "      <td>256 GB</td>\n",
       "      <td>NaN</td>\n",
       "    </tr>\n",
       "    <tr>\n",
       "      <th>23</th>\n",
       "      <td>35590</td>\n",
       "      <td>Lenovo</td>\n",
       "      <td>Windows 11</td>\n",
       "      <td>AMD Processor</td>\n",
       "      <td>DDR4</td>\n",
       "      <td>8</td>\n",
       "      <td>512 GB SSD</td>\n",
       "      <td>39.62</td>\n",
       "      <td>NaN</td>\n",
       "      <td>512 GB</td>\n",
       "    </tr>\n",
       "    <tr>\n",
       "      <th>24</th>\n",
       "      <td>65990</td>\n",
       "      <td>HP</td>\n",
       "      <td>Windows 11</td>\n",
       "      <td>Intel Core i5</td>\n",
       "      <td>DDR4</td>\n",
       "      <td>8</td>\n",
       "      <td>512 GB SSD</td>\n",
       "      <td>39.62</td>\n",
       "      <td>NaN</td>\n",
       "      <td>512 GB</td>\n",
       "    </tr>\n",
       "    <tr>\n",
       "      <th>25</th>\n",
       "      <td>39990</td>\n",
       "      <td>Redmi</td>\n",
       "      <td>Windows 11</td>\n",
       "      <td>Intel Core i5</td>\n",
       "      <td>DDR4</td>\n",
       "      <td>8</td>\n",
       "      <td>512 GB SSD</td>\n",
       "      <td>39.62</td>\n",
       "      <td>NaN</td>\n",
       "      <td>512 GB</td>\n",
       "    </tr>\n",
       "    <tr>\n",
       "      <th>26</th>\n",
       "      <td>39990</td>\n",
       "      <td>Lenovo</td>\n",
       "      <td>Windows 11</td>\n",
       "      <td>Intel Core i3</td>\n",
       "      <td>DDR4</td>\n",
       "      <td>8</td>\n",
       "      <td>512 GB SSD</td>\n",
       "      <td>39.62</td>\n",
       "      <td>NaN</td>\n",
       "      <td>512 GB</td>\n",
       "    </tr>\n",
       "    <tr>\n",
       "      <th>27</th>\n",
       "      <td>196990</td>\n",
       "      <td>ASUS</td>\n",
       "      <td>Windows 11</td>\n",
       "      <td>AMD Processor</td>\n",
       "      <td>DDR5</td>\n",
       "      <td>16</td>\n",
       "      <td>1000 GB SSD</td>\n",
       "      <td>39.62</td>\n",
       "      <td>NaN</td>\n",
       "      <td>1000 GB</td>\n",
       "    </tr>\n",
       "    <tr>\n",
       "      <th>28</th>\n",
       "      <td>58990</td>\n",
       "      <td>acer</td>\n",
       "      <td>Windows 11</td>\n",
       "      <td>Intel Core i5</td>\n",
       "      <td>DDR4</td>\n",
       "      <td>16</td>\n",
       "      <td>512 GB SSD</td>\n",
       "      <td>39.62</td>\n",
       "      <td>NaN</td>\n",
       "      <td>512 GB</td>\n",
       "    </tr>\n",
       "    <tr>\n",
       "      <th>29</th>\n",
       "      <td>46990</td>\n",
       "      <td>realme</td>\n",
       "      <td>Windows 10</td>\n",
       "      <td>AMD Processor</td>\n",
       "      <td>DDR4</td>\n",
       "      <td>8</td>\n",
       "      <td>256 GB SSD</td>\n",
       "      <td>35.56</td>\n",
       "      <td>NaN</td>\n",
       "      <td>256 GB</td>\n",
       "    </tr>\n",
       "  </tbody>\n",
       "</table>\n",
       "</div>"
      ],
      "text/plain": [
       "       MRP Company           OS              Processor RAM_type  RAM  \\\n",
       "0    36990  Lenovo  Windows 11           Intel Core i3     DDR4    8   \n",
       "1    39990  Lenovo  Windows 11           Intel Core i3     DDR4    8   \n",
       "2    32990    ASUS  Windows 11           Intel Core i3     DDR4    8   \n",
       "3    49990      HP  Windows 10           AMD Processor     DDR4    8   \n",
       "4    49990    ASUS  Windows 11           Intel Core i5     DDR4    8   \n",
       "5    36990      HP  Windows 11           Intel Core i3     DDR4    8   \n",
       "6    38990    DELL  Windows 11           AMD Processor     DDR4    8   \n",
       "7    39990   Redmi  Windows 11           Intel Core i5     DDR4    8   \n",
       "8    46990  realme  Windows 10           AMD Processor     DDR4    8   \n",
       "9    44990    ASUS  Windows 11           AMD Processor     DDR4   16   \n",
       "10   59990      HP  Windows 11           AMD Processor     DDR4    8   \n",
       "11   38705  Lenovo  Windows 11           AMD Processor     DDR4    8   \n",
       "12   32990    ASUS  Windows 11           Intel Core i3     DDR4    8   \n",
       "13   52990    ASUS  Windows 11           AMD Processor     DDR4    8   \n",
       "14   29990    acer  Windows 11           Intel Core i3     DDR4    8   \n",
       "15  196990    ASUS  Windows 11           AMD Processor     DDR5   16   \n",
       "16   47990    ASUS  Windows 11           Intel Core i5     DDR4    8   \n",
       "17   45990    ASUS  Windows 11           Intel Core i5     DDR4    8   \n",
       "18   47990     MSI  Windows 11           AMD Processor     DDR4    8   \n",
       "19   85990    ASUS  Windows 11           AMD Processor     DDR4   16   \n",
       "20   88990   APPLE         Mac           AMD Processor     DDR4    8   \n",
       "21   40990      HP  Windows 11           Intel Core i3     DDR4    8   \n",
       "22   19490  Lenovo          NaN  Other Intel Processor   LPDDR4    4   \n",
       "23   35590  Lenovo  Windows 11           AMD Processor     DDR4    8   \n",
       "24   65990      HP  Windows 11           Intel Core i5     DDR4    8   \n",
       "25   39990   Redmi  Windows 11           Intel Core i5     DDR4    8   \n",
       "26   39990  Lenovo  Windows 11           Intel Core i3     DDR4    8   \n",
       "27  196990    ASUS  Windows 11           AMD Processor     DDR5   16   \n",
       "28   58990    acer  Windows 11           Intel Core i5     DDR4   16   \n",
       "29   46990  realme  Windows 10           AMD Processor     DDR4    8   \n",
       "\n",
       "         Memory  Display(cm)      HDD      SSD  \n",
       "0    256 GB SSD        35.56      NaN   256 GB  \n",
       "1    512 GB SSD        39.62      NaN   512 GB  \n",
       "2    512 GB SSD        39.62      NaN   512 GB  \n",
       "3    512 GB SSD        39.62      NaN   512 GB  \n",
       "4    512 GB SSD        39.62      NaN   512 GB  \n",
       "5    256 GB SSD        35.56      NaN   256 GB  \n",
       "6     256GB SSD        39.62      NaN    256GB  \n",
       "7    512 GB SSD        39.62      NaN   512 GB  \n",
       "8    256 GB SSD        35.56      NaN   256 GB  \n",
       "9    512 GB SSD        35.56      NaN   512 GB  \n",
       "10   512 GB SSD        39.62      NaN   512 GB  \n",
       "11   512 GB SSD        39.62      NaN   512 GB  \n",
       "12   256 GB SSD        39.62      NaN   256 GB  \n",
       "13   512 GB SSD        43.94      NaN   512 GB  \n",
       "14   256 GB SSD        39.62      NaN   256 GB  \n",
       "15  1000 GB SSD        39.62      NaN  1000 GB  \n",
       "16  1000 GB HDD        39.62  1000 GB      NaN  \n",
       "17   512 GB SSD        39.62      NaN   512 GB  \n",
       "18   512 GB SSD        39.62      NaN   512 GB  \n",
       "19  1000 GB SSD        39.62      NaN  1000 GB  \n",
       "20   256 GB SSD        33.78      NaN   256 GB  \n",
       "21   512 GB SSD        35.56      NaN   512 GB  \n",
       "22   256 GB HDD        39.62   256 GB      NaN  \n",
       "23   512 GB SSD        39.62      NaN   512 GB  \n",
       "24   512 GB SSD        39.62      NaN   512 GB  \n",
       "25   512 GB SSD        39.62      NaN   512 GB  \n",
       "26   512 GB SSD        39.62      NaN   512 GB  \n",
       "27  1000 GB SSD        39.62      NaN  1000 GB  \n",
       "28   512 GB SSD        39.62      NaN   512 GB  \n",
       "29   256 GB SSD        35.56      NaN   256 GB  "
      ]
     },
     "execution_count": 836,
     "metadata": {},
     "output_type": "execute_result"
    }
   ],
   "source": [
    "df.head(30)"
   ]
  },
  {
   "cell_type": "code",
   "execution_count": 837,
   "id": "d439f7a9",
   "metadata": {},
   "outputs": [],
   "source": [
    "df['HDD'] = df['HDD'].str.replace('GB', '')\n",
    "df['SSD'] = df['SSD'].str.replace('GB', '')"
   ]
  },
  {
   "cell_type": "code",
   "execution_count": 838,
   "id": "23863b68",
   "metadata": {},
   "outputs": [],
   "source": [
    "df['HDD'].fillna(value=0, inplace=True)"
   ]
  },
  {
   "cell_type": "code",
   "execution_count": 839,
   "id": "b8fb07fd",
   "metadata": {},
   "outputs": [],
   "source": [
    "df['SSD'].fillna(value=0, inplace=True)"
   ]
  },
  {
   "cell_type": "code",
   "execution_count": 840,
   "id": "fc576ea2",
   "metadata": {},
   "outputs": [
    {
     "data": {
      "text/plain": [
       "array(['256 ', '512 ', '256', '1000 ', 0, '512', '128 ', '2000 '],\n",
       "      dtype=object)"
      ]
     },
     "execution_count": 840,
     "metadata": {},
     "output_type": "execute_result"
    }
   ],
   "source": [
    "df['SSD'].unique()"
   ]
  },
  {
   "cell_type": "code",
   "execution_count": 841,
   "id": "89e43438",
   "metadata": {},
   "outputs": [
    {
     "name": "stdout",
     "output_type": "stream",
     "text": [
      "<class 'pandas.core.frame.DataFrame'>\n",
      "RangeIndex: 720 entries, 0 to 719\n",
      "Data columns (total 10 columns):\n",
      " #   Column       Non-Null Count  Dtype  \n",
      "---  ------       --------------  -----  \n",
      " 0   MRP          720 non-null    int64  \n",
      " 1   Company      720 non-null    object \n",
      " 2   OS           709 non-null    object \n",
      " 3   Processor    720 non-null    object \n",
      " 4   RAM_type     708 non-null    object \n",
      " 5   RAM          720 non-null    int32  \n",
      " 6   Memory       710 non-null    object \n",
      " 7   Display(cm)  720 non-null    float64\n",
      " 8   HDD          720 non-null    object \n",
      " 9   SSD          720 non-null    object \n",
      "dtypes: float64(1), int32(1), int64(1), object(7)\n",
      "memory usage: 53.6+ KB\n"
     ]
    }
   ],
   "source": [
    "df.info()"
   ]
  },
  {
   "cell_type": "code",
   "execution_count": 842,
   "id": "82dd5a37",
   "metadata": {},
   "outputs": [],
   "source": [
    "df['HDD'] = df['HDD'].astype('int64')\n",
    "df['SSD'] = df['SSD'].astype('int64')"
   ]
  },
  {
   "cell_type": "code",
   "execution_count": 843,
   "id": "ecbdd9a6",
   "metadata": {},
   "outputs": [
    {
     "name": "stdout",
     "output_type": "stream",
     "text": [
      "<class 'pandas.core.frame.DataFrame'>\n",
      "RangeIndex: 720 entries, 0 to 719\n",
      "Data columns (total 10 columns):\n",
      " #   Column       Non-Null Count  Dtype  \n",
      "---  ------       --------------  -----  \n",
      " 0   MRP          720 non-null    int64  \n",
      " 1   Company      720 non-null    object \n",
      " 2   OS           709 non-null    object \n",
      " 3   Processor    720 non-null    object \n",
      " 4   RAM_type     708 non-null    object \n",
      " 5   RAM          720 non-null    int32  \n",
      " 6   Memory       710 non-null    object \n",
      " 7   Display(cm)  720 non-null    float64\n",
      " 8   HDD          720 non-null    int64  \n",
      " 9   SSD          720 non-null    int64  \n",
      "dtypes: float64(1), int32(1), int64(3), object(5)\n",
      "memory usage: 53.6+ KB\n"
     ]
    }
   ],
   "source": [
    "df.info()"
   ]
  },
  {
   "cell_type": "code",
   "execution_count": 844,
   "id": "098339a5",
   "metadata": {
    "scrolled": true
   },
   "outputs": [
    {
     "data": {
      "image/png": "[encoded data removed]",
      "text/plain": [
       "<Figure size 1080x504 with 1 Axes>"
      ]
     },
     "metadata": {
      "needs_background": "light"
     },
     "output_type": "display_data"
    }
   ],
   "source": [
    "fig, ax = plt.subplots(figsize=(15,7))\n",
    "sns.boxplot(x=df['SSD'],y=df['MRP'])\n",
    "plt.xticks(rotation='vertical')\n",
    "plt.show()"
   ]
  },
  {
   "cell_type": "code",
   "execution_count": 845,
   "id": "c8d9ca03",
   "metadata": {},
   "outputs": [],
   "source": [
    "df.drop(columns='Memory',inplace=True)"
   ]
  },
  {
   "cell_type": "code",
   "execution_count": 846,
   "id": "a9abbc0e",
   "metadata": {},
   "outputs": [
    {
     "data": {
      "text/html": [
       "<div>\n",
       "<style scoped>\n",
       "    .dataframe tbody tr th:only-of-type {\n",
       "        vertical-align: middle;\n",
       "    }\n",
       "\n",
       "    .dataframe tbody tr th {\n",
       "        vertical-align: top;\n",
       "    }\n",
       "\n",
       "    .dataframe thead th {\n",
       "        text-align: right;\n",
       "    }\n",
       "</style>\n",
       "<table border=\"1\" class=\"dataframe\">\n",
       "  <thead>\n",
       "    <tr style=\"text-align: right;\">\n",
       "      <th></th>\n",
       "      <th>MRP</th>\n",
       "      <th>Company</th>\n",
       "      <th>OS</th>\n",
       "      <th>Processor</th>\n",
       "      <th>RAM_type</th>\n",
       "      <th>RAM</th>\n",
       "      <th>Display(cm)</th>\n",
       "      <th>HDD</th>\n",
       "      <th>SSD</th>\n",
       "    </tr>\n",
       "  </thead>\n",
       "  <tbody>\n",
       "    <tr>\n",
       "      <th>0</th>\n",
       "      <td>36990</td>\n",
       "      <td>Lenovo</td>\n",
       "      <td>Windows 11</td>\n",
       "      <td>Intel Core i3</td>\n",
       "      <td>DDR4</td>\n",
       "      <td>8</td>\n",
       "      <td>35.56</td>\n",
       "      <td>0</td>\n",
       "      <td>256</td>\n",
       "    </tr>\n",
       "    <tr>\n",
       "      <th>1</th>\n",
       "      <td>39990</td>\n",
       "      <td>Lenovo</td>\n",
       "      <td>Windows 11</td>\n",
       "      <td>Intel Core i3</td>\n",
       "      <td>DDR4</td>\n",
       "      <td>8</td>\n",
       "      <td>39.62</td>\n",
       "      <td>0</td>\n",
       "      <td>512</td>\n",
       "    </tr>\n",
       "    <tr>\n",
       "      <th>2</th>\n",
       "      <td>32990</td>\n",
       "      <td>ASUS</td>\n",
       "      <td>Windows 11</td>\n",
       "      <td>Intel Core i3</td>\n",
       "      <td>DDR4</td>\n",
       "      <td>8</td>\n",
       "      <td>39.62</td>\n",
       "      <td>0</td>\n",
       "      <td>512</td>\n",
       "    </tr>\n",
       "    <tr>\n",
       "      <th>3</th>\n",
       "      <td>49990</td>\n",
       "      <td>HP</td>\n",
       "      <td>Windows 10</td>\n",
       "      <td>AMD Processor</td>\n",
       "      <td>DDR4</td>\n",
       "      <td>8</td>\n",
       "      <td>39.62</td>\n",
       "      <td>0</td>\n",
       "      <td>512</td>\n",
       "    </tr>\n",
       "    <tr>\n",
       "      <th>4</th>\n",
       "      <td>49990</td>\n",
       "      <td>ASUS</td>\n",
       "      <td>Windows 11</td>\n",
       "      <td>Intel Core i5</td>\n",
       "      <td>DDR4</td>\n",
       "      <td>8</td>\n",
       "      <td>39.62</td>\n",
       "      <td>0</td>\n",
       "      <td>512</td>\n",
       "    </tr>\n",
       "  </tbody>\n",
       "</table>\n",
       "</div>"
      ],
      "text/plain": [
       "     MRP Company           OS      Processor RAM_type  RAM  Display(cm)  HDD  \\\n",
       "0  36990  Lenovo  Windows 11   Intel Core i3     DDR4    8        35.56    0   \n",
       "1  39990  Lenovo  Windows 11   Intel Core i3     DDR4    8        39.62    0   \n",
       "2  32990    ASUS  Windows 11   Intel Core i3     DDR4    8        39.62    0   \n",
       "3  49990      HP  Windows 10   AMD Processor     DDR4    8        39.62    0   \n",
       "4  49990    ASUS  Windows 11   Intel Core i5     DDR4    8        39.62    0   \n",
       "\n",
       "   SSD  \n",
       "0  256  \n",
       "1  512  \n",
       "2  512  \n",
       "3  512  \n",
       "4  512  "
      ]
     },
     "execution_count": 846,
     "metadata": {},
     "output_type": "execute_result"
    }
   ],
   "source": [
    "df.head()"
   ]
  },
  {
   "cell_type": "code",
   "execution_count": 847,
   "id": "8e674b61",
   "metadata": {},
   "outputs": [
    {
     "data": {
      "text/plain": [
       "AMD Processor            354\n",
       "Intel Core i5            150\n",
       "Intel Core i3            129\n",
       "Intel Core i7             49\n",
       "Other Intel Processor     38\n",
       "Name: Processor, dtype: int64"
      ]
     },
     "execution_count": 847,
     "metadata": {},
     "output_type": "execute_result"
    }
   ],
   "source": [
    "df['Processor'].value_counts()"
   ]
  },
  {
   "cell_type": "code",
   "execution_count": 848,
   "id": "803cbd6b",
   "metadata": {},
   "outputs": [],
   "source": [
    "df['GPU_brand'] = df['Processor'].apply(lambda x:x.split()[0])"
   ]
  },
  {
   "cell_type": "code",
   "execution_count": 849,
   "id": "a2190357",
   "metadata": {},
   "outputs": [
    {
     "data": {
      "text/plain": [
       "AMD      354\n",
       "Intel    328\n",
       "Other     38\n",
       "Name: GPU_brand, dtype: int64"
      ]
     },
     "execution_count": 849,
     "metadata": {},
     "output_type": "execute_result"
    }
   ],
   "source": [
    "df['GPU_brand'].value_counts()"
   ]
  },
  {
   "cell_type": "code",
   "execution_count": 850,
   "id": "0bfc790e",
   "metadata": {
    "scrolled": true
   },
   "outputs": [
    {
     "data": {
      "image/png": "[encoded data removed]",
      "text/plain": [
       "<Figure size 1080x504 with 1 Axes>"
      ]
     },
     "metadata": {
      "needs_background": "light"
     },
     "output_type": "display_data"
    }
   ],
   "source": [
    "fig, ax = plt.subplots(figsize=(15,7))\n",
    "sns.barplot(x=df['GPU_brand'],y=df['MRP'],estimator=np.median)\n",
    "plt.xticks(rotation='vertical')\n",
    "plt.show()"
   ]
  },
  {
   "cell_type": "code",
   "execution_count": 851,
   "id": "841805ee",
   "metadata": {},
   "outputs": [],
   "source": [
    "df = df.drop(columns='Processor')"
   ]
  },
  {
   "cell_type": "code",
   "execution_count": 852,
   "id": "7b6404d8",
   "metadata": {},
   "outputs": [
    {
     "data": {
      "text/plain": [
       "MRP             0\n",
       "Company         0\n",
       "OS             11\n",
       "RAM_type       12\n",
       "RAM             0\n",
       "Display(cm)     0\n",
       "HDD             0\n",
       "SSD             0\n",
       "GPU_brand       0\n",
       "dtype: int64"
      ]
     },
     "execution_count": 852,
     "metadata": {},
     "output_type": "execute_result"
    }
   ],
   "source": [
    "df.isnull().sum()"
   ]
  },
  {
   "cell_type": "code",
   "execution_count": 853,
   "id": "a5dd2865",
   "metadata": {},
   "outputs": [],
   "source": [
    "df = df.dropna()"
   ]
  },
  {
   "cell_type": "code",
   "execution_count": 854,
   "id": "251af3db",
   "metadata": {},
   "outputs": [
    {
     "data": {
      "text/plain": [
       "MRP            1.000000\n",
       "RAM            0.810340\n",
       "Display(cm)    0.140607\n",
       "HDD           -0.096924\n",
       "SSD            0.758723\n",
       "Name: MRP, dtype: float64"
      ]
     },
     "execution_count": 854,
     "metadata": {},
     "output_type": "execute_result"
    }
   ],
   "source": [
    "df.corr()['MRP']"
   ]
  },
  {
   "cell_type": "code",
   "execution_count": 855,
   "id": "cdfb18eb",
   "metadata": {},
   "outputs": [
    {
     "data": {
      "text/plain": [
       "<AxesSubplot:>"
      ]
     },
     "execution_count": 855,
     "metadata": {},
     "output_type": "execute_result"
    },
    {
     "data": {
      "image/png": "[encoded data removed]",
      "text/plain": [
       "<Figure size 432x288 with 2 Axes>"
      ]
     },
     "metadata": {
      "needs_background": "light"
     },
     "output_type": "display_data"
    }
   ],
   "source": [
    "sns.heatmap(df.corr())"
   ]
  },
  {
   "cell_type": "code",
   "execution_count": 856,
   "id": "eb65976e",
   "metadata": {},
   "outputs": [
    {
     "name": "stderr",
     "output_type": "stream",
     "text": [
      "C:\\ProgramData\\Anaconda3\\lib\\site-packages\\seaborn\\distributions.py:2619: FutureWarning: `distplot` is a deprecated function and will be removed in a future version. Please adapt your code to use either `displot` (a figure-level function with similar flexibility) or `histplot` (an axes-level function for histograms).\n",
      "  warnings.warn(msg, FutureWarning)\n"
     ]
    },
    {
     "data": {
      "text/plain": [
       "<AxesSubplot:xlabel='MRP', ylabel='Density'>"
      ]
     },
     "execution_count": 856,
     "metadata": {},
     "output_type": "execute_result"
    },
    {
     "data": {
      "image/png": "[encoded data removed]",
      "text/plain": [
       "<Figure size 432x288 with 1 Axes>"
      ]
     },
     "metadata": {
      "needs_background": "light"
     },
     "output_type": "display_data"
    }
   ],
   "source": [
    "sns.distplot(np.log(df['MRP']))"
   ]
  },
  {
   "cell_type": "code",
   "execution_count": 857,
   "id": "d1c7a25e",
   "metadata": {
    "scrolled": false
   },
   "outputs": [
    {
     "data": {
      "text/plain": [
       "<seaborn.axisgrid.PairGrid at 0x28d7ebc0070>"
      ]
     },
     "execution_count": 857,
     "metadata": {},
     "output_type": "execute_result"
    },
    {
     "data": {
      "image/png": "[encoded data removed]",
      "text/plain": [
       "<Figure size 900x900 with 30 Axes>"
      ]
     },
     "metadata": {
      "needs_background": "light"
     },
     "output_type": "display_data"
    }
   ],
   "source": [
    "sns.pairplot(df)"
   ]
  },
  {
   "cell_type": "code",
   "execution_count": 858,
   "id": "88e6e955",
   "metadata": {},
   "outputs": [],
   "source": [
    "X = df.drop(columns=['MRP'])\n",
    "y = np.log(df['MRP'])"
   ]
  },
  {
   "cell_type": "code",
   "execution_count": 859,
   "id": "dead25c7",
   "metadata": {},
   "outputs": [
    {
     "data": {
      "text/html": [
       "<div>\n",
       "<style scoped>\n",
       "    .dataframe tbody tr th:only-of-type {\n",
       "        vertical-align: middle;\n",
       "    }\n",
       "\n",
       "    .dataframe tbody tr th {\n",
       "        vertical-align: top;\n",
       "    }\n",
       "\n",
       "    .dataframe thead th {\n",
       "        text-align: right;\n",
       "    }\n",
       "</style>\n",
       "<table border=\"1\" class=\"dataframe\">\n",
       "  <thead>\n",
       "    <tr style=\"text-align: right;\">\n",
       "      <th></th>\n",
       "      <th>Company</th>\n",
       "      <th>OS</th>\n",
       "      <th>RAM_type</th>\n",
       "      <th>RAM</th>\n",
       "      <th>Display(cm)</th>\n",
       "      <th>HDD</th>\n",
       "      <th>SSD</th>\n",
       "      <th>GPU_brand</th>\n",
       "    </tr>\n",
       "  </thead>\n",
       "  <tbody>\n",
       "    <tr>\n",
       "      <th>0</th>\n",
       "      <td>Lenovo</td>\n",
       "      <td>Windows 11</td>\n",
       "      <td>DDR4</td>\n",
       "      <td>8</td>\n",
       "      <td>35.56</td>\n",
       "      <td>0</td>\n",
       "      <td>256</td>\n",
       "      <td>Intel</td>\n",
       "    </tr>\n",
       "    <tr>\n",
       "      <th>1</th>\n",
       "      <td>Lenovo</td>\n",
       "      <td>Windows 11</td>\n",
       "      <td>DDR4</td>\n",
       "      <td>8</td>\n",
       "      <td>39.62</td>\n",
       "      <td>0</td>\n",
       "      <td>512</td>\n",
       "      <td>Intel</td>\n",
       "    </tr>\n",
       "    <tr>\n",
       "      <th>2</th>\n",
       "      <td>ASUS</td>\n",
       "      <td>Windows 11</td>\n",
       "      <td>DDR4</td>\n",
       "      <td>8</td>\n",
       "      <td>39.62</td>\n",
       "      <td>0</td>\n",
       "      <td>512</td>\n",
       "      <td>Intel</td>\n",
       "    </tr>\n",
       "    <tr>\n",
       "      <th>3</th>\n",
       "      <td>HP</td>\n",
       "      <td>Windows 10</td>\n",
       "      <td>DDR4</td>\n",
       "      <td>8</td>\n",
       "      <td>39.62</td>\n",
       "      <td>0</td>\n",
       "      <td>512</td>\n",
       "      <td>AMD</td>\n",
       "    </tr>\n",
       "    <tr>\n",
       "      <th>4</th>\n",
       "      <td>ASUS</td>\n",
       "      <td>Windows 11</td>\n",
       "      <td>DDR4</td>\n",
       "      <td>8</td>\n",
       "      <td>39.62</td>\n",
       "      <td>0</td>\n",
       "      <td>512</td>\n",
       "      <td>Intel</td>\n",
       "    </tr>\n",
       "    <tr>\n",
       "      <th>...</th>\n",
       "      <td>...</td>\n",
       "      <td>...</td>\n",
       "      <td>...</td>\n",
       "      <td>...</td>\n",
       "      <td>...</td>\n",
       "      <td>...</td>\n",
       "      <td>...</td>\n",
       "      <td>...</td>\n",
       "    </tr>\n",
       "    <tr>\n",
       "      <th>714</th>\n",
       "      <td>HP</td>\n",
       "      <td>Windows 10</td>\n",
       "      <td>DDR4</td>\n",
       "      <td>16</td>\n",
       "      <td>39.62</td>\n",
       "      <td>0</td>\n",
       "      <td>512</td>\n",
       "      <td>AMD</td>\n",
       "    </tr>\n",
       "    <tr>\n",
       "      <th>716</th>\n",
       "      <td>Lenovo</td>\n",
       "      <td>Windows 11</td>\n",
       "      <td>DDR4</td>\n",
       "      <td>8</td>\n",
       "      <td>39.62</td>\n",
       "      <td>0</td>\n",
       "      <td>512</td>\n",
       "      <td>AMD</td>\n",
       "    </tr>\n",
       "    <tr>\n",
       "      <th>717</th>\n",
       "      <td>ASUS</td>\n",
       "      <td>Windows 11</td>\n",
       "      <td>DDR5</td>\n",
       "      <td>16</td>\n",
       "      <td>39.62</td>\n",
       "      <td>0</td>\n",
       "      <td>1000</td>\n",
       "      <td>AMD</td>\n",
       "    </tr>\n",
       "    <tr>\n",
       "      <th>718</th>\n",
       "      <td>ASUS</td>\n",
       "      <td>Windows 11</td>\n",
       "      <td>LPDDR5</td>\n",
       "      <td>16</td>\n",
       "      <td>35.56</td>\n",
       "      <td>0</td>\n",
       "      <td>512</td>\n",
       "      <td>Intel</td>\n",
       "    </tr>\n",
       "    <tr>\n",
       "      <th>719</th>\n",
       "      <td>Lenovo</td>\n",
       "      <td>Windows 10</td>\n",
       "      <td>DDR4</td>\n",
       "      <td>8</td>\n",
       "      <td>39.62</td>\n",
       "      <td>1000</td>\n",
       "      <td>0</td>\n",
       "      <td>Intel</td>\n",
       "    </tr>\n",
       "  </tbody>\n",
       "</table>\n",
       "<p>697 rows × 8 columns</p>\n",
       "</div>"
      ],
      "text/plain": [
       "    Company           OS RAM_type  RAM  Display(cm)   HDD   SSD GPU_brand\n",
       "0    Lenovo  Windows 11      DDR4    8        35.56     0   256     Intel\n",
       "1    Lenovo  Windows 11      DDR4    8        39.62     0   512     Intel\n",
       "2      ASUS  Windows 11      DDR4    8        39.62     0   512     Intel\n",
       "3        HP  Windows 10      DDR4    8        39.62     0   512       AMD\n",
       "4      ASUS  Windows 11      DDR4    8        39.62     0   512     Intel\n",
       "..      ...          ...      ...  ...          ...   ...   ...       ...\n",
       "714      HP  Windows 10      DDR4   16        39.62     0   512       AMD\n",
       "716  Lenovo  Windows 11      DDR4    8        39.62     0   512       AMD\n",
       "717    ASUS  Windows 11      DDR5   16        39.62     0  1000       AMD\n",
       "718    ASUS  Windows 11    LPDDR5   16        35.56     0   512     Intel\n",
       "719  Lenovo  Windows 10      DDR4    8        39.62  1000     0     Intel\n",
       "\n",
       "[697 rows x 8 columns]"
      ]
     },
     "execution_count": 859,
     "metadata": {},
     "output_type": "execute_result"
    }
   ],
   "source": [
    "X"
   ]
  },
  {
   "cell_type": "code",
   "execution_count": 860,
   "id": "f3f299ef",
   "metadata": {
    "scrolled": false
   },
   "outputs": [
    {
     "data": {
      "text/plain": [
       "0      10.518403\n",
       "1      10.596385\n",
       "2      10.403960\n",
       "3      10.819578\n",
       "4      10.819578\n",
       "         ...    \n",
       "714    11.407565\n",
       "716    11.204905\n",
       "717    12.180704\n",
       "718    11.743958\n",
       "719    10.839385\n",
       "Name: MRP, Length: 697, dtype: float64"
      ]
     },
     "execution_count": 860,
     "metadata": {},
     "output_type": "execute_result"
    }
   ],
   "source": [
    "y"
   ]
  },
  {
   "cell_type": "code",
   "execution_count": 861,
   "id": "373feadc",
   "metadata": {},
   "outputs": [],
   "source": [
    "from sklearn.model_selection import train_test_split\n",
    "from sklearn.linear_model import LinearRegression\n",
    "from sklearn.preprocessing import OneHotEncoder\n",
    "from sklearn.compose import make_column_transformer\n",
    "from sklearn.pipeline import make_pipeline\n",
    "from sklearn.metrics import r2_score\n",
    "from sklearn.metrics import mean_absolute_error"
   ]
  },
  {
   "cell_type": "code",
   "execution_count": 862,
   "id": "eafb5c4d",
   "metadata": {},
   "outputs": [],
   "source": [
    "from sklearn.linear_model import LinearRegression,Ridge,Lasso\n",
    "from sklearn.neighbors import KNeighborsRegressor\n",
    "from sklearn.tree import DecisionTreeRegressor\n",
    "from sklearn.ensemble import RandomForestRegressor,GradientBoostingRegressor,AdaBoostRegressor,ExtraTreesRegressor\n",
    "from sklearn.svm import SVR\n",
    "from xgboost import XGBRegressor"
   ]
  },
  {
   "cell_type": "code",
   "execution_count": 863,
   "id": "c99529ec",
   "metadata": {},
   "outputs": [],
   "source": [
    "from sklearn.compose import ColumnTransformer\n",
    "from sklearn.pipeline import Pipeline\n",
    "from sklearn.preprocessing import StandardScaler, OneHotEncoder"
   ]
  },
  {
   "cell_type": "code",
   "execution_count": 864,
   "id": "aaf1178e",
   "metadata": {},
   "outputs": [],
   "source": [
    "X_train,X_test,y_train,y_test=train_test_split(X,y,test_size=0.2)"
   ]
  },
  {
   "cell_type": "markdown",
   "id": "d63ff9bf",
   "metadata": {},
   "source": [
    "Linear Regression"
   ]
  },
  {
   "cell_type": "code",
   "execution_count": 865,
   "id": "b04918d5",
   "metadata": {},
   "outputs": [
    {
     "data": {
      "text/plain": [
       "\"# define the column transformer\\nstep1 = ColumnTransformer(\\n    transformers=[\\n        ('num', StandardScaler(), ['RAM', 'Display(cm)','SSD','HDD']),\\n        ('cat', OneHotEncoder(handle_unknown='ignore'), ['Company', 'OS','RAM_type','GPU_brand'])\\n    ])\\n\\nstep2 = LinearRegression()\\n\\n# define the pipeline\\npipe = Pipeline(steps=[\\n    ('step1', step1),\\n    ('step2', step2)])\\n\\n# fit the pipeline to the training data\\npipe.fit(X_train, y_train)\\n\\n# make predictions on the test data\\ny_pred = pipe.predict(X_test)\\n\\nprint('R2 score',r2_score(y_test,y_pred))\\nprint('MAE',mean_absolute_error(y_test,y_pred))\\n\""
      ]
     },
     "execution_count": 865,
     "metadata": {},
     "output_type": "execute_result"
    }
   ],
   "source": [
    "'''# define the column transformer\n",
    "step1 = ColumnTransformer(\n",
    "    transformers=[\n",
    "        ('num', StandardScaler(), ['RAM', 'Display(cm)','SSD','HDD']),\n",
    "        ('cat', OneHotEncoder(handle_unknown='ignore'), ['Company', 'OS','RAM_type','GPU_brand'])\n",
    "    ])\n",
    "\n",
    "step2 = LinearRegression()\n",
    "\n",
    "# define the pipeline\n",
    "pipe = Pipeline(steps=[\n",
    "    ('step1', step1),\n",
    "    ('step2', step2)])\n",
    "\n",
    "# fit the pipeline to the training data\n",
    "pipe.fit(X_train, y_train)\n",
    "\n",
    "# make predictions on the test data\n",
    "y_pred = pipe.predict(X_test)\n",
    "\n",
    "print('R2 score',r2_score(y_test,y_pred))\n",
    "print('MAE',mean_absolute_error(y_test,y_pred))\n",
    "'''"
   ]
  },
  {
   "cell_type": "markdown",
   "id": "eab42553",
   "metadata": {},
   "source": [
    "Ridge Regression"
   ]
  },
  {
   "cell_type": "code",
   "execution_count": 866,
   "id": "6d7b7cb5",
   "metadata": {},
   "outputs": [
    {
     "data": {
      "text/plain": [
       "\"# define the column transformer\\nstep1 = ColumnTransformer(\\n    transformers=[\\n        ('num', StandardScaler(), ['RAM', 'Display(cm)','SSD','HDD']),\\n        ('cat', OneHotEncoder(handle_unknown='ignore'), ['Company', 'OS','RAM_type','GPU_brand'])\\n    ])\\n\\nstep2=Ridge(alpha=10)\\n\\n# define the pipeline\\npipe = Pipeline(steps=[\\n    ('step1', step1),\\n    ('step2', step2)])\\n\\n# fit the pipeline to the training data\\npipe.fit(X_train, y_train)\\n\\n# make predictions on the test data\\ny_pred = pipe.predict(X_test)\\n\\nprint('R2 score',r2_score(y_test,y_pred))\\nprint('MAE',mean_absolute_error(y_test,y_pred))\""
      ]
     },
     "execution_count": 866,
     "metadata": {},
     "output_type": "execute_result"
    }
   ],
   "source": [
    "\"\"\"# define the column transformer\n",
    "step1 = ColumnTransformer(\n",
    "    transformers=[\n",
    "        ('num', StandardScaler(), ['RAM', 'Display(cm)','SSD','HDD']),\n",
    "        ('cat', OneHotEncoder(handle_unknown='ignore'), ['Company', 'OS','RAM_type','GPU_brand'])\n",
    "    ])\n",
    "\n",
    "step2=Ridge(alpha=10)\n",
    "\n",
    "# define the pipeline\n",
    "pipe = Pipeline(steps=[\n",
    "    ('step1', step1),\n",
    "    ('step2', step2)])\n",
    "\n",
    "# fit the pipeline to the training data\n",
    "pipe.fit(X_train, y_train)\n",
    "\n",
    "# make predictions on the test data\n",
    "y_pred = pipe.predict(X_test)\n",
    "\n",
    "print('R2 score',r2_score(y_test,y_pred))\n",
    "print('MAE',mean_absolute_error(y_test,y_pred))\"\"\""
   ]
  },
  {
   "cell_type": "markdown",
   "id": "cc027b52",
   "metadata": {},
   "source": [
    "Lasso Regression"
   ]
  },
  {
   "cell_type": "code",
   "execution_count": 867,
   "id": "c4c0d514",
   "metadata": {},
   "outputs": [
    {
     "data": {
      "text/plain": [
       "\"# define the column transformer\\nstep1 = ColumnTransformer(\\n    transformers=[\\n        ('num', StandardScaler(), ['RAM', 'Display(cm)','SSD','HDD']),\\n        ('cat', OneHotEncoder(handle_unknown='ignore'), ['Company', 'OS','RAM_type','GPU_brand'])\\n    ])\\n\\nstep2=Lasso(alpha=0.001)\\n\\n# define the pipeline\\npipe = Pipeline(steps=[\\n    ('step1', step1),\\n    ('step2', step2)])\\n\\n# fit the pipeline to the training data\\npipe.fit(X_train, y_train)\\n\\n# make predictions on the test data\\ny_pred = pipe.predict(X_test)\\n\\nprint('R2 score',r2_score(y_test,y_pred))\\nprint('MAE',mean_absolute_error(y_test,y_pred))\""
      ]
     },
     "execution_count": 867,
     "metadata": {},
     "output_type": "execute_result"
    }
   ],
   "source": [
    "\"\"\"# define the column transformer\n",
    "step1 = ColumnTransformer(\n",
    "    transformers=[\n",
    "        ('num', StandardScaler(), ['RAM', 'Display(cm)','SSD','HDD']),\n",
    "        ('cat', OneHotEncoder(handle_unknown='ignore'), ['Company', 'OS','RAM_type','GPU_brand'])\n",
    "    ])\n",
    "\n",
    "step2=Lasso(alpha=0.001)\n",
    "\n",
    "# define the pipeline\n",
    "pipe = Pipeline(steps=[\n",
    "    ('step1', step1),\n",
    "    ('step2', step2)])\n",
    "\n",
    "# fit the pipeline to the training data\n",
    "pipe.fit(X_train, y_train)\n",
    "\n",
    "# make predictions on the test data\n",
    "y_pred = pipe.predict(X_test)\n",
    "\n",
    "print('R2 score',r2_score(y_test,y_pred))\n",
    "print('MAE',mean_absolute_error(y_test,y_pred))\"\"\""
   ]
  },
  {
   "cell_type": "markdown",
   "id": "23a440b3",
   "metadata": {},
   "source": [
    "KNN"
   ]
  },
  {
   "cell_type": "code",
   "execution_count": 868,
   "id": "40971833",
   "metadata": {},
   "outputs": [
    {
     "data": {
      "text/plain": [
       "\"# define the column transformer\\nstep1 = ColumnTransformer(\\n    transformers=[\\n        ('num', StandardScaler(), ['RAM', 'Display(cm)','SSD','HDD']),\\n        ('cat', OneHotEncoder(handle_unknown='ignore'), ['Company', 'OS','RAM_type','GPU_brand'])\\n    ])\\n\\nstep2=KNeighborsRegressor(n_neighbors=3)\\n\\n# define the pipeline\\npipe = Pipeline(steps=[\\n    ('step1', step1),\\n    ('step2', step2)])\\n\\n# fit the pipeline to the training data\\npipe.fit(X_train, y_train)\\n\\n# make predictions on the test data\\ny_pred = pipe.predict(X_test)\\n\\nprint('R2 score',r2_score(y_test,y_pred))\\nprint('MAE',mean_absolute_error(y_test,y_pred))\""
      ]
     },
     "execution_count": 868,
     "metadata": {},
     "output_type": "execute_result"
    }
   ],
   "source": [
    "\"\"\"# define the column transformer\n",
    "step1 = ColumnTransformer(\n",
    "    transformers=[\n",
    "        ('num', StandardScaler(), ['RAM', 'Display(cm)','SSD','HDD']),\n",
    "        ('cat', OneHotEncoder(handle_unknown='ignore'), ['Company', 'OS','RAM_type','GPU_brand'])\n",
    "    ])\n",
    "\n",
    "step2=KNeighborsRegressor(n_neighbors=3)\n",
    "\n",
    "# define the pipeline\n",
    "pipe = Pipeline(steps=[\n",
    "    ('step1', step1),\n",
    "    ('step2', step2)])\n",
    "\n",
    "# fit the pipeline to the training data\n",
    "pipe.fit(X_train, y_train)\n",
    "\n",
    "# make predictions on the test data\n",
    "y_pred = pipe.predict(X_test)\n",
    "\n",
    "print('R2 score',r2_score(y_test,y_pred))\n",
    "print('MAE',mean_absolute_error(y_test,y_pred))\"\"\""
   ]
  },
  {
   "cell_type": "markdown",
   "id": "bcbb2f0b",
   "metadata": {},
   "source": [
    "Decision Tree"
   ]
  },
  {
   "cell_type": "code",
   "execution_count": 869,
   "id": "f2311113",
   "metadata": {},
   "outputs": [
    {
     "data": {
      "text/plain": [
       "\"# define the column transformer\\nstep1 = ColumnTransformer(\\n    transformers=[\\n        ('num', StandardScaler(), ['RAM', 'Display(cm)','SSD','HDD']),\\n        ('cat', OneHotEncoder(handle_unknown='ignore'), ['Company', 'OS','RAM_type','GPU_brand'])\\n    ])\\n\\nstep2=DecisionTreeRegressor(max_depth=8)\\n\\n# define the pipeline\\npipe = Pipeline(steps=[\\n    ('step1', step1),\\n    ('step2', step2)])\\n\\n# fit the pipeline to the training data\\npipe.fit(X_train, y_train)\\n\\n# make predictions on the test data\\ny_pred = pipe.predict(X_test)\\n\\nprint('R2 score',r2_score(y_test,y_pred))\\nprint('MAE',mean_absolute_error(y_test,y_pred))\""
      ]
     },
     "execution_count": 869,
     "metadata": {},
     "output_type": "execute_result"
    }
   ],
   "source": [
    "\"\"\"# define the column transformer\n",
    "step1 = ColumnTransformer(\n",
    "    transformers=[\n",
    "        ('num', StandardScaler(), ['RAM', 'Display(cm)','SSD','HDD']),\n",
    "        ('cat', OneHotEncoder(handle_unknown='ignore'), ['Company', 'OS','RAM_type','GPU_brand'])\n",
    "    ])\n",
    "\n",
    "step2=DecisionTreeRegressor(max_depth=8)\n",
    "\n",
    "# define the pipeline\n",
    "pipe = Pipeline(steps=[\n",
    "    ('step1', step1),\n",
    "    ('step2', step2)])\n",
    "\n",
    "# fit the pipeline to the training data\n",
    "pipe.fit(X_train, y_train)\n",
    "\n",
    "# make predictions on the test data\n",
    "y_pred = pipe.predict(X_test)\n",
    "\n",
    "print('R2 score',r2_score(y_test,y_pred))\n",
    "print('MAE',mean_absolute_error(y_test,y_pred))\"\"\""
   ]
  },
  {
   "cell_type": "markdown",
   "id": "4251644e",
   "metadata": {},
   "source": [
    "Random Forest"
   ]
  },
  {
   "cell_type": "code",
   "execution_count": 870,
   "id": "d51dcc85",
   "metadata": {},
   "outputs": [
    {
     "data": {
      "text/plain": [
       "'\"\"# define the column transformer\\nstep1 = ColumnTransformer(\\n    transformers=[\\n        (\\'num\\', StandardScaler(), [\\'RAM\\', \\'Display(cm)\\',\\'SSD\\',\\'HDD\\']),\\n        (\\'cat\\', OneHotEncoder(handle_unknown=\\'ignore\\'), [\\'Company\\', \\'OS\\',\\'RAM_type\\',\\'GPU_brand\\'])\\n    ])\\n\\nstep2=RandomForestRegressor(n_estimators=100, random_state=3,max_samples=0.5,\\n                            max_features=0.75,max_depth=15)\\n\\n# define the pipeline\\npipe = Pipeline(steps=[\\n    (\\'step1\\', step1),\\n    (\\'step2\\', step2)])\\n\\n# fit the pipeline to the training data\\npipe.fit(X_train, y_train)\\n\\n# make predictions on the test data\\ny_pred = pipe.predict(X_test)\\n\\nprint(\\'R2 score\\',r2_score(y_test,y_pred))\\nprint(\\'MAE\\',mean_absolute_error(y_test,y_pred))'"
      ]
     },
     "execution_count": 870,
     "metadata": {},
     "output_type": "execute_result"
    }
   ],
   "source": [
    "\"\"\"\"\"# define the column transformer\n",
    "step1 = ColumnTransformer(\n",
    "    transformers=[\n",
    "        ('num', StandardScaler(), ['RAM', 'Display(cm)','SSD','HDD']),\n",
    "        ('cat', OneHotEncoder(handle_unknown='ignore'), ['Company', 'OS','RAM_type','GPU_brand'])\n",
    "    ])\n",
    "\n",
    "step2=RandomForestRegressor(n_estimators=100, random_state=3,max_samples=0.5,\n",
    "                            max_features=0.75,max_depth=15)\n",
    "\n",
    "# define the pipeline\n",
    "pipe = Pipeline(steps=[\n",
    "    ('step1', step1),\n",
    "    ('step2', step2)])\n",
    "\n",
    "# fit the pipeline to the training data\n",
    "pipe.fit(X_train, y_train)\n",
    "\n",
    "# make predictions on the test data\n",
    "y_pred = pipe.predict(X_test)\n",
    "\n",
    "print('R2 score',r2_score(y_test,y_pred))\n",
    "print('MAE',mean_absolute_error(y_test,y_pred))\"\"\""
   ]
  },
  {
   "cell_type": "markdown",
   "id": "1b833c2c",
   "metadata": {},
   "source": [
    "Gradient Boost"
   ]
  },
  {
   "cell_type": "code",
   "execution_count": 871,
   "id": "e12a83e9",
   "metadata": {},
   "outputs": [
    {
     "name": "stdout",
     "output_type": "stream",
     "text": [
      "R2 score 0.905830835549653\n",
      "MAE 0.1402813502416123\n"
     ]
    }
   ],
   "source": [
    "# define the column transformer\n",
    "step1 = ColumnTransformer(\n",
    "    transformers=[\n",
    "        ('num', StandardScaler(), ['RAM', 'Display(cm)','SSD','HDD']),\n",
    "        ('cat', OneHotEncoder(handle_unknown='ignore'), ['Company', 'OS','RAM_type','GPU_brand'])\n",
    "    ],remainder ='passthrough')\n",
    "\n",
    "step2=GradientBoostingRegressor(n_estimators=500)\n",
    "\n",
    "# define the pipeline\n",
    "pipe = Pipeline(steps=[\n",
    "    ('step1', step1),\n",
    "    ('step2', step2)])\n",
    "\n",
    "# fit the pipeline to the training data\n",
    "pipe.fit(X_train, y_train)\n",
    "\n",
    "# make predictions on the test data\n",
    "y_pred = pipe.predict(X_test)\n",
    "\n",
    "print('R2 score',r2_score(y_test,y_pred))\n",
    "print('MAE',mean_absolute_error(y_test,y_pred))"
   ]
  },
  {
   "cell_type": "code",
   "execution_count": 872,
   "id": "6dcbe82f",
   "metadata": {},
   "outputs": [
    {
     "data": {
      "text/plain": [
       "<seaborn.axisgrid.FacetGrid at 0x28d0437c7c0>"
      ]
     },
     "execution_count": 872,
     "metadata": {},
     "output_type": "execute_result"
    },
    {
     "data": {
      "image/png": "[encoded data removed]",
      "text/plain": [
       "<Figure size 360x360 with 1 Axes>"
      ]
     },
     "metadata": {
      "needs_background": "light"
     },
     "output_type": "display_data"
    }
   ],
   "source": [
    "sns.displot(diff)"
   ]
  },
  {
   "cell_type": "code",
   "execution_count": 873,
   "id": "e459e88b",
   "metadata": {},
   "outputs": [],
   "source": [
    "import pickle\n",
    "\n",
    "pickle.dump(df,open('df.pkl','wb'))\n",
    "pickle.dump(pipe,open('pipe.pkl','wb'))"
   ]
  },
  {
   "cell_type": "code",
   "execution_count": 874,
   "id": "fc325e05",
   "metadata": {},
   "outputs": [
    {
     "data": {
      "text/html": [
       "<div>\n",
       "<style scoped>\n",
       "    .dataframe tbody tr th:only-of-type {\n",
       "        vertical-align: middle;\n",
       "    }\n",
       "\n",
       "    .dataframe tbody tr th {\n",
       "        vertical-align: top;\n",
       "    }\n",
       "\n",
       "    .dataframe thead th {\n",
       "        text-align: right;\n",
       "    }\n",
       "</style>\n",
       "<table border=\"1\" class=\"dataframe\">\n",
       "  <thead>\n",
       "    <tr style=\"text-align: right;\">\n",
       "      <th></th>\n",
       "      <th>MRP</th>\n",
       "      <th>Company</th>\n",
       "      <th>OS</th>\n",
       "      <th>RAM_type</th>\n",
       "      <th>RAM</th>\n",
       "      <th>Display(cm)</th>\n",
       "      <th>HDD</th>\n",
       "      <th>SSD</th>\n",
       "      <th>GPU_brand</th>\n",
       "    </tr>\n",
       "  </thead>\n",
       "  <tbody>\n",
       "    <tr>\n",
       "      <th>0</th>\n",
       "      <td>36990</td>\n",
       "      <td>Lenovo</td>\n",
       "      <td>Windows 11</td>\n",
       "      <td>DDR4</td>\n",
       "      <td>8</td>\n",
       "      <td>35.56</td>\n",
       "      <td>0</td>\n",
       "      <td>256</td>\n",
       "      <td>Intel</td>\n",
       "    </tr>\n",
       "    <tr>\n",
       "      <th>1</th>\n",
       "      <td>39990</td>\n",
       "      <td>Lenovo</td>\n",
       "      <td>Windows 11</td>\n",
       "      <td>DDR4</td>\n",
       "      <td>8</td>\n",
       "      <td>39.62</td>\n",
       "      <td>0</td>\n",
       "      <td>512</td>\n",
       "      <td>Intel</td>\n",
       "    </tr>\n",
       "    <tr>\n",
       "      <th>2</th>\n",
       "      <td>32990</td>\n",
       "      <td>ASUS</td>\n",
       "      <td>Windows 11</td>\n",
       "      <td>DDR4</td>\n",
       "      <td>8</td>\n",
       "      <td>39.62</td>\n",
       "      <td>0</td>\n",
       "      <td>512</td>\n",
       "      <td>Intel</td>\n",
       "    </tr>\n",
       "    <tr>\n",
       "      <th>3</th>\n",
       "      <td>49990</td>\n",
       "      <td>HP</td>\n",
       "      <td>Windows 10</td>\n",
       "      <td>DDR4</td>\n",
       "      <td>8</td>\n",
       "      <td>39.62</td>\n",
       "      <td>0</td>\n",
       "      <td>512</td>\n",
       "      <td>AMD</td>\n",
       "    </tr>\n",
       "    <tr>\n",
       "      <th>4</th>\n",
       "      <td>49990</td>\n",
       "      <td>ASUS</td>\n",
       "      <td>Windows 11</td>\n",
       "      <td>DDR4</td>\n",
       "      <td>8</td>\n",
       "      <td>39.62</td>\n",
       "      <td>0</td>\n",
       "      <td>512</td>\n",
       "      <td>Intel</td>\n",
       "    </tr>\n",
       "    <tr>\n",
       "      <th>...</th>\n",
       "      <td>...</td>\n",
       "      <td>...</td>\n",
       "      <td>...</td>\n",
       "      <td>...</td>\n",
       "      <td>...</td>\n",
       "      <td>...</td>\n",
       "      <td>...</td>\n",
       "      <td>...</td>\n",
       "      <td>...</td>\n",
       "    </tr>\n",
       "    <tr>\n",
       "      <th>714</th>\n",
       "      <td>90000</td>\n",
       "      <td>HP</td>\n",
       "      <td>Windows 10</td>\n",
       "      <td>DDR4</td>\n",
       "      <td>16</td>\n",
       "      <td>39.62</td>\n",
       "      <td>0</td>\n",
       "      <td>512</td>\n",
       "      <td>AMD</td>\n",
       "    </tr>\n",
       "    <tr>\n",
       "      <th>716</th>\n",
       "      <td>73490</td>\n",
       "      <td>Lenovo</td>\n",
       "      <td>Windows 11</td>\n",
       "      <td>DDR4</td>\n",
       "      <td>8</td>\n",
       "      <td>39.62</td>\n",
       "      <td>0</td>\n",
       "      <td>512</td>\n",
       "      <td>AMD</td>\n",
       "    </tr>\n",
       "    <tr>\n",
       "      <th>717</th>\n",
       "      <td>194990</td>\n",
       "      <td>ASUS</td>\n",
       "      <td>Windows 11</td>\n",
       "      <td>DDR5</td>\n",
       "      <td>16</td>\n",
       "      <td>39.62</td>\n",
       "      <td>0</td>\n",
       "      <td>1000</td>\n",
       "      <td>AMD</td>\n",
       "    </tr>\n",
       "    <tr>\n",
       "      <th>718</th>\n",
       "      <td>125990</td>\n",
       "      <td>ASUS</td>\n",
       "      <td>Windows 11</td>\n",
       "      <td>LPDDR5</td>\n",
       "      <td>16</td>\n",
       "      <td>35.56</td>\n",
       "      <td>0</td>\n",
       "      <td>512</td>\n",
       "      <td>Intel</td>\n",
       "    </tr>\n",
       "    <tr>\n",
       "      <th>719</th>\n",
       "      <td>50990</td>\n",
       "      <td>Lenovo</td>\n",
       "      <td>Windows 10</td>\n",
       "      <td>DDR4</td>\n",
       "      <td>8</td>\n",
       "      <td>39.62</td>\n",
       "      <td>1000</td>\n",
       "      <td>0</td>\n",
       "      <td>Intel</td>\n",
       "    </tr>\n",
       "  </tbody>\n",
       "</table>\n",
       "<p>697 rows × 9 columns</p>\n",
       "</div>"
      ],
      "text/plain": [
       "        MRP Company           OS RAM_type  RAM  Display(cm)   HDD   SSD  \\\n",
       "0     36990  Lenovo  Windows 11      DDR4    8        35.56     0   256   \n",
       "1     39990  Lenovo  Windows 11      DDR4    8        39.62     0   512   \n",
       "2     32990    ASUS  Windows 11      DDR4    8        39.62     0   512   \n",
       "3     49990      HP  Windows 10      DDR4    8        39.62     0   512   \n",
       "4     49990    ASUS  Windows 11      DDR4    8        39.62     0   512   \n",
       "..      ...     ...          ...      ...  ...          ...   ...   ...   \n",
       "714   90000      HP  Windows 10      DDR4   16        39.62     0   512   \n",
       "716   73490  Lenovo  Windows 11      DDR4    8        39.62     0   512   \n",
       "717  194990    ASUS  Windows 11      DDR5   16        39.62     0  1000   \n",
       "718  125990    ASUS  Windows 11    LPDDR5   16        35.56     0   512   \n",
       "719   50990  Lenovo  Windows 10      DDR4    8        39.62  1000     0   \n",
       "\n",
       "    GPU_brand  \n",
       "0       Intel  \n",
       "1       Intel  \n",
       "2       Intel  \n",
       "3         AMD  \n",
       "4       Intel  \n",
       "..        ...  \n",
       "714       AMD  \n",
       "716       AMD  \n",
       "717       AMD  \n",
       "718     Intel  \n",
       "719     Intel  \n",
       "\n",
       "[697 rows x 9 columns]"
      ]
     },
     "execution_count": 874,
     "metadata": {},
     "output_type": "execute_result"
    }
   ],
   "source": [
    "df"
   ]
  },
  {
   "cell_type": "code",
   "execution_count": 875,
   "id": "2e1aad01",
   "metadata": {},
   "outputs": [
    {
     "data": {
      "text/html": [
       "<div>\n",
       "<style scoped>\n",
       "    .dataframe tbody tr th:only-of-type {\n",
       "        vertical-align: middle;\n",
       "    }\n",
       "\n",
       "    .dataframe tbody tr th {\n",
       "        vertical-align: top;\n",
       "    }\n",
       "\n",
       "    .dataframe thead th {\n",
       "        text-align: right;\n",
       "    }\n",
       "</style>\n",
       "<table border=\"1\" class=\"dataframe\">\n",
       "  <thead>\n",
       "    <tr style=\"text-align: right;\">\n",
       "      <th></th>\n",
       "      <th>Company</th>\n",
       "      <th>OS</th>\n",
       "      <th>RAM_type</th>\n",
       "      <th>RAM</th>\n",
       "      <th>Display(cm)</th>\n",
       "      <th>HDD</th>\n",
       "      <th>SSD</th>\n",
       "      <th>GPU_brand</th>\n",
       "    </tr>\n",
       "  </thead>\n",
       "  <tbody>\n",
       "    <tr>\n",
       "      <th>106</th>\n",
       "      <td>MSI</td>\n",
       "      <td>Windows 10</td>\n",
       "      <td>DDR4</td>\n",
       "      <td>16</td>\n",
       "      <td>39.62</td>\n",
       "      <td>0</td>\n",
       "      <td>1000</td>\n",
       "      <td>Intel</td>\n",
       "    </tr>\n",
       "    <tr>\n",
       "      <th>309</th>\n",
       "      <td>HP</td>\n",
       "      <td>Windows 10</td>\n",
       "      <td>DDR4</td>\n",
       "      <td>8</td>\n",
       "      <td>39.62</td>\n",
       "      <td>1000</td>\n",
       "      <td>0</td>\n",
       "      <td>Intel</td>\n",
       "    </tr>\n",
       "    <tr>\n",
       "      <th>194</th>\n",
       "      <td>acer</td>\n",
       "      <td>Windows 11</td>\n",
       "      <td>DDR4</td>\n",
       "      <td>16</td>\n",
       "      <td>39.62</td>\n",
       "      <td>0</td>\n",
       "      <td>512</td>\n",
       "      <td>Intel</td>\n",
       "    </tr>\n",
       "    <tr>\n",
       "      <th>105</th>\n",
       "      <td>ASUS</td>\n",
       "      <td>Windows 11</td>\n",
       "      <td>DDR4</td>\n",
       "      <td>16</td>\n",
       "      <td>39.62</td>\n",
       "      <td>0</td>\n",
       "      <td>512</td>\n",
       "      <td>AMD</td>\n",
       "    </tr>\n",
       "    <tr>\n",
       "      <th>207</th>\n",
       "      <td>ASUS</td>\n",
       "      <td>Windows 11</td>\n",
       "      <td>DDR4</td>\n",
       "      <td>16</td>\n",
       "      <td>39.62</td>\n",
       "      <td>0</td>\n",
       "      <td>1000</td>\n",
       "      <td>AMD</td>\n",
       "    </tr>\n",
       "    <tr>\n",
       "      <th>...</th>\n",
       "      <td>...</td>\n",
       "      <td>...</td>\n",
       "      <td>...</td>\n",
       "      <td>...</td>\n",
       "      <td>...</td>\n",
       "      <td>...</td>\n",
       "      <td>...</td>\n",
       "      <td>...</td>\n",
       "    </tr>\n",
       "    <tr>\n",
       "      <th>235</th>\n",
       "      <td>ASUS</td>\n",
       "      <td>Windows 11</td>\n",
       "      <td>DDR4</td>\n",
       "      <td>8</td>\n",
       "      <td>35.56</td>\n",
       "      <td>0</td>\n",
       "      <td>256</td>\n",
       "      <td>Other</td>\n",
       "    </tr>\n",
       "    <tr>\n",
       "      <th>674</th>\n",
       "      <td>HP</td>\n",
       "      <td>Windows 10</td>\n",
       "      <td>DDR4</td>\n",
       "      <td>8</td>\n",
       "      <td>39.62</td>\n",
       "      <td>0</td>\n",
       "      <td>512</td>\n",
       "      <td>AMD</td>\n",
       "    </tr>\n",
       "    <tr>\n",
       "      <th>714</th>\n",
       "      <td>HP</td>\n",
       "      <td>Windows 10</td>\n",
       "      <td>DDR4</td>\n",
       "      <td>16</td>\n",
       "      <td>39.62</td>\n",
       "      <td>0</td>\n",
       "      <td>512</td>\n",
       "      <td>AMD</td>\n",
       "    </tr>\n",
       "    <tr>\n",
       "      <th>307</th>\n",
       "      <td>ASUS</td>\n",
       "      <td>Windows 11</td>\n",
       "      <td>DDR5</td>\n",
       "      <td>16</td>\n",
       "      <td>39.62</td>\n",
       "      <td>0</td>\n",
       "      <td>1000</td>\n",
       "      <td>AMD</td>\n",
       "    </tr>\n",
       "    <tr>\n",
       "      <th>670</th>\n",
       "      <td>Lenovo</td>\n",
       "      <td>Windows 11</td>\n",
       "      <td>DDR4</td>\n",
       "      <td>8</td>\n",
       "      <td>39.62</td>\n",
       "      <td>0</td>\n",
       "      <td>512</td>\n",
       "      <td>AMD</td>\n",
       "    </tr>\n",
       "  </tbody>\n",
       "</table>\n",
       "<p>557 rows × 8 columns</p>\n",
       "</div>"
      ],
      "text/plain": [
       "    Company           OS RAM_type  RAM  Display(cm)   HDD   SSD GPU_brand\n",
       "106     MSI  Windows 10      DDR4   16        39.62     0  1000     Intel\n",
       "309      HP  Windows 10      DDR4    8        39.62  1000     0     Intel\n",
       "194    acer  Windows 11      DDR4   16        39.62     0   512     Intel\n",
       "105    ASUS  Windows 11      DDR4   16        39.62     0   512       AMD\n",
       "207    ASUS  Windows 11      DDR4   16        39.62     0  1000       AMD\n",
       "..      ...          ...      ...  ...          ...   ...   ...       ...\n",
       "235    ASUS  Windows 11      DDR4    8        35.56     0   256     Other\n",
       "674      HP  Windows 10      DDR4    8        39.62     0   512       AMD\n",
       "714      HP  Windows 10      DDR4   16        39.62     0   512       AMD\n",
       "307    ASUS  Windows 11      DDR5   16        39.62     0  1000       AMD\n",
       "670  Lenovo  Windows 11      DDR4    8        39.62     0   512       AMD\n",
       "\n",
       "[557 rows x 8 columns]"
      ]
     },
     "execution_count": 875,
     "metadata": {},
     "output_type": "execute_result"
    }
   ],
   "source": [
    "X_train"
   ]
  },
  {
   "cell_type": "code",
   "execution_count": null,
   "id": "908cc509",
   "metadata": {},
   "outputs": [],
   "source": []
  },
  {
   "cell_type": "code",
   "execution_count": null,
   "id": "205e6be3",
   "metadata": {},
   "outputs": [],
   "source": []
  }
 ],
 "metadata": {
  "kernelspec": {
   "display_name": "Python 3 (ipykernel)",
   "language": "python",
   "name": "python3"
  },
  "language_info": {
   "codemirror_mode": {
    "name": "ipython",
    "version": 3
   },
   "file_extension": ".py",
   "mimetype": "text/x-python",
   "name": "python",
   "nbconvert_exporter": "python",
   "pygments_lexer": "ipython3",
   "version": "3.9.12"
  }
 },
 "nbformat": 4,
 "nbformat_minor": 5
}
