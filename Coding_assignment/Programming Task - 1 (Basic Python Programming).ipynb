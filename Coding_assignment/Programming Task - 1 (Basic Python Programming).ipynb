{
 "cells": [
  {
   "cell_type": "markdown",
   "id": "f1b2328a",
   "metadata": {},
   "source": [
    "Innomatics Assigmnet\n",
    "Programming Task - 1 (Basic Python Programming)"
   ]
  },
  {
   "cell_type": "code",
   "execution_count": null,
   "id": "ede7beda",
   "metadata": {},
   "outputs": [],
   "source": [
    "# Problem_1 HackerRank\n",
    "#solution\n",
    "my_string = \"Hello, World!\"\n",
    "print(my_string)"
   ]
  },
  {
   "cell_type": "code",
   "execution_count": 1,
   "id": "878ef9ba",
   "metadata": {},
   "outputs": [
    {
     "name": "stdout",
     "output_type": "stream",
     "text": [
      "5\n",
      "Weird\n"
     ]
    }
   ],
   "source": [
    "# Problem_2 HackerRank\n",
    "#solution\n",
    "if __name__ == '__main__':\n",
    "    n = int(input().strip())\n",
    "    \n",
    "    if n%2 ==0:\n",
    "        if (n>2 and n<5):\n",
    "            print('Not Weird')\n",
    "        elif (n>6 and n<20):\n",
    "            print('Weird')\n",
    "        elif n>20:\n",
    "            print('Not Weird')\n",
    "    else:\n",
    "        print('Weird')"
   ]
  },
  {
   "cell_type": "code",
   "execution_count": 2,
   "id": "2b15509d",
   "metadata": {},
   "outputs": [
    {
     "name": "stdout",
     "output_type": "stream",
     "text": [
      "4\n",
      "5\n",
      "9\n",
      "-1\n",
      "20\n"
     ]
    }
   ],
   "source": [
    "# Problem_3 HackerRank\n",
    "#solution\n",
    "if __name__ == '__main__':\n",
    "    a = int(input())\n",
    "    b = int(input())\n",
    "    \n",
    "    print(a+b)\n",
    "    print(a-b)\n",
    "    print(a*b)"
   ]
  },
  {
   "cell_type": "code",
   "execution_count": 2,
   "id": "cc17245d",
   "metadata": {},
   "outputs": [
    {
     "name": "stdout",
     "output_type": "stream",
     "text": [
      "4\n",
      "5\n",
      "0\n",
      "0.8\n"
     ]
    }
   ],
   "source": [
    "# Problem_4 HackerRank\n",
    "#solution\n",
    "if __name__ == '__main__':\n",
    "    a = int(input())\n",
    "    b = int(input())\n",
    "    \n",
    "    print(a//b)\n",
    "    print(a/b)"
   ]
  },
  {
   "cell_type": "code",
   "execution_count": null,
   "id": "52e8e9ef",
   "metadata": {},
   "outputs": [],
   "source": [
    "# Problem_5 HackerRank\n",
    "#solution\n",
    "if __name__ == '__main__':\n",
    "    n = int(input())\n",
    "    \n",
    "    for i in range(n):\n",
    "        if i < 0 :\n",
    "            pass\n",
    "        print(i**2)"
   ]
  },
  {
   "cell_type": "code",
   "execution_count": 3,
   "id": "dd381e89",
   "metadata": {},
   "outputs": [],
   "source": [
    "# Problem_6 HackerRank\n",
    "#solution\n",
    "def is_leap(year):\n",
    "    leap = False\n",
    "    \n",
    "    if year % 4 == 0:\n",
    "        if year % 100 == 0:\n",
    "            if year % 400 == 0:\n",
    "                return not leap\n",
    "            else:\n",
    "                return  leap\n",
    "        else:\n",
    "             return not leap\n",
    "    else:\n",
    "        return leap\n",
    "        \n",
    "year = int(input())\n",
    "print(is_leap(year))"
   ]
  },
  {
   "cell_type": "code",
   "execution_count": null,
   "id": "2802dc42",
   "metadata": {},
   "outputs": [],
   "source": [
    "# Problem_7 HackerRank\n",
    "#solution\n",
    "if __name__ == '__main__':\n",
    "    n = int(input())\n",
    "\n",
    "    for i in range(0,n):\n",
    "        print(i+1,end='')\n"
   ]
  },
  {
   "cell_type": "code",
   "execution_count": null,
   "id": "eb06e732",
   "metadata": {},
   "outputs": [],
   "source": []
  },
  {
   "cell_type": "code",
   "execution_count": null,
   "id": "0bcb3a3f",
   "metadata": {},
   "outputs": [],
   "source": []
  }
 ],
 "metadata": {
  "kernelspec": {
   "display_name": "Python 3 (ipykernel)",
   "language": "python",
   "name": "python3"
  },
  "language_info": {
   "codemirror_mode": {
    "name": "ipython",
    "version": 3
   },
   "file_extension": ".py",
   "mimetype": "text/x-python",
   "name": "python",
   "nbconvert_exporter": "python",
   "pygments_lexer": "ipython3",
   "version": "3.9.12"
  }
 },
 "nbformat": 4,
 "nbformat_minor": 5
}
