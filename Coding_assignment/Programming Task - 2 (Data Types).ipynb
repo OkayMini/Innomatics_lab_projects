{
 "cells": [
  {
   "cell_type": "markdown",
   "id": "d4340318",
   "metadata": {},
   "source": [
    "Programming Task - 2 (Data Types)"
   ]
  },
  {
   "cell_type": "code",
   "execution_count": null,
   "id": "8debe8cc",
   "metadata": {},
   "outputs": [],
   "source": [
    "# Problem_1 HackerRank\n",
    "#solution #list#\n",
    "if __name__ == '__main__':\n",
    "    N = int(input())\n",
    "    \n",
    "    new_list = []\n",
    "    \n",
    "    for i in range(N):\n",
    "        cmd = input().split()\n",
    "        if cmd[0] == \"insert\":\n",
    "            new_list.insert(int(cmd[1]), int(cmd[2]))\n",
    "        elif cmd[0] == \"print\":\n",
    "            print(new_list)\n",
    "        elif cmd[0] == \"remove\":\n",
    "            new_list.remove(int(cmd[1]))\n",
    "        elif cmd[0] == \"append\":\n",
    "            new_list.append(int(cmd[1]))\n",
    "        elif cmd[0] == \"sort\":\n",
    "            new_list.sort()\n",
    "        elif cmd[0] == \"pop\":\n",
    "            new_list.pop()\n",
    "        elif cmd[0] == \"reverse\":\n",
    "            new_list.reverse()"
   ]
  },
  {
   "cell_type": "code",
   "execution_count": null,
   "id": "aaccaf80",
   "metadata": {},
   "outputs": [],
   "source": [
    "# Problem_2 HackerRank\n",
    "#solution #Tuple#\n",
    "if __name__ == '__main__':\n",
    "    n = int(input())\n",
    "    integer_list = tuple(map(int, input().split()))\n",
    "    print(hash(integer_list))"
   ]
  },
  {
   "cell_type": "code",
   "execution_count": null,
   "id": "2338d6ee",
   "metadata": {},
   "outputs": [],
   "source": [
    "# Problem_3 HackerRank\n",
    "#solution #list comprehension#\n",
    "if __name__ == '__main__':\n",
    "    x = int(input())\n",
    "    y = int(input())\n",
    "    z = int(input())\n",
    "    n = int(input())\n",
    "    \n",
    "    \n",
    "arr = [[i,j,k] for i in range(x+1)for j in range(y+1)for k in range(z+1) if i+j+k !=n]\n",
    "print(arr)\n"
   ]
  },
  {
   "cell_type": "code",
   "execution_count": null,
   "id": "0605d7e1",
   "metadata": {},
   "outputs": [],
   "source": [
    "# Problem_4 HackerRank\n",
    "#solution #find the runner-up score#\n",
    "if __name__ == '__main__':\n",
    "    n = int(input())\n",
    "    arr = map(int, input().split())\n",
    "\n",
    "    \n",
    "myList = sorted(set(arr))\n",
    " \n",
    "print(myList[len(myList)-2])"
   ]
  },
  {
   "cell_type": "code",
   "execution_count": null,
   "id": "021166c4",
   "metadata": {},
   "outputs": [],
   "source": [
    "# Problem_5 HackerRank\n",
    "#solution #finding the persentage#\n",
    "if __name__ == '__main__':\n",
    "    n = int(input())\n",
    "    student_marks = {}\n",
    "    for _ in range(n):\n",
    "        name, *line = input().split()\n",
    "        scores = list(map(float, line))\n",
    "        student_marks[name] = scores\n",
    "    query_name = input()\n",
    "        \n",
    "    average = sum(student_marks[query_name])/len(student_marks[query_name])\n",
    "    print(format(average,'.2f'))"
   ]
  },
  {
   "cell_type": "code",
   "execution_count": null,
   "id": "42eb7662",
   "metadata": {},
   "outputs": [],
   "source": [
    "# Problem_6 HackerRank\n",
    "#solution #Nested list#\n",
    "\n",
    "if __name__ == '__main__':\n",
    "    students = []\n",
    "    scores = []\n",
    "    for N in range(int(input())):\n",
    "        name = input()\n",
    "        score = float(input())\n",
    "        scores.append(score)\n",
    "        students.append([name, score])\n",
    "    \n",
    "        \n",
    "    count = scores.count(min(scores))\n",
    "    for i in range(count):\n",
    "        scores.remove(min(scores))\n",
    "        \n",
    "    secondHigh = min(scores)\n",
    "    \n",
    "    students.sort()\n",
    "    output = [x for x in students if x[1] == secondHigh]\n",
    "    for i in output:\n",
    "        print(i[0])\n"
   ]
  }
 ],
 "metadata": {
  "kernelspec": {
   "display_name": "Python 3 (ipykernel)",
   "language": "python",
   "name": "python3"
  },
  "language_info": {
   "codemirror_mode": {
    "name": "ipython",
    "version": 3
   },
   "file_extension": ".py",
   "mimetype": "text/x-python",
   "name": "python",
   "nbconvert_exporter": "python",
   "pygments_lexer": "ipython3",
   "version": "3.9.12"
  }
 },
 "nbformat": 4,
 "nbformat_minor": 5
}
