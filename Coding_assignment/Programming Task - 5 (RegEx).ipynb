{
 "cells": [
  {
   "cell_type": "markdown",
   "id": "4aa8caf2",
   "metadata": {},
   "source": [
    "Programming Task - 5 (RegEx)"
   ]
  },
  {
   "cell_type": "code",
   "execution_count": 2,
   "id": "a90d9fc5",
   "metadata": {},
   "outputs": [
    {
     "name": "stdout",
     "output_type": "stream",
     "text": [
      "4\n",
      "4.0o0\n",
      "False\n",
      "45.3\n",
      "True\n",
      "-78\n",
      "False\n",
      "-.8\n",
      "True\n"
     ]
    }
   ],
   "source": [
    " # Problem_1 HackerRank\n",
    "#solution #Detect Floating Point Number#\n",
    "import re\n",
    "\n",
    "flaot_regex = re.compile(\"[+-]?[0-9]*\\.[0-9]+\")\n",
    "\n",
    "def float_check(s):\n",
    "\n",
    "    if flaot_regex.fullmatch(s):\n",
    "        return True\n",
    "    else:\n",
    "        return False\n",
    "\n",
    "i = int(input())\n",
    "for i in range(i):\n",
    "    print(float_check(input()))"
   ]
  },
  {
   "cell_type": "code",
   "execution_count": 2,
   "id": "f52b31da",
   "metadata": {},
   "outputs": [],
   "source": [
    "# Problem_2 HackerRank\n",
    "#solution #Re.split()#\n",
    "regex_pattern = r\"[\\.\\,]\"\n",
    "import re\n",
    "print(\"\\n\".join(re.split(regex_pattern, input())))"
   ]
  },
  {
   "cell_type": "code",
   "execution_count": 3,
   "id": "d9a81197",
   "metadata": {},
   "outputs": [],
   "source": [
    " # Problem_3 HackerRank\n",
    "#solution #Group(), Groups() & Groupdict()#\n",
    "import re\n",
    "char = input()\n",
    "pattern = r\"([a-zA-Z0-9])\\1+\"\n",
    "match = re.search(pattern,char)\n",
    "if match:\n",
    "    print(match.group(1))\n",
    "else:\n",
    "    print(-1)"
   ]
  },
  {
   "cell_type": "code",
   "execution_count": 3,
   "id": "8ea92a3b",
   "metadata": {},
   "outputs": [
    {
     "name": "stdout",
     "output_type": "stream",
     "text": [
      "jdfgouvaerngkf\n",
      "ou\n",
      "ae\n"
     ]
    }
   ],
   "source": [
    " # Problem_4 HackerRank\n",
    "#solution #Re.findall() & Re.finditer()#\n",
    "import re\n",
    "\n",
    "text = r'[aeiouAEIOU^]?[aeiouAEIOU]{2,}[^aeiouAEIOU$]'\n",
    "value = re.findall(text,input())\n",
    "if value:\n",
    "    [print(i[:-1]) for i in value]\n",
    "else:\n",
    "    print(-1)"
   ]
  },
  {
   "cell_type": "code",
   "execution_count": 4,
   "id": "41f18afc",
   "metadata": {},
   "outputs": [
    {
     "name": "stdout",
     "output_type": "stream",
     "text": [
      "kjbjklho\n",
      "hoih\n",
      "(-1, -1)\n"
     ]
    }
   ],
   "source": [
    " # Problem_5 HackerRank\n",
    "#solution #Re.start() & Re.end()#\n",
    "import re\n",
    "s = input()\n",
    "k = input()\n",
    "pat = re.finditer(f'(?=({k}))',s)\n",
    "lst = [(x.start(),x.end()+len(k)-1) for x in pat]\n",
    "if lst:\n",
    "    print(*lst,sep='\\n')\n",
    "else:\n",
    "    print((-1,-1))"
   ]
  },
  {
   "cell_type": "code",
   "execution_count": 9,
   "id": "b142de39",
   "metadata": {},
   "outputs": [
    {
     "name": "stdout",
     "output_type": "stream",
     "text": [
      "1\n",
      "a = 1; b = input();  if a + b > 0 && a - b < 0:     start() elif a*b > 10 || a/b < 1:     stop() print set(list(a)) | set(list(b))  #Note do not change &&& or ||| or & or | #Only change those '&&' which have space on both sides. #Only change those '|| which have space on both sides.\n",
      "a = 1; b = input();  if a + b > 0 and a - b < 0:     start() elif a*b > 10 or a/b < 1:     stop() print set(list(a)) | set(list(b))  #Note do not change &&& or ||| or & or | #Only change those '&&' which have space on both sides. #Only change those '|| which have space on both sides.\n"
     ]
    }
   ],
   "source": [
    " # Problem_6 HackerRank\n",
    "#solution #Regex Substitution#\n",
    "\n",
    "import re\n",
    "\n",
    "N = int(input())\n",
    "\n",
    "for _ in range(N):\n",
    "    line = input()\n",
    "    line = re.sub(\"(?<= )&&(?= )\", \"and\", line)\n",
    "    line = re.sub(\"(?<= )\\|\\|(?= )\", \"or\", line)\n",
    "    print(line)\n",
    "    "
   ]
  },
  {
   "cell_type": "code",
   "execution_count": 11,
   "id": "4557a91a",
   "metadata": {},
   "outputs": [
    {
     "name": "stdout",
     "output_type": "stream",
     "text": [
      "CDXXI\n",
      "True\n"
     ]
    }
   ],
   "source": [
    " # Problem_7 HackerRank\n",
    "#solution #Validating Roman Numerals#\n",
    "regex_pattern = r\"^M{0,3}(?:CM|D|CD|D?C{0,3})?(?:XC|L|XL|L?X{0,3})?(?:IX|V|IV|V?I{0,3})?$\"\t# Do not delete 'r'.\n",
    "import re\n",
    "print(str(bool(re.match(regex_pattern, input()))))"
   ]
  },
  {
   "cell_type": "code",
   "execution_count": 19,
   "id": "131331bf",
   "metadata": {},
   "outputs": [
    {
     "name": "stdout",
     "output_type": "stream",
     "text": [
      "3\n",
      "4568923175\n",
      "7879658899\n",
      "9425689500\n",
      "NO\n",
      "YES\n",
      "YES\n"
     ]
    }
   ],
   "source": [
    " # Problem_8 HackerRank\n",
    "#solution #Validating phone numbers#\n",
    "import re\n",
    "numbers = [input() for i in range(int(input()))]\n",
    "regex = re.compile(r\"^(7|8|9)([0-9]){9}$\")\n",
    "for number in numbers:\n",
    "    if regex.match(number):\n",
    "        print('YES')\n",
    "    else:\n",
    "        print('NO')"
   ]
  },
  {
   "cell_type": "code",
   "execution_count": 16,
   "id": "ef1f4c4f",
   "metadata": {},
   "outputs": [
    {
     "name": "stdout",
     "output_type": "stream",
     "text": [
      "2\n",
      "DEXTER <dexter@hotmail.com> \n",
      "VIRUS <virus!@variable.:p>\n"
     ]
    }
   ],
   "source": [
    " # Problem_9 HackerRank\n",
    "#solution #Validating and Parsing Email Addresses#\n",
    "import re \n",
    "reg = re.compile(r'^[\\w]+ <[a-zA-Z][\\w\\-.]+@[a-zA-Z]+\\.[a-z]{1,3}>$')\n",
    "for _ in range(int(input())):\n",
    "        if re.match(reg, x:= input()):\n",
    "                print(x)"
   ]
  },
  {
   "cell_type": "code",
   "execution_count": 22,
   "id": "d46429bb",
   "metadata": {},
   "outputs": [
    {
     "name": "stdout",
     "output_type": "stream",
     "text": [
      "1\n",
      "#BED {     color: #FfFdF8; background-color:#aef;     font-size: 123px;     background: -webkit-linear-gradient(top, #f9f9f9, #fff); } #Cab {     background-color: #ABC;     border: 2px dashed #fff; }   \n"
     ]
    }
   ],
   "source": [
    " # Problem_10 HackerRank\n",
    "#solution #Hex Color Code#\n",
    "import re\n",
    "\n",
    "for i in range(int(input())):\n",
    "\n",
    "    s=input()\n",
    "    c=re.findall(r\"#[0-9a-fA-F]{6}|#[0-9a-fA-F]{3}\",s)\n",
    "    if(len(c)!=0 and s[0]!='#'):\n",
    "        for i in c:\n",
    "            print(i)"
   ]
  },
  {
   "cell_type": "code",
   "execution_count": 23,
   "id": "512727f8",
   "metadata": {},
   "outputs": [
    {
     "name": "stdout",
     "output_type": "stream",
     "text": [
      "1\n",
      "<html><head><title>HTML Parser - I</title></head>\n",
      "Start : html\n",
      "Start : head\n",
      "Start : title\n",
      "End   : title\n",
      "End   : head\n"
     ]
    }
   ],
   "source": [
    " # Problem_11 HackerRank\n",
    "#solution #HTML Parser - Part 1#\n",
    "from html.parser import HTMLParser\n",
    "class MyHTMLParser(HTMLParser):\n",
    "    def handle_starttag(self, tag, attrs):\n",
    "        print(\"Start :\", tag)\n",
    "        if len(attrs)>0:\n",
    "            for i in range(len(attrs)):\n",
    "                print(\"->\",attrs[i][0],'>',attrs[i][1])\n",
    "    def handle_endtag(self, tag):\n",
    "        print(\"End   :\", tag)\n",
    "    def handle_startendtag(self, tag, attrs):\n",
    "        print(\"Empty :\", tag)\n",
    "        if len(attrs)>0:\n",
    "            for i in range(len(attrs)):\n",
    "                print(\"->\",attrs[i][0],'>',attrs[i][1])\n",
    "        \n",
    "parser = MyHTMLParser()\n",
    "for i in range(int(input())):\n",
    "    a=input()   \n",
    "    parser.feed(a)"
   ]
  },
  {
   "cell_type": "code",
   "execution_count": 24,
   "id": "16c44a57",
   "metadata": {},
   "outputs": [
    {
     "name": "stdout",
     "output_type": "stream",
     "text": [
      "2\n",
      "<!--[if IE 9]>IE9-specific content\n",
      "<div> Welcome to HackerRank</div>\n",
      ">>> Data\n",
      "<!--[if IE 9]>\n",
      ">>> Data\n",
      "IE9-specific content\n",
      "\n",
      ">>> Data\n",
      " Welcome to HackerRank\n"
     ]
    }
   ],
   "source": [
    " # Problem_12 HackerRank\n",
    "#solution #HTML Parser - Part 2#\n",
    "from html.parser import HTMLParser\n",
    "\n",
    "class MyHTMLParser(HTMLParser):\n",
    "    def handle_comment(self, data):\n",
    "        if '\\n' in data:\n",
    "            print('>>> Multi-line Comment', data, sep='\\n')\n",
    "        else:\n",
    "            print('>>> Single-line Comment', data, sep='\\n')\n",
    "    def handle_data(self, data):\n",
    "        if data != '\\n':\n",
    "            print('>>> Data', data, sep='\\n')\n",
    "  \n",
    "html = \"\"       \n",
    "for i in range(int(input())):\n",
    "    html += input().rstrip()\n",
    "    html += '\\n'\n",
    "    \n",
    "parser = MyHTMLParser()\n",
    "parser.feed(html)\n",
    "parser.close()"
   ]
  },
  {
   "cell_type": "code",
   "execution_count": 25,
   "id": "aa5b94d2",
   "metadata": {},
   "outputs": [
    {
     "name": "stdout",
     "output_type": "stream",
     "text": [
      "1\n",
      "<head> <title>HTML</title> </head> <object type=\"application/x-flash\"    data=\"your-file.swf\"    width=\"0\" height=\"0\">   <!-- <param name=\"movie\" value=\"your-file.swf\" /> -->   <param name=\"quality\" value=\"high\"/> </object>\n",
      "head\n",
      "title\n",
      "object\n",
      "-> type > application/x-flash\n",
      "-> data > your-file.swf\n",
      "-> width > 0\n",
      "-> height > 0\n",
      "param\n",
      "-> name > quality\n",
      "-> value > high\n"
     ]
    }
   ],
   "source": [
    " # Problem_13 HackerRank\n",
    "#solution #Detect HTML Tags, Attributes and Attribute Values#\n",
    "from html.parser import HTMLParser\n",
    "\n",
    "class MyHTMLParser(HTMLParser):\n",
    "    def handle_starttag(self,tag,attrs):\n",
    "        print(tag)\n",
    "        for ele in attrs:\n",
    "            print('->',ele[0],'>',ele[1])\n",
    "   \n",
    " \n",
    "parser=MyHTMLParser()\n",
    "for _ in range(int(input())):\n",
    "    parser.feed(input())"
   ]
  },
  {
   "cell_type": "code",
   "execution_count": 27,
   "id": "8320c468",
   "metadata": {},
   "outputs": [
    {
     "name": "stdout",
     "output_type": "stream",
     "text": [
      "2\n",
      "fragr\n",
      "Invalid\n",
      "756fra\n",
      "Invalid\n"
     ]
    }
   ],
   "source": [
    " # Problem_14 HackerRank\n",
    "#solution #Validating UID#\n",
    "import re\n",
    "\n",
    "good_patterns = [\n",
    "    r'^[0-9A-Za-z]{10}$',   \n",
    "    r'[A-Z].*[A-Z]',        \n",
    "    r'\\d.*\\d.*\\d',         \n",
    "]\n",
    "bad_patterns = [\n",
    "    r'(.).*\\1',            \n",
    "]\n",
    "for _ in range(int(input())):\n",
    "    s = input()\n",
    "    print(['Invalid', 'Valid']\n",
    "        [all(re.search(p, s) for p in good_patterns) \n",
    "        and not any(re.search(p, s) for p in bad_patterns)]\n",
    "    ) "
   ]
  },
  {
   "cell_type": "code",
   "execution_count": 28,
   "id": "50535751",
   "metadata": {},
   "outputs": [
    {
     "name": "stdout",
     "output_type": "stream",
     "text": [
      "2\n",
      "5869-596-486-5852\n",
      "Invalid\n",
      "4586-5395-4256-2686\n",
      "Valid\n"
     ]
    }
   ],
   "source": [
    " # Problem_15 HackerRank\n",
    "#solution #Validating Credit Card Numbers#\n",
    "import re\n",
    "\n",
    "def validCard(num):\n",
    "    if all([\n",
    "        re.match('^[456]', num),\n",
    "        re.match('^\\d{4}(-?\\d{4}){3}$', num),\n",
    "        not re.findall(r'(\\d)\\1\\1\\1', re.sub('-', '', num))\n",
    "    ]):\n",
    "        return True\n",
    "    else:\n",
    "        return False\n",
    "\n",
    "for _ in range(int(input())):\n",
    "    if validCard(input()):\n",
    "        print('Valid')\n",
    "    else:\n",
    "        print('Invalid')"
   ]
  },
  {
   "cell_type": "code",
   "execution_count": 30,
   "id": "48226120",
   "metadata": {},
   "outputs": [
    {
     "name": "stdout",
     "output_type": "stream",
     "text": [
      "1\n",
      "False\n"
     ]
    }
   ],
   "source": [
    " # Problem_16 HackerRank\n",
    "#solution #Validating Postal Codes#\n",
    "regex_integer_in_range =  r'^[1-9][0-9]{5}$'\n",
    "regex_alternating_repetitive_digit_pair = r'(\\d)(?=\\d\\1)'\n",
    "\n",
    "\n",
    "import re\n",
    "P = input()\n",
    "\n",
    "print (bool(re.match(regex_integer_in_range, P)) \n",
    "and len(re.findall(regex_alternating_repetitive_digit_pair, P)) < 2)"
   ]
  },
  {
   "cell_type": "code",
   "execution_count": null,
   "id": "110f9c9d",
   "metadata": {},
   "outputs": [],
   "source": [
    " # Problem_17 HackerRank\n",
    "#solution #Matrix Script#\n",
    "\n",
    "import math\n",
    "import os\n",
    "import random\n",
    "import re\n",
    "import sys\n",
    "\n",
    "first_multiple_input = input().rstrip().split()\n",
    "\n",
    "n = int(first_multiple_input[0])\n",
    "\n",
    "m = int(first_multiple_input[1])\n",
    "\n",
    "matrix = []\n",
    "\n",
    "for _ in range(n):\n",
    "    matrix_item = input()\n",
    "    matrix.append(matrix_item)\n",
    "\n",
    "string = \"\"\n",
    "for i in range(m):\n",
    "    for j in range(n):\n",
    "        string += (matrix[j][i])\n",
    " \n",
    "string = re.sub(r\"\\b\\W+\\b\", \" \", string)\n",
    "\n",
    "print(string)\n",
    "\n",
    "for _ in range(n):\n",
    "    matrix_item = input()\n",
    "    matrix.append(matrix_item)\n"
   ]
  },
  {
   "cell_type": "code",
   "execution_count": null,
   "id": "714c0418",
   "metadata": {},
   "outputs": [],
   "source": []
  }
 ],
 "metadata": {
  "kernelspec": {
   "display_name": "Python 3 (ipykernel)",
   "language": "python",
   "name": "python3"
  },
  "language_info": {
   "codemirror_mode": {
    "name": "ipython",
    "version": 3
   },
   "file_extension": ".py",
   "mimetype": "text/x-python",
   "name": "python",
   "nbconvert_exporter": "python",
   "pygments_lexer": "ipython3",
   "version": "3.9.12"
  }
 },
 "nbformat": 4,
 "nbformat_minor": 5
}
