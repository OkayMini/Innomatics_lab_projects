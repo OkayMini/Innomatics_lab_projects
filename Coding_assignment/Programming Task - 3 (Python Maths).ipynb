{
 "cells": [
  {
   "cell_type": "markdown",
   "id": "c2b93626",
   "metadata": {},
   "source": [
    "Programming Task - 3 (Python maths)"
   ]
  },
  {
   "cell_type": "code",
   "execution_count": 1,
   "id": "29bbc60d",
   "metadata": {},
   "outputs": [],
   "source": [
    "# Problem_1 HackerRank\n",
    "#solution #Polar Coordinates#\n",
    "import cmath\n",
    "\n",
    "c = complex(input().strip())\n",
    "lis = cmath.polar(c)\n",
    "for i in lis:\n",
    "    print(i)"
   ]
  },
  {
   "cell_type": "code",
   "execution_count": 10,
   "id": "f2043b10",
   "metadata": {},
   "outputs": [
    {
     "name": "stdout",
     "output_type": "stream",
     "text": [
      "45\n",
      "5\n",
      "84°\n"
     ]
    }
   ],
   "source": [
    "# Problem_2 HackerRank\n",
    "#solution #Find Angle MBC#\n",
    "import math\n",
    "len_AB = int(input())\n",
    "len_BC = int(input())\n",
    "\n",
    "theta = round(math.degrees(math.atan(len_AB/len_BC)))\n",
    "\n",
    "print(theta, chr(176), sep = '')\n"
   ]
  },
  {
   "cell_type": "code",
   "execution_count": 3,
   "id": "fb24acc7",
   "metadata": {},
   "outputs": [],
   "source": [
    "# Problem_3 HackerRank\n",
    "#solution #Triangle Quest#\n",
    "for i in range(1,int(input())): #More than 2 lines will result in 0 score. Do not leave a blank line also\n",
    "    print((pow(10,i)//9)*i)"
   ]
  },
  {
   "cell_type": "code",
   "execution_count": null,
   "id": "1b4d0c0a",
   "metadata": {},
   "outputs": [],
   "source": [
    "# Problem_4 HackerRank\n",
    "#solution #Triangle Quest2#\n",
    "for i in range(1,int(input())+1): #More than 2 lines will result in 0 score. Do not leave a blank line also\n",
    "   print((pow(10,i)//9)**2)"
   ]
  },
  {
   "cell_type": "code",
   "execution_count": 4,
   "id": "77257b4f",
   "metadata": {},
   "outputs": [],
   "source": [
    "# Problem_5 HackerRank\n",
    "#solution #Mod Divmod#\n",
    "\n",
    "a = int(input())\n",
    "b = int(input())\n",
    "\n",
    "ans = tuple(divmod(a,b))\n",
    "print(a//b)\n",
    "print(a%b)\n",
    "print(ans)"
   ]
  },
  {
   "cell_type": "code",
   "execution_count": 5,
   "id": "17dd5ebe",
   "metadata": {},
   "outputs": [],
   "source": [
    "# Problem_6 HackerRank\n",
    "#solution #Power - Mod Power#\n",
    "a = int(input())\n",
    "b = int(input())\n",
    "m = int(input())\n",
    "\n",
    "print(pow(a,b),pow(a,b,m),sep='\\n')"
   ]
  },
  {
   "cell_type": "code",
   "execution_count": 6,
   "id": "886dc4bc",
   "metadata": {},
   "outputs": [],
   "source": [
    "# Problem_7 HackerRank\n",
    "#solution #Integers Come In All Sizes#\n",
    "a = int(input())\n",
    "b = int(input())\n",
    "c = int(input())\n",
    "d = int(input())\n",
    "\n",
    "result = pow(a,b) + pow(c,d)\n",
    "\n",
    "print(result)"
   ]
  }
 ],
 "metadata": {
  "kernelspec": {
   "display_name": "Python 3 (ipykernel)",
   "language": "python",
   "name": "python3"
  },
  "language_info": {
   "codemirror_mode": {
    "name": "ipython",
    "version": 3
   },
   "file_extension": ".py",
   "mimetype": "text/x-python",
   "name": "python",
   "nbconvert_exporter": "python",
   "pygments_lexer": "ipython3",
   "version": "3.9.12"
  }
 },
 "nbformat": 4,
 "nbformat_minor": 5
}
