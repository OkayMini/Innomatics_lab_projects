{
 "cells": [
  {
   "cell_type": "markdown",
   "id": "92554d39",
   "metadata": {},
   "source": [
    "Programming Task - 4 (Basic Python - Strings)"
   ]
  },
  {
   "cell_type": "code",
   "execution_count": 1,
   "id": "2a29cff7",
   "metadata": {},
   "outputs": [],
   "source": [
    "# Problem_1 HackerRank\n",
    "#solution #What's Your Name?#\n",
    "def print_full_name(first, last):\n",
    "    print(f\"Hello {first} {last}! You just delved into python.\")\n",
    "\n",
    "if __name__ == '__main__':"
   ]
  },
  {
   "cell_type": "code",
   "execution_count": 2,
   "id": "fd7aaede",
   "metadata": {},
   "outputs": [],
   "source": [
    "# Problem_2 HackerRank\n",
    "#solution #String split and join#\n",
    "def split_and_join(line):\n",
    "    lis = line.split(\" \")\n",
    "    result=  \"-\".join(lis)\n",
    "    return result\n",
    "\n",
    "if __name__ == '__main__':\n",
    "    line = input()\n",
    "    result = split_and_join(line)\n",
    "    print(result)\n"
   ]
  },
  {
   "cell_type": "code",
   "execution_count": null,
   "id": "083c0e9d",
   "metadata": {},
   "outputs": [],
   "source": [
    "# Problem_3 HackerRank\n",
    "#solution #Find a string#\n",
    "def count_substring(string, sub_string):\n",
    "    c=0\n",
    "    l = len(sub_string)\n",
    "    for i in range(len(string)):\n",
    "        s = string[i:i+l]\n",
    "        if s == sub_string:\n",
    "            c+=1 \n",
    "    return c\n",
    "\n",
    "if __name__ == '__main__':\n",
    "    string = input().strip()\n",
    "    sub_string = input().strip()\n",
    "    \n",
    "    count = count_substring(string, sub_string)\n",
    "    print(count)\n"
   ]
  },
  {
   "cell_type": "code",
   "execution_count": null,
   "id": "2fce488f",
   "metadata": {},
   "outputs": [],
   "source": [
    "# Problem_4 HackerRank\n",
    "#solution #Mutation#\n",
    "def mutate_string(string, position, character):\n",
    "    ans = string[:position] + character + string[position+1:]\n",
    "    return ans\n",
    "\n",
    "if __name__ == '__main__':\n",
    "    s = input()\n",
    "    i, c = input().split()\n",
    "    s_new = mutate_string(s, int(i), c)\n",
    "    print(s_new)"
   ]
  },
  {
   "cell_type": "code",
   "execution_count": null,
   "id": "a4416ae5",
   "metadata": {},
   "outputs": [],
   "source": [
    "# Problem_5 HackerRank\n",
    "#solution #String Validators#\n",
    "if __name__ == '__main__':\n",
    "    s = input()\n",
    "    \n",
    "    a=b=c=d=e=0\n",
    "    for i in s:\n",
    "        if i.isalnum():\n",
    "            a+=1\n",
    "        if i.isalpha():\n",
    "            b+=1\n",
    "        if i.isdigit():\n",
    "            c+=1\n",
    "        if i.islower():\n",
    "            d+=1\n",
    "        if i.isupper():\n",
    "            e+=1\n",
    "            \n",
    "    for i in [a,b,c,d,e]:\n",
    "        if i>0:\n",
    "            print(True)\n",
    "        else:\n",
    "            print(False)"
   ]
  },
  {
   "cell_type": "code",
   "execution_count": null,
   "id": "9f5b2021",
   "metadata": {},
   "outputs": [],
   "source": [
    "# Problem_6 HackerRank\n",
    "#solution #Capitalize#\n",
    "# Complete the solve function below.\n",
    "def solve(s):\n",
    "    return ' '.join(i.capitalize() for i in s.split(' '))\n",
    "    \n",
    "if __name__ == '__main__':\n",
    "    fptr = open(os.environ['OUTPUT_PATH'], 'w')\n",
    "    s = input()\n",
    "    result = solve(s)\n",
    "    fptr.write(result + '\\n')\n",
    "    fptr.close()\n"
   ]
  },
  {
   "cell_type": "code",
   "execution_count": null,
   "id": "34f022bc",
   "metadata": {},
   "outputs": [],
   "source": [
    "# Problem_7 HackerRank\n",
    "#solution #sWAP cASES#\n",
    "def swap_case(s):\n",
    "    sw = s.swapcase()\n",
    "    return sw\n",
    "\n",
    "if __name__ == '__main__':\n",
    "    s = input()\n",
    "    result = swap_case(s)\n",
    "    print(result)"
   ]
  },
  {
   "cell_type": "code",
   "execution_count": null,
   "id": "9b09dcf2",
   "metadata": {},
   "outputs": [],
   "source": [
    "# Problem_8 HackerRank\n",
    "#solution #Text Alignment#\n",
    "\n",
    "thickness = int(input()) #This must be an odd number\n",
    "c = 'H'\n",
    "\n",
    "#Top Cone\n",
    "for i in range(thickness):\n",
    "    print((c*i).rjust(thickness-1)+c+(c*i).ljust(thickness-1))\n",
    "\n",
    "#Top Pillars\n",
    "for i in range(thickness+1):\n",
    "    print((c*thickness).center(thickness*2)+(c*thickness).center(thickness*6))\n",
    "\n",
    "#Middle Belt\n",
    "for i in range((thickness+1)//2):\n",
    "    print((c*thickness*5).center(thickness*6))    \n",
    "\n",
    "#Bottom Pillars\n",
    "for i in range(thickness+1):\n",
    "    print((c*thickness).center(thickness*2)+(c*thickness).center(thickness*6))    \n",
    "\n",
    "#Bottom Cone\n",
    "for i in range(thickness):\n",
    "    print(((c*(thickness-i-1)).rjust(thickness)+c+(c*(thickness-i-1)).ljust(thickness)).rjust(thickness*6))\n",
    "    \n",
    "    "
   ]
  },
  {
   "cell_type": "code",
   "execution_count": null,
   "id": "45a8f06a",
   "metadata": {},
   "outputs": [],
   "source": [
    "# Problem_9 HackerRank\n",
    "#solution #Text Wrap#\n",
    "import textwrap\n",
    "\n",
    "def wrap(string, max_width):\n",
    "    \"\"\"s = []\n",
    "    l = len(string) % max_width\n",
    "    for i in range(0,len(string)):\n",
    "        if i % max_width == 0 :\n",
    "            s.append(string[i:i +max_width ]) \n",
    "    \n",
    "    return('\\n'.join(s))\"\"\"\n",
    "    return textwrap.fill(string,max_width)\n",
    "\n",
    "if __name__ == '__main__':\n",
    "    string, max_width = input(), int(input())\n",
    "    result = wrap(string, max_width)\n",
    "    print(result)"
   ]
  },
  {
   "cell_type": "code",
   "execution_count": 2,
   "id": "98bda5e6",
   "metadata": {
    "scrolled": true
   },
   "outputs": [
    {
     "name": "stdout",
     "output_type": "stream",
     "text": [
      "5 27\n",
      "------------.|.------------\n",
      "---------.|..|..|.---------\n",
      "----------WELCOME----------\n",
      "---------.|..|..|.---------\n",
      "------------.|.------------\n"
     ]
    }
   ],
   "source": [
    "# Problem_10 HackerRank\n",
    "#solution #Designer Door Mat#\n",
    "M,N = map(int, input().split(' '))\n",
    "\n",
    "for i in range(1,M,2):\n",
    "    print((\".|.\"*i).center(N,\"-\"))\n",
    "\n",
    "print (\"WELCOME\".center(N,'-'))\n",
    "\n",
    "for i in range(M-2,-1,-2):\n",
    "    print((\".|.\"*i).center(N,'-'))\n",
    "    "
   ]
  },
  {
   "cell_type": "code",
   "execution_count": null,
   "id": "3badb659",
   "metadata": {},
   "outputs": [],
   "source": [
    "# Problem_11 HackerRank\n",
    "#solution #String Formatting#\n",
    "def print_formatted(number):\n",
    "    length = len(bin(number)[2:])\n",
    "    for i in range(1, (number+1)):\n",
    "        print(str(i).rjust(length), oct(i)[2:].rjust(length), hex(i)[2:].upper().rjust(length), bin(i)[2:].rjust(length))\n",
    "\n",
    "if __name__ == '__main__':\n",
    "    n = int(input())\n",
    "    print_formatted(n)\n"
   ]
  },
  {
   "cell_type": "code",
   "execution_count": 17,
   "id": "c1c3d22b",
   "metadata": {},
   "outputs": [
    {
     "name": "stdout",
     "output_type": "stream",
     "text": [
      "--------e--------\n",
      "-------e-e-------\n",
      "------e-d-e------\n",
      "-----e-d-c-e-----\n",
      "----e-d-c-b-e----\n",
      "-----e-d-c-e-----\n",
      "------e-d-e------\n",
      "-------e-e-------\n",
      "--------e--------\n"
     ]
    }
   ],
   "source": [
    "# Problem_12 HackerRank\n",
    "#solution #Alphabet Rangoli#\n",
    "def print_rangoli(size: int):\n",
    "    pattern = '-'.join(chr(ch) for ch in reversed(range(ord('a'), ord('a') + size)))\n",
    "    layers = []\n",
    "    for limit in range(1, size * 2, 2):\n",
    "        layer = f'{pattern[:limit]}{pattern[:limit - 1][::-1]}'\n",
    "        layers.append(f'{layer:-^{size * 4 - 3}}')\n",
    "        print(layers[-1])\n",
    "    print('\\n'.join(reversed(layers[:-1])))\n",
    "\n",
    "\n",
    "if __name__ == '__main__':\n",
    "    n = int(input())\n",
    "    print_rangoli(n)"
   ]
  },
  {
   "cell_type": "code",
   "execution_count": 10,
   "id": "984576fa",
   "metadata": {},
   "outputs": [],
   "source": [
    "# Problem_13 HackerRank\n",
    "#solution #The Minion Game#\n",
    "def minion_game(string):\n",
    "    vowels = ['A', 'E', 'I', 'O', 'U']\n",
    "    a = 0\n",
    "    b = 0\n",
    "    for i, c in enumerate(s):\n",
    "        if c in vowels:\n",
    "            b += len(s) - i\n",
    "        else:\n",
    "            a += len(s) - i\n",
    "            \n",
    "    if a == b:\n",
    "        print (\"Draw\")\n",
    "    elif a > b:\n",
    "        print ('Stuart {}'.format(a))\n",
    "    else:\n",
    "        print ('Kevin {}'.format(b))\n",
    "        \n",
    "    \n",
    "\n",
    "if __name__ == '__main__':\n",
    "    s = input()\n",
    "    minion_game(s)"
   ]
  },
  {
   "cell_type": "code",
   "execution_count": 11,
   "id": "cc8cc1e4",
   "metadata": {},
   "outputs": [],
   "source": [
    "# Problem_14 HackerRank\n",
    "#solution #Merge the Tools!#\n",
    "def merge_the_tools(string, k):\n",
    "    for part in zip(*[iter(string)] * k):\n",
    "        d = dict()\n",
    "        print(''.join([ d.setdefault(c, c) for c in part if c not in d ]))\n",
    "\n",
    "if __name__ == '__main__':\n",
    "    string, k = input(), int(input())\n",
    "    merge_the_tools(string, k)\n"
   ]
  }
 ],
 "metadata": {
  "kernelspec": {
   "display_name": "Python 3 (ipykernel)",
   "language": "python",
   "name": "python3"
  },
  "language_info": {
   "codemirror_mode": {
    "name": "ipython",
    "version": 3
   },
   "file_extension": ".py",
   "mimetype": "text/x-python",
   "name": "python",
   "nbconvert_exporter": "python",
   "pygments_lexer": "ipython3",
   "version": "3.9.12"
  }
 },
 "nbformat": 4,
 "nbformat_minor": 5
}
